{
 "cells": [
  {
   "cell_type": "markdown",
   "metadata": {},
   "source": [
    "Use this notebook to alter column values in the scraped data in order to create a diffed version of the data that can be used to test the updating functionality."
   ]
  },
  {
   "cell_type": "code",
   "execution_count": 66,
   "metadata": {},
   "outputs": [],
   "source": [
    "import numpy as np\n",
    "import pandas as pd\n",
    "\n",
    "np.random.seed(618)"
   ]
  },
  {
   "cell_type": "code",
   "execution_count": 67,
   "metadata": {},
   "outputs": [
    {
     "data": {
      "text/plain": [
       "['Panel complaint data scraped',\n",
       " 'EIB complaint data scraped',\n",
       " 'MICI complaint data scraped',\n",
       " 'CAO complaint data scraped',\n",
       " 'ADB complaint data scraped']"
      ]
     },
     "execution_count": 67,
     "metadata": {},
     "output_type": "execute_result"
    }
   ],
   "source": [
    "xl = pd.ExcelFile('../Data/Complaint_Data_Scraped.xlsx')\n",
    "sheetnames = xl.sheet_names\n",
    "sheetnames"
   ]
  },
  {
   "cell_type": "code",
   "execution_count": 68,
   "metadata": {},
   "outputs": [
    {
     "name": "stdout",
     "output_type": "stream",
     "text": [
      "Panel (122, 31)\n",
      "Index(['IAM', 'Year', 'Country', 'Project', 'ID', 'IAM ID', 'Filer(s)',\n",
      "       'Environmental Category', 'Project Company', 'Project Number',\n",
      "       'Related Project Number', 'Project Type', 'Financial Institution',\n",
      "       'Project Loan Amount', 'Sector', 'Issues', 'Complaint Status',\n",
      "       'Filing Date', 'Registration Start Date', 'Registration End Date',\n",
      "       'Eligibility Start Date', 'Eligibility End Date',\n",
      "       'Dispute Resolution Start Date', 'Dispute Resolution End Date',\n",
      "       'Compliance Review Start Date', 'Compliance Review End Date',\n",
      "       'Monitoring Start Date', 'Monitoring End Date', 'Date Closed',\n",
      "       'Documents', 'Hyperlink'],\n",
      "      dtype='object') \n",
      " ****************************************\n",
      "EIB (197, 31)\n",
      "Index(['IAM', 'Year', 'Country', 'Project', 'ID', 'IAM ID', 'Filer(s)',\n",
      "       'Environmental Category', 'Project Company', 'Project Number',\n",
      "       'Related Project Number', 'Project Type', 'Financial Institution',\n",
      "       'Project Loan Amount', 'Sector', 'Issues', 'Complaint Status',\n",
      "       'Filing Date', 'Registration Start Date', 'Registration End Date',\n",
      "       'Eligibility Start Date', 'Eligibility End Date',\n",
      "       'Dispute Resolution Start Date', 'Dispute Resolution End Date',\n",
      "       'Compliance Review Start Date', 'Compliance Review End Date',\n",
      "       'Monitoring Start Date', 'Monitoring End Date', 'Date Closed',\n",
      "       'Documents', 'Hyperlink'],\n",
      "      dtype='object') \n",
      " ****************************************\n",
      "MICI (45, 32)\n",
      "Index(['IAM', 'Hyperlink', 'Year', 'Country', 'Project', 'ID', 'IAM ID',\n",
      "       'Filer(s)', 'Environmental Category', 'Project Company',\n",
      "       'Project Number', 'Related Project Number', 'Project Type',\n",
      "       'Financial Institution', 'Project Loan Amount', 'Sector', 'Issues',\n",
      "       'Complaint Status', 'Filing Date', 'Registration Start Date',\n",
      "       'Registration End Date', 'Eligibility Start Date',\n",
      "       'Eligibility End Date', 'Dispute Resolution Start Date',\n",
      "       'Dispute Resolution End Date', 'Compliance Review Start Date',\n",
      "       'Compliance Review End Date', 'Monitoring Start Date',\n",
      "       'Monitoring End Date', 'Date Closed', 'Documents',\n",
      "       'Hyperlink [CORRECT]'],\n",
      "      dtype='object') \n",
      " ****************************************\n",
      "CAO (172, 31)\n",
      "Index(['IAM', 'Year', 'Country', 'Project', 'ID', 'IAM ID', 'Filer(s)',\n",
      "       'Environmental Category', 'Project Company', 'Project Number',\n",
      "       'Related Project Number', 'Project Type', 'Financial Institution',\n",
      "       'Project Loan Amount', 'Sector', 'Issues', 'Complaint Status',\n",
      "       'Filing Date', 'Registration Start Date', 'Registration End Date',\n",
      "       'Eligibility Start Date', 'Eligibility End Date',\n",
      "       'Dispute Resolution Start Date', 'Dispute Resolution End Date',\n",
      "       'Compliance Review Start Date', 'Compliance Review End Date',\n",
      "       'Monitoring Start Date', 'Monitoring End Date', 'Date Closed',\n",
      "       'Documents', 'Hyperlink'],\n",
      "      dtype='object') \n",
      " ****************************************\n",
      "ADB (76, 7)\n",
      "Index(['IAM', 'Project Name', 'Project Number', 'Country', 'Project Status',\n",
      "       'Project Financing', 'Sector'],\n",
      "      dtype='object') \n",
      " ****************************************\n"
     ]
    }
   ],
   "source": [
    "dfs = {}\n",
    "for name in sheetnames:\n",
    "    df = xl.parse(name)\n",
    "    dfs[name.split()[0]] = df\n",
    "    print(name.split()[0],df.shape)\n",
    "    print(df.columns,'\\n','*'*40)"
   ]
  },
  {
   "cell_type": "markdown",
   "metadata": {},
   "source": [
    "Below I select columns that would likely get updates, leaving the ADB data alone as a \"no change\" benchmark."
   ]
  },
  {
   "cell_type": "code",
   "execution_count": 77,
   "metadata": {},
   "outputs": [],
   "source": [
    "to_permute = {'Panel': ['Filing Date', 'Date Closed'], \n",
    "              'EIB': ['Dispute Resolution End Date', 'Documents'],\n",
    "              'MICI': ['Compliance Review Start Date', 'Date Closed'],\n",
    "              'CAO': ['Monitoring Start Date', 'Monitoring End Date']}"
   ]
  },
  {
   "cell_type": "code",
   "execution_count": 78,
   "metadata": {},
   "outputs": [
    {
     "name": "stdout",
     "output_type": "stream",
     "text": [
      "Panel Filing Date\n",
      "Panel Date Closed\n",
      "EIB Dispute Resolution End Date\n",
      "EIB Documents\n",
      "MICI Compliance Review Start Date\n",
      "MICI Date Closed\n",
      "CAO Monitoring Start Date\n",
      "CAO Monitoring End Date\n"
     ]
    }
   ],
   "source": [
    "for k, v in to_permute.items():\n",
    "    for x in v:\n",
    "        print(k, x)"
   ]
  },
  {
   "cell_type": "code",
   "execution_count": 60,
   "metadata": {},
   "outputs": [
    {
     "data": {
      "text/plain": [
       "0    Completed\n",
       "1    Completed\n",
       "2          NaN\n",
       "3          NaN\n",
       "4    Completed\n",
       "Name: Filing Date, dtype: object"
      ]
     },
     "execution_count": 60,
     "metadata": {},
     "output_type": "execute_result"
    }
   ],
   "source": [
    "dfs['Panel']['Filing Date'].head()"
   ]
  },
  {
   "cell_type": "code",
   "execution_count": 79,
   "metadata": {},
   "outputs": [
    {
     "name": "stdout",
     "output_type": "stream",
     "text": [
      "Permuting Filing Date in Panel\n",
      "Permuting Date Closed in Panel\n",
      "Permuting Dispute Resolution End Date in EIB\n",
      "Permuting Documents in EIB\n",
      "Permuting Compliance Review Start Date in MICI\n",
      "Permuting Date Closed in MICI\n",
      "Permuting Monitoring Start Date in CAO\n",
      "Permuting Monitoring End Date in CAO\n"
     ]
    }
   ],
   "source": [
    "for df, cols in to_permute.items():\n",
    "    for col in cols:\n",
    "        print('Permuting {} in {}'.format(col, df))\n",
    "        dfs[df][col] = np.random.permutation(dfs[df][col])"
   ]
  },
  {
   "cell_type": "code",
   "execution_count": 80,
   "metadata": {},
   "outputs": [
    {
     "data": {
      "text/plain": [
       "0          NaN\n",
       "1          NaN\n",
       "2    Completed\n",
       "3          NaN\n",
       "4          NaN\n",
       "Name: Filing Date, dtype: object"
      ]
     },
     "execution_count": 80,
     "metadata": {},
     "output_type": "execute_result"
    }
   ],
   "source": [
    "dfs['Panel']['Filing Date'].head()"
   ]
  },
  {
   "cell_type": "code",
   "execution_count": 81,
   "metadata": {},
   "outputs": [],
   "source": [
    "writer = pd.ExcelWriter('Complaint_Data_Scraped_diff.xlsx', engine='xlsxwriter',\n",
    "                        options={'strings_to_urls': False})\n",
    "\n",
    "dfs['Panel'].to_excel(writer, sheet_name='Panel complaint data scraped', index=False)\n",
    "dfs['EIB'].to_excel(writer, sheet_name='EIB complaint data scraped', index=False)\n",
    "dfs['MICI'].to_excel(writer, sheet_name='MICI complaint data scraped', index=False)\n",
    "dfs['CAO'].to_excel(writer, sheet_name='CAO complaint data scraped', index=False)\n",
    "dfs['ADB'].to_excel(writer, sheet_name='ADB complaint data scraped', index=False)\n",
    "\n",
    "writer.save()"
   ]
  }
 ],
 "metadata": {
  "kernelspec": {
   "display_name": "Python 3",
   "language": "python",
   "name": "python3"
  },
  "language_info": {
   "codemirror_mode": {
    "name": "ipython",
    "version": 3
   },
   "file_extension": ".py",
   "mimetype": "text/x-python",
   "name": "python",
   "nbconvert_exporter": "python",
   "pygments_lexer": "ipython3",
   "version": "3.6.4"
  }
 },
 "nbformat": 4,
 "nbformat_minor": 2
}
