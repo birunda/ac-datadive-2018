{
 "cells": [
  {
   "cell_type": "markdown",
   "metadata": {},
   "source": [
    "# Data Audit"
   ]
  },
  {
   "cell_type": "code",
   "execution_count": 76,
   "metadata": {
    "collapsed": true
   },
   "outputs": [],
   "source": [
    "import pandas as pd\n",
    "import numpy as np\n",
    "import scipy as sp \n",
    "import matplotlib as plt\n",
    "import matplotlib.pyplot as pltp\n",
    "import plotly.plotly as py \n",
    "import missingno as msno\n",
    "from statsmodels.graphics.mosaicplot import mosaic\n",
    "import seaborn as sns\n",
    "from collections import Counter\n",
    "from __future__ import print_function\n",
    "%matplotlib inline\n",
    "pd.set_option('max_rows',300)\n",
    "pd.set_option('max_columns',200)"
   ]
  },
  {
   "cell_type": "code",
   "execution_count": 17,
   "metadata": {},
   "outputs": [],
   "source": [
    "from general_helpers import *"
   ]
  },
  {
   "cell_type": "code",
   "execution_count": 31,
   "metadata": {
    "collapsed": false
   },
   "outputs": [],
   "source": [
    "# Load up data\n",
    "ac=pd.read_csv(\"../accountability_console_2018-02-24.csv\")\n",
    "\n",
    "ac_benchmarks = pd.read_csv(\"../ac_benchmarks_data_2018-05-11.csv\")\n",
    "\n",
    "datecols = ['Filing Date','Registration Date','Eligibility Date','Dispute Resolution Start','Dispute Resolution End','Compliance Review Start',\n",
    "            'Compliance Review End', 'Monitoring Start', 'Monitoring End','Date Closed' ]\n",
    "\n",
    "for col in datecols:\n",
    "    ac[col] = pd.to_datetime(ac[col])"
   ]
  },
  {
   "cell_type": "markdown",
   "metadata": {},
   "source": [
    "# Benchmark Data "
   ]
  },
  {
   "cell_type": "code",
   "execution_count": 36,
   "metadata": {},
   "outputs": [
    {
     "data": {
      "text/html": [
       "<div>\n",
       "<style scoped>\n",
       "    .dataframe tbody tr th:only-of-type {\n",
       "        vertical-align: middle;\n",
       "    }\n",
       "\n",
       "    .dataframe tbody tr th {\n",
       "        vertical-align: top;\n",
       "    }\n",
       "\n",
       "    .dataframe thead th {\n",
       "        text-align: right;\n",
       "    }\n",
       "</style>\n",
       "<table border=\"1\" class=\"dataframe\">\n",
       "  <thead>\n",
       "    <tr style=\"text-align: right;\">\n",
       "      <th></th>\n",
       "      <th>Category</th>\n",
       "      <th>Benchmark</th>\n",
       "      <th>AfDB IRM</th>\n",
       "      <th>ADB SPF CRP</th>\n",
       "      <th>EBRD PCM</th>\n",
       "      <th>EIB CM</th>\n",
       "      <th>IFC CAO</th>\n",
       "      <th>IDB MICI</th>\n",
       "      <th>OPIC OA</th>\n",
       "      <th>WB Panel</th>\n",
       "    </tr>\n",
       "  </thead>\n",
       "  <tbody>\n",
       "    <tr>\n",
       "      <th>0</th>\n",
       "      <td>Budget</td>\n",
       "      <td>Is the mechanism's budget approved by the Board?</td>\n",
       "      <td>No</td>\n",
       "      <td>Yes</td>\n",
       "      <td>No</td>\n",
       "      <td>NaN</td>\n",
       "      <td>NaN</td>\n",
       "      <td>Yes</td>\n",
       "      <td>NaN</td>\n",
       "      <td>Yes</td>\n",
       "    </tr>\n",
       "    <tr>\n",
       "      <th>1</th>\n",
       "      <td>Budget</td>\n",
       "      <td>Does the mechanism control its own budget?</td>\n",
       "      <td>Yes</td>\n",
       "      <td>No</td>\n",
       "      <td>Yes</td>\n",
       "      <td>Yes</td>\n",
       "      <td>Yes</td>\n",
       "      <td>Yes</td>\n",
       "      <td>No</td>\n",
       "      <td>Yes</td>\n",
       "    </tr>\n",
       "    <tr>\n",
       "      <th>2</th>\n",
       "      <td>Budget</td>\n",
       "      <td>May the mechanism request additional funds if ...</td>\n",
       "      <td>NaN</td>\n",
       "      <td>Yes</td>\n",
       "      <td>NaN</td>\n",
       "      <td>NaN</td>\n",
       "      <td>Yes</td>\n",
       "      <td>Yes</td>\n",
       "      <td>NaN</td>\n",
       "      <td>Yes</td>\n",
       "    </tr>\n",
       "    <tr>\n",
       "      <th>3</th>\n",
       "      <td>Compliance review findings or recommendations</td>\n",
       "      <td>May claimants make comments on draft recommend...</td>\n",
       "      <td>No</td>\n",
       "      <td>NaN</td>\n",
       "      <td>Yes</td>\n",
       "      <td>Yes</td>\n",
       "      <td>N/A no CR recs</td>\n",
       "      <td>Yes</td>\n",
       "      <td>No</td>\n",
       "      <td>NaN</td>\n",
       "    </tr>\n",
       "    <tr>\n",
       "      <th>4</th>\n",
       "      <td>Compliance review findings or recommendations</td>\n",
       "      <td>Are draft recommendations made available to cl...</td>\n",
       "      <td>No</td>\n",
       "      <td>NaN</td>\n",
       "      <td>Yes</td>\n",
       "      <td>Yes</td>\n",
       "      <td>N/A no CR recs</td>\n",
       "      <td>Yes</td>\n",
       "      <td>No</td>\n",
       "      <td>NaN</td>\n",
       "    </tr>\n",
       "  </tbody>\n",
       "</table>\n",
       "</div>"
      ],
      "text/plain": [
       "                                        Category  \\\n",
       "0                                         Budget   \n",
       "1                                         Budget   \n",
       "2                                         Budget   \n",
       "3  Compliance review findings or recommendations   \n",
       "4  Compliance review findings or recommendations   \n",
       "\n",
       "                                           Benchmark AfDB IRM ADB SPF CRP  \\\n",
       "0   Is the mechanism's budget approved by the Board?       No         Yes   \n",
       "1         Does the mechanism control its own budget?      Yes          No   \n",
       "2  May the mechanism request additional funds if ...      NaN         Yes   \n",
       "3  May claimants make comments on draft recommend...       No         NaN   \n",
       "4  Are draft recommendations made available to cl...       No         NaN   \n",
       "\n",
       "  EBRD PCM EIB CM         IFC CAO IDB MICI OPIC OA WB Panel  \n",
       "0       No    NaN             NaN      Yes     NaN      Yes  \n",
       "1      Yes    Yes             Yes      Yes      No      Yes  \n",
       "2      NaN    NaN             Yes      Yes     NaN      Yes  \n",
       "3      Yes    Yes  N/A no CR recs      Yes      No      NaN  \n",
       "4      Yes    Yes  N/A no CR recs      Yes      No      NaN  "
      ]
     },
     "execution_count": 36,
     "metadata": {},
     "output_type": "execute_result"
    }
   ],
   "source": [
    "ac_benchmarks.head()"
   ]
  },
  {
   "cell_type": "code",
   "execution_count": 38,
   "metadata": {},
   "outputs": [],
   "source": [
    "benchmark_melted = pd.melt(ac_benchmarks, id_vars=[\"Category\",'Benchmark'], \n",
    "                 var_name=\"BankAnswer\")"
   ]
  },
  {
   "cell_type": "code",
   "execution_count": 57,
   "metadata": {},
   "outputs": [],
   "source": [
    "benchmarks_grouped = pd.DataFrame(benchmark_melted.groupby(['Category','Benchmark'])['BankAnswer','value'].agg(lambda x: tuple(x))).reset_index()"
   ]
  },
  {
   "cell_type": "code",
   "execution_count": 58,
   "metadata": {},
   "outputs": [],
   "source": [
    "benchmarks_grouped['uniq_answers'] = [len(set(i)) for i in benchmarks_grouped['value'].tolist()]"
   ]
  },
  {
   "cell_type": "markdown",
   "metadata": {},
   "source": [
    "Lets keep only those rows where there are more than 1 answer (variance)"
   ]
  },
  {
   "cell_type": "code",
   "execution_count": 67,
   "metadata": {},
   "outputs": [],
   "source": [
    "benchmarks_grouped  = benchmarks_grouped[benchmarks_grouped.uniq_answers > 1]"
   ]
  },
  {
   "cell_type": "markdown",
   "metadata": {},
   "source": [
    "Lets code the answers as Yes/No/Missing/Other "
   ]
  },
  {
   "cell_type": "code",
   "execution_count": 89,
   "metadata": {},
   "outputs": [
    {
     "data": {
      "text/plain": [
       "['Unknown', 'Yes', 'Other', 'No']"
      ]
     },
     "execution_count": 89,
     "metadata": {},
     "output_type": "execute_result"
    }
   ],
   "source": [
    "def simplify_answers(answer_tuple):\n",
    "    simple_answers = ['Unknown','Yes','No','Other']\n",
    "    answer_tuple = list(set(answer_tuple))\n",
    "    answer_tuple = [i if pd.notnull(i) else 'Unknown' for i in answer_tuple]\n",
    "    answer_tuple = [i if i in simple_answers else 'Other' for i in answer_tuple]\n",
    "\n",
    "    return answer_tuple\n",
    "    \n",
    "simplify_answers(('Yes', 'No', 'Yes', 'Yes', 'Yes', 'Yes', 'No', 'Yes',np.nan, 'rando'))"
   ]
  },
  {
   "cell_type": "code",
   "execution_count": 92,
   "metadata": {},
   "outputs": [],
   "source": [
    "benchmarks_grouped.is_copy = False\n",
    "benchmarks_grouped['simple_answers'] = benchmarks_grouped['value'].apply(simplify_answers)"
   ]
  },
  {
   "cell_type": "code",
   "execution_count": 101,
   "metadata": {},
   "outputs": [],
   "source": [
    "bank_translate_s2l = {\n",
    "    'AfDB IRM':'African Development Bank',\n",
    "    'ADB SPF CRP':'Asian Development Bank',\n",
    "    'EBRD PCM':'European Bank for Reconstruction and Development',\n",
    "    'EIB CM':'European Investment Bank',\n",
    "    'IFC CAO':'IFC/MIGA',\n",
    "    'IDB MICI':'Inter-American Development Bank',\n",
    "    'OPIC OA':'Overseas Private Investment Corporation',\n",
    "    'WB Panel':'World Bank'\n",
    "}\n",
    "\n",
    "bank_translate_l2s = dict((v,k) for k,v in bank_translate_s2l.iteritems())\n"
   ]
  },
  {
   "cell_type": "code",
   "execution_count": 104,
   "metadata": {},
   "outputs": [],
   "source": [
    "benchmarks_grouped['master_label'] = benchmarks_grouped.apply(lambda row: row['Category'] + '_'+row['Benchmark'], axis=1)"
   ]
  },
  {
   "cell_type": "markdown",
   "metadata": {},
   "source": [
    "------------------------"
   ]
  },
  {
   "cell_type": "markdown",
   "metadata": {},
   "source": [
    "# Complaint Data "
   ]
  },
  {
   "cell_type": "code",
   "execution_count": 14,
   "metadata": {
    "collapsed": false
   },
   "outputs": [
    {
     "data": {
      "text/html": [
       "<div>\n",
       "<style scoped>\n",
       "    .dataframe tbody tr th:only-of-type {\n",
       "        vertical-align: middle;\n",
       "    }\n",
       "\n",
       "    .dataframe tbody tr th {\n",
       "        vertical-align: top;\n",
       "    }\n",
       "\n",
       "    .dataframe thead th {\n",
       "        text-align: right;\n",
       "    }\n",
       "</style>\n",
       "<table border=\"1\" class=\"dataframe\">\n",
       "  <thead>\n",
       "    <tr style=\"text-align: right;\">\n",
       "      <th></th>\n",
       "      <th>Complaint Name</th>\n",
       "      <th>Project</th>\n",
       "      <th>Country</th>\n",
       "      <th>IAM</th>\n",
       "      <th>Bank</th>\n",
       "      <th>External ID</th>\n",
       "      <th>Status</th>\n",
       "      <th>Filer</th>\n",
       "      <th>IFI Support</th>\n",
       "      <th>Sector</th>\n",
       "      <th>...</th>\n",
       "      <th>Dispute Resolution Status</th>\n",
       "      <th>If No DR, Why?</th>\n",
       "      <th>Compliance Review Start</th>\n",
       "      <th>Compliance Review End</th>\n",
       "      <th>Compliance Report Issued</th>\n",
       "      <th>If No CR, Why?</th>\n",
       "      <th>Monitoring Start</th>\n",
       "      <th>Monitoring End</th>\n",
       "      <th>If No Monitoring, Why?</th>\n",
       "      <th>Date Closed</th>\n",
       "    </tr>\n",
       "  </thead>\n",
       "  <tbody>\n",
       "    <tr>\n",
       "      <th>0</th>\n",
       "      <td>4 MW Hydro Power Project Thack Chilas</td>\n",
       "      <td>4 MW Hydro Power Project Thack Chilas</td>\n",
       "      <td>Pakistan</td>\n",
       "      <td>Asian Development Bank Special Project Facilit...</td>\n",
       "      <td>Asian Development Bank</td>\n",
       "      <td>no_id_25_24</td>\n",
       "      <td>Closed Without Results</td>\n",
       "      <td>NaN</td>\n",
       "      <td>NaN</td>\n",
       "      <td>NaN</td>\n",
       "      <td>...</td>\n",
       "      <td>Not Undertaken</td>\n",
       "      <td>Complaint originally deemed ineligible</td>\n",
       "      <td>NaT</td>\n",
       "      <td>NaT</td>\n",
       "      <td>False</td>\n",
       "      <td>Complaint originally deemed ineligible</td>\n",
       "      <td>NaT</td>\n",
       "      <td>NaT</td>\n",
       "      <td>Complaint originally deemed ineligible</td>\n",
       "      <td>2013-08-01</td>\n",
       "    </tr>\n",
       "  </tbody>\n",
       "</table>\n",
       "<p>1 rows × 29 columns</p>\n",
       "</div>"
      ],
      "text/plain": [
       "                          Complaint Name  \\\n",
       "0  4 MW Hydro Power Project Thack Chilas   \n",
       "\n",
       "                                 Project   Country  \\\n",
       "0  4 MW Hydro Power Project Thack Chilas  Pakistan   \n",
       "\n",
       "                                                 IAM                    Bank  \\\n",
       "0  Asian Development Bank Special Project Facilit...  Asian Development Bank   \n",
       "\n",
       "   External ID                  Status Filer IFI Support Sector     ...      \\\n",
       "0  no_id_25_24  Closed Without Results   NaN         NaN    NaN     ...       \n",
       "\n",
       "  Dispute Resolution Status                          If No DR, Why?  \\\n",
       "0            Not Undertaken  Complaint originally deemed ineligible   \n",
       "\n",
       "   Compliance Review Start Compliance Review End Compliance Report Issued  \\\n",
       "0                      NaT                   NaT                    False   \n",
       "\n",
       "                           If No CR, Why? Monitoring Start Monitoring End  \\\n",
       "0  Complaint originally deemed ineligible              NaT            NaT   \n",
       "\n",
       "                   If No Monitoring, Why? Date Closed  \n",
       "0  Complaint originally deemed ineligible  2013-08-01  \n",
       "\n",
       "[1 rows x 29 columns]"
      ]
     },
     "execution_count": 14,
     "metadata": {},
     "output_type": "execute_result"
    }
   ],
   "source": [
    "ac[:1]"
   ]
  },
  {
   "cell_type": "code",
   "execution_count": 27,
   "metadata": {
    "collapsed": false
   },
   "outputs": [
    {
     "data": {
      "text/plain": [
       "Complaint Name                       object\n",
       "Project                              object\n",
       "Country                              object\n",
       "IAM                                  object\n",
       "Bank                                 object\n",
       "External ID                          object\n",
       "Status                               object\n",
       "Filer                                object\n",
       "IFI Support                          object\n",
       "Sector                               object\n",
       "Issues                               object\n",
       "Description                          object\n",
       "Non-Compliance Found                   bool\n",
       "Filing Date                  datetime64[ns]\n",
       "Registration Date            datetime64[ns]\n",
       "Eligibility Date             datetime64[ns]\n",
       "If No Eligibility, Why?              object\n",
       "Dispute Resolution Start     datetime64[ns]\n",
       "Dispute Resolution End       datetime64[ns]\n",
       "Dispute Resolution Status            object\n",
       "If No DR, Why?                       object\n",
       "Compliance Review Start      datetime64[ns]\n",
       "Compliance Review End        datetime64[ns]\n",
       "Compliance Report Issued               bool\n",
       "If No CR, Why?                       object\n",
       "Monitoring Start             datetime64[ns]\n",
       "Monitoring End               datetime64[ns]\n",
       "If No Monitoring, Why?               object\n",
       "Date Closed                  datetime64[ns]\n",
       "dtype: object"
      ]
     },
     "execution_count": 27,
     "metadata": {},
     "output_type": "execute_result"
    }
   ],
   "source": [
    "ac.dtypes"
   ]
  },
  {
   "cell_type": "code",
   "execution_count": 25,
   "metadata": {},
   "outputs": [
    {
     "name": "stdout",
     "output_type": "stream",
     "text": [
      "SHAPE (815, 29)\n"
     ]
    },
    {
     "data": {
      "text/html": [
       "<style  type=\"text/css\" >\n",
       "    #T_23378ebd_553c_11e8_9d29_9801a79daeedrow0_col0 {\n",
       "            color:  black;\n",
       "        }    #T_23378ebd_553c_11e8_9d29_9801a79daeedrow0_col1 {\n",
       "            color:  red;\n",
       "        }    #T_23378ebd_553c_11e8_9d29_9801a79daeedrow0_col2 {\n",
       "            color:  black;\n",
       "        }    #T_23378ebd_553c_11e8_9d29_9801a79daeedrow0_col3 {\n",
       "            color:  black;\n",
       "        }    #T_23378ebd_553c_11e8_9d29_9801a79daeedrow0_col4 {\n",
       "            color:  black;\n",
       "        }    #T_23378ebd_553c_11e8_9d29_9801a79daeedrow0_col5 {\n",
       "            color:  black;\n",
       "        }    #T_23378ebd_553c_11e8_9d29_9801a79daeedrow0_col6 {\n",
       "            color:  black;\n",
       "        }    #T_23378ebd_553c_11e8_9d29_9801a79daeedrow0_col7 {\n",
       "            color:  black;\n",
       "        }    #T_23378ebd_553c_11e8_9d29_9801a79daeedrow1_col0 {\n",
       "            color:  black;\n",
       "        }    #T_23378ebd_553c_11e8_9d29_9801a79daeedrow1_col1 {\n",
       "            color:  red;\n",
       "        }    #T_23378ebd_553c_11e8_9d29_9801a79daeedrow1_col2 {\n",
       "            color:  black;\n",
       "        }    #T_23378ebd_553c_11e8_9d29_9801a79daeedrow1_col3 {\n",
       "            color:  black;\n",
       "        }    #T_23378ebd_553c_11e8_9d29_9801a79daeedrow1_col4 {\n",
       "            color:  black;\n",
       "        }    #T_23378ebd_553c_11e8_9d29_9801a79daeedrow1_col5 {\n",
       "            color:  black;\n",
       "        }    #T_23378ebd_553c_11e8_9d29_9801a79daeedrow1_col6 {\n",
       "            color:  black;\n",
       "        }    #T_23378ebd_553c_11e8_9d29_9801a79daeedrow1_col7 {\n",
       "            color:  black;\n",
       "        }    #T_23378ebd_553c_11e8_9d29_9801a79daeedrow2_col0 {\n",
       "            color:  black;\n",
       "        }    #T_23378ebd_553c_11e8_9d29_9801a79daeedrow2_col1 {\n",
       "            color:  red;\n",
       "        }    #T_23378ebd_553c_11e8_9d29_9801a79daeedrow2_col2 {\n",
       "            color:  black;\n",
       "        }    #T_23378ebd_553c_11e8_9d29_9801a79daeedrow2_col3 {\n",
       "            color:  black;\n",
       "        }    #T_23378ebd_553c_11e8_9d29_9801a79daeedrow2_col4 {\n",
       "            color:  black;\n",
       "        }    #T_23378ebd_553c_11e8_9d29_9801a79daeedrow2_col5 {\n",
       "            color:  black;\n",
       "        }    #T_23378ebd_553c_11e8_9d29_9801a79daeedrow2_col6 {\n",
       "            color:  black;\n",
       "        }    #T_23378ebd_553c_11e8_9d29_9801a79daeedrow2_col7 {\n",
       "            color:  black;\n",
       "        }    #T_23378ebd_553c_11e8_9d29_9801a79daeedrow3_col0 {\n",
       "            color:  black;\n",
       "        }    #T_23378ebd_553c_11e8_9d29_9801a79daeedrow3_col1 {\n",
       "            color:  red;\n",
       "        }    #T_23378ebd_553c_11e8_9d29_9801a79daeedrow3_col2 {\n",
       "            color:  black;\n",
       "        }    #T_23378ebd_553c_11e8_9d29_9801a79daeedrow3_col3 {\n",
       "            color:  black;\n",
       "        }    #T_23378ebd_553c_11e8_9d29_9801a79daeedrow3_col4 {\n",
       "            color:  black;\n",
       "        }    #T_23378ebd_553c_11e8_9d29_9801a79daeedrow3_col5 {\n",
       "            color:  black;\n",
       "        }    #T_23378ebd_553c_11e8_9d29_9801a79daeedrow3_col6 {\n",
       "            color:  black;\n",
       "        }    #T_23378ebd_553c_11e8_9d29_9801a79daeedrow3_col7 {\n",
       "            color:  black;\n",
       "        }    #T_23378ebd_553c_11e8_9d29_9801a79daeedrow4_col0 {\n",
       "            color:  black;\n",
       "        }    #T_23378ebd_553c_11e8_9d29_9801a79daeedrow4_col1 {\n",
       "            color:  red;\n",
       "        }    #T_23378ebd_553c_11e8_9d29_9801a79daeedrow4_col2 {\n",
       "            color:  black;\n",
       "        }    #T_23378ebd_553c_11e8_9d29_9801a79daeedrow4_col3 {\n",
       "            color:  black;\n",
       "        }    #T_23378ebd_553c_11e8_9d29_9801a79daeedrow4_col4 {\n",
       "            color:  black;\n",
       "        }    #T_23378ebd_553c_11e8_9d29_9801a79daeedrow4_col5 {\n",
       "            color:  black;\n",
       "        }    #T_23378ebd_553c_11e8_9d29_9801a79daeedrow4_col6 {\n",
       "            color:  black;\n",
       "        }    #T_23378ebd_553c_11e8_9d29_9801a79daeedrow4_col7 {\n",
       "            color:  black;\n",
       "        }    #T_23378ebd_553c_11e8_9d29_9801a79daeedrow5_col0 {\n",
       "            color:  black;\n",
       "        }    #T_23378ebd_553c_11e8_9d29_9801a79daeedrow5_col1 {\n",
       "            color:  red;\n",
       "        }    #T_23378ebd_553c_11e8_9d29_9801a79daeedrow5_col2 {\n",
       "            color:  black;\n",
       "        }    #T_23378ebd_553c_11e8_9d29_9801a79daeedrow5_col3 {\n",
       "            color:  black;\n",
       "        }    #T_23378ebd_553c_11e8_9d29_9801a79daeedrow5_col4 {\n",
       "            color:  black;\n",
       "        }    #T_23378ebd_553c_11e8_9d29_9801a79daeedrow5_col5 {\n",
       "            color:  black;\n",
       "        }    #T_23378ebd_553c_11e8_9d29_9801a79daeedrow5_col6 {\n",
       "            color:  black;\n",
       "        }    #T_23378ebd_553c_11e8_9d29_9801a79daeedrow5_col7 {\n",
       "            color:  black;\n",
       "        }    #T_23378ebd_553c_11e8_9d29_9801a79daeedrow6_col0 {\n",
       "            color:  black;\n",
       "        }    #T_23378ebd_553c_11e8_9d29_9801a79daeedrow6_col1 {\n",
       "            color:  red;\n",
       "        }    #T_23378ebd_553c_11e8_9d29_9801a79daeedrow6_col2 {\n",
       "            color:  black;\n",
       "        }    #T_23378ebd_553c_11e8_9d29_9801a79daeedrow6_col3 {\n",
       "            color:  black;\n",
       "        }    #T_23378ebd_553c_11e8_9d29_9801a79daeedrow6_col4 {\n",
       "            color:  black;\n",
       "        }    #T_23378ebd_553c_11e8_9d29_9801a79daeedrow6_col5 {\n",
       "            color:  black;\n",
       "        }    #T_23378ebd_553c_11e8_9d29_9801a79daeedrow6_col6 {\n",
       "            color:  black;\n",
       "        }    #T_23378ebd_553c_11e8_9d29_9801a79daeedrow6_col7 {\n",
       "            color:  black;\n",
       "        }    #T_23378ebd_553c_11e8_9d29_9801a79daeedrow7_col0 {\n",
       "            color:  black;\n",
       "        }    #T_23378ebd_553c_11e8_9d29_9801a79daeedrow7_col1 {\n",
       "            color:  red;\n",
       "        }    #T_23378ebd_553c_11e8_9d29_9801a79daeedrow7_col2 {\n",
       "            color:  black;\n",
       "        }    #T_23378ebd_553c_11e8_9d29_9801a79daeedrow7_col3 {\n",
       "            color:  black;\n",
       "        }    #T_23378ebd_553c_11e8_9d29_9801a79daeedrow7_col4 {\n",
       "            color:  black;\n",
       "        }    #T_23378ebd_553c_11e8_9d29_9801a79daeedrow7_col5 {\n",
       "            color:  black;\n",
       "        }    #T_23378ebd_553c_11e8_9d29_9801a79daeedrow7_col6 {\n",
       "            color:  black;\n",
       "        }    #T_23378ebd_553c_11e8_9d29_9801a79daeedrow7_col7 {\n",
       "            color:  black;\n",
       "        }    #T_23378ebd_553c_11e8_9d29_9801a79daeedrow8_col0 {\n",
       "            color:  black;\n",
       "        }    #T_23378ebd_553c_11e8_9d29_9801a79daeedrow8_col1 {\n",
       "            color:  red;\n",
       "        }    #T_23378ebd_553c_11e8_9d29_9801a79daeedrow8_col2 {\n",
       "            color:  black;\n",
       "        }    #T_23378ebd_553c_11e8_9d29_9801a79daeedrow8_col3 {\n",
       "            color:  black;\n",
       "        }    #T_23378ebd_553c_11e8_9d29_9801a79daeedrow8_col4 {\n",
       "            color:  black;\n",
       "        }    #T_23378ebd_553c_11e8_9d29_9801a79daeedrow8_col5 {\n",
       "            color:  black;\n",
       "        }    #T_23378ebd_553c_11e8_9d29_9801a79daeedrow8_col6 {\n",
       "            color:  black;\n",
       "        }    #T_23378ebd_553c_11e8_9d29_9801a79daeedrow8_col7 {\n",
       "            color:  black;\n",
       "        }    #T_23378ebd_553c_11e8_9d29_9801a79daeedrow9_col0 {\n",
       "            color:  black;\n",
       "        }    #T_23378ebd_553c_11e8_9d29_9801a79daeedrow9_col1 {\n",
       "            color:  red;\n",
       "        }    #T_23378ebd_553c_11e8_9d29_9801a79daeedrow9_col2 {\n",
       "            color:  black;\n",
       "        }    #T_23378ebd_553c_11e8_9d29_9801a79daeedrow9_col3 {\n",
       "            color:  black;\n",
       "        }    #T_23378ebd_553c_11e8_9d29_9801a79daeedrow9_col4 {\n",
       "            color:  black;\n",
       "        }    #T_23378ebd_553c_11e8_9d29_9801a79daeedrow9_col5 {\n",
       "            color:  black;\n",
       "        }    #T_23378ebd_553c_11e8_9d29_9801a79daeedrow9_col6 {\n",
       "            color:  black;\n",
       "        }    #T_23378ebd_553c_11e8_9d29_9801a79daeedrow9_col7 {\n",
       "            color:  black;\n",
       "        }    #T_23378ebd_553c_11e8_9d29_9801a79daeedrow10_col0 {\n",
       "            color:  black;\n",
       "        }    #T_23378ebd_553c_11e8_9d29_9801a79daeedrow10_col1 {\n",
       "            color:  red;\n",
       "        }    #T_23378ebd_553c_11e8_9d29_9801a79daeedrow10_col2 {\n",
       "            color:  black;\n",
       "        }    #T_23378ebd_553c_11e8_9d29_9801a79daeedrow10_col3 {\n",
       "            color:  black;\n",
       "        }    #T_23378ebd_553c_11e8_9d29_9801a79daeedrow10_col4 {\n",
       "            color:  black;\n",
       "        }    #T_23378ebd_553c_11e8_9d29_9801a79daeedrow10_col5 {\n",
       "            color:  black;\n",
       "        }    #T_23378ebd_553c_11e8_9d29_9801a79daeedrow10_col6 {\n",
       "            color:  black;\n",
       "        }    #T_23378ebd_553c_11e8_9d29_9801a79daeedrow10_col7 {\n",
       "            color:  black;\n",
       "        }    #T_23378ebd_553c_11e8_9d29_9801a79daeedrow11_col0 {\n",
       "            color:  black;\n",
       "        }    #T_23378ebd_553c_11e8_9d29_9801a79daeedrow11_col1 {\n",
       "            color:  red;\n",
       "        }    #T_23378ebd_553c_11e8_9d29_9801a79daeedrow11_col2 {\n",
       "            color:  black;\n",
       "        }    #T_23378ebd_553c_11e8_9d29_9801a79daeedrow11_col3 {\n",
       "            color:  black;\n",
       "        }    #T_23378ebd_553c_11e8_9d29_9801a79daeedrow11_col4 {\n",
       "            color:  black;\n",
       "        }    #T_23378ebd_553c_11e8_9d29_9801a79daeedrow11_col5 {\n",
       "            color:  black;\n",
       "        }    #T_23378ebd_553c_11e8_9d29_9801a79daeedrow11_col6 {\n",
       "            color:  black;\n",
       "        }    #T_23378ebd_553c_11e8_9d29_9801a79daeedrow11_col7 {\n",
       "            color:  black;\n",
       "        }    #T_23378ebd_553c_11e8_9d29_9801a79daeedrow12_col0 {\n",
       "            color:  black;\n",
       "        }    #T_23378ebd_553c_11e8_9d29_9801a79daeedrow12_col1 {\n",
       "            color:  black;\n",
       "        }    #T_23378ebd_553c_11e8_9d29_9801a79daeedrow12_col2 {\n",
       "            color:  black;\n",
       "        }    #T_23378ebd_553c_11e8_9d29_9801a79daeedrow12_col3 {\n",
       "            color:  black;\n",
       "        }    #T_23378ebd_553c_11e8_9d29_9801a79daeedrow12_col4 {\n",
       "            color:  black;\n",
       "        }    #T_23378ebd_553c_11e8_9d29_9801a79daeedrow12_col5 {\n",
       "            color:  black;\n",
       "        }    #T_23378ebd_553c_11e8_9d29_9801a79daeedrow12_col6 {\n",
       "            color:  black;\n",
       "        }    #T_23378ebd_553c_11e8_9d29_9801a79daeedrow12_col7 {\n",
       "            color:  black;\n",
       "        }    #T_23378ebd_553c_11e8_9d29_9801a79daeedrow13_col0 {\n",
       "            color:  black;\n",
       "        }    #T_23378ebd_553c_11e8_9d29_9801a79daeedrow13_col1 {\n",
       "            color:  blue;\n",
       "        }    #T_23378ebd_553c_11e8_9d29_9801a79daeedrow13_col2 {\n",
       "            color:  black;\n",
       "        }    #T_23378ebd_553c_11e8_9d29_9801a79daeedrow13_col3 {\n",
       "            color:  black;\n",
       "        }    #T_23378ebd_553c_11e8_9d29_9801a79daeedrow13_col4 {\n",
       "            color:  black;\n",
       "        }    #T_23378ebd_553c_11e8_9d29_9801a79daeedrow13_col5 {\n",
       "            color:  black;\n",
       "        }    #T_23378ebd_553c_11e8_9d29_9801a79daeedrow13_col6 {\n",
       "            color:  black;\n",
       "        }    #T_23378ebd_553c_11e8_9d29_9801a79daeedrow13_col7 {\n",
       "            color:  black;\n",
       "        }    #T_23378ebd_553c_11e8_9d29_9801a79daeedrow14_col0 {\n",
       "            color:  black;\n",
       "        }    #T_23378ebd_553c_11e8_9d29_9801a79daeedrow14_col1 {\n",
       "            color:  blue;\n",
       "        }    #T_23378ebd_553c_11e8_9d29_9801a79daeedrow14_col2 {\n",
       "            color:  black;\n",
       "        }    #T_23378ebd_553c_11e8_9d29_9801a79daeedrow14_col3 {\n",
       "            color:  black;\n",
       "        }    #T_23378ebd_553c_11e8_9d29_9801a79daeedrow14_col4 {\n",
       "            color:  black;\n",
       "        }    #T_23378ebd_553c_11e8_9d29_9801a79daeedrow14_col5 {\n",
       "            color:  black;\n",
       "        }    #T_23378ebd_553c_11e8_9d29_9801a79daeedrow14_col6 {\n",
       "            color:  black;\n",
       "        }    #T_23378ebd_553c_11e8_9d29_9801a79daeedrow14_col7 {\n",
       "            color:  black;\n",
       "        }    #T_23378ebd_553c_11e8_9d29_9801a79daeedrow15_col0 {\n",
       "            color:  black;\n",
       "        }    #T_23378ebd_553c_11e8_9d29_9801a79daeedrow15_col1 {\n",
       "            color:  blue;\n",
       "        }    #T_23378ebd_553c_11e8_9d29_9801a79daeedrow15_col2 {\n",
       "            color:  black;\n",
       "        }    #T_23378ebd_553c_11e8_9d29_9801a79daeedrow15_col3 {\n",
       "            color:  black;\n",
       "        }    #T_23378ebd_553c_11e8_9d29_9801a79daeedrow15_col4 {\n",
       "            color:  black;\n",
       "        }    #T_23378ebd_553c_11e8_9d29_9801a79daeedrow15_col5 {\n",
       "            color:  black;\n",
       "        }    #T_23378ebd_553c_11e8_9d29_9801a79daeedrow15_col6 {\n",
       "            color:  black;\n",
       "        }    #T_23378ebd_553c_11e8_9d29_9801a79daeedrow15_col7 {\n",
       "            color:  black;\n",
       "        }    #T_23378ebd_553c_11e8_9d29_9801a79daeedrow16_col0 {\n",
       "            color:  black;\n",
       "        }    #T_23378ebd_553c_11e8_9d29_9801a79daeedrow16_col1 {\n",
       "            color:  red;\n",
       "        }    #T_23378ebd_553c_11e8_9d29_9801a79daeedrow16_col2 {\n",
       "            color:  black;\n",
       "        }    #T_23378ebd_553c_11e8_9d29_9801a79daeedrow16_col3 {\n",
       "            color:  black;\n",
       "        }    #T_23378ebd_553c_11e8_9d29_9801a79daeedrow16_col4 {\n",
       "            color:  black;\n",
       "        }    #T_23378ebd_553c_11e8_9d29_9801a79daeedrow16_col5 {\n",
       "            color:  black;\n",
       "        }    #T_23378ebd_553c_11e8_9d29_9801a79daeedrow16_col6 {\n",
       "            color:  black;\n",
       "        }    #T_23378ebd_553c_11e8_9d29_9801a79daeedrow16_col7 {\n",
       "            color:  black;\n",
       "        }    #T_23378ebd_553c_11e8_9d29_9801a79daeedrow17_col0 {\n",
       "            color:  black;\n",
       "        }    #T_23378ebd_553c_11e8_9d29_9801a79daeedrow17_col1 {\n",
       "            color:  blue;\n",
       "        }    #T_23378ebd_553c_11e8_9d29_9801a79daeedrow17_col2 {\n",
       "            color:  black;\n",
       "        }    #T_23378ebd_553c_11e8_9d29_9801a79daeedrow17_col3 {\n",
       "            color:  black;\n",
       "        }    #T_23378ebd_553c_11e8_9d29_9801a79daeedrow17_col4 {\n",
       "            color:  black;\n",
       "        }    #T_23378ebd_553c_11e8_9d29_9801a79daeedrow17_col5 {\n",
       "            color:  black;\n",
       "        }    #T_23378ebd_553c_11e8_9d29_9801a79daeedrow17_col6 {\n",
       "            color:  black;\n",
       "        }    #T_23378ebd_553c_11e8_9d29_9801a79daeedrow17_col7 {\n",
       "            color:  black;\n",
       "        }    #T_23378ebd_553c_11e8_9d29_9801a79daeedrow18_col0 {\n",
       "            color:  black;\n",
       "        }    #T_23378ebd_553c_11e8_9d29_9801a79daeedrow18_col1 {\n",
       "            color:  blue;\n",
       "        }    #T_23378ebd_553c_11e8_9d29_9801a79daeedrow18_col2 {\n",
       "            color:  black;\n",
       "        }    #T_23378ebd_553c_11e8_9d29_9801a79daeedrow18_col3 {\n",
       "            color:  black;\n",
       "        }    #T_23378ebd_553c_11e8_9d29_9801a79daeedrow18_col4 {\n",
       "            color:  black;\n",
       "        }    #T_23378ebd_553c_11e8_9d29_9801a79daeedrow18_col5 {\n",
       "            color:  black;\n",
       "        }    #T_23378ebd_553c_11e8_9d29_9801a79daeedrow18_col6 {\n",
       "            color:  black;\n",
       "        }    #T_23378ebd_553c_11e8_9d29_9801a79daeedrow18_col7 {\n",
       "            color:  black;\n",
       "        }    #T_23378ebd_553c_11e8_9d29_9801a79daeedrow19_col0 {\n",
       "            color:  black;\n",
       "        }    #T_23378ebd_553c_11e8_9d29_9801a79daeedrow19_col1 {\n",
       "            color:  red;\n",
       "        }    #T_23378ebd_553c_11e8_9d29_9801a79daeedrow19_col2 {\n",
       "            color:  black;\n",
       "        }    #T_23378ebd_553c_11e8_9d29_9801a79daeedrow19_col3 {\n",
       "            color:  black;\n",
       "        }    #T_23378ebd_553c_11e8_9d29_9801a79daeedrow19_col4 {\n",
       "            color:  black;\n",
       "        }    #T_23378ebd_553c_11e8_9d29_9801a79daeedrow19_col5 {\n",
       "            color:  black;\n",
       "        }    #T_23378ebd_553c_11e8_9d29_9801a79daeedrow19_col6 {\n",
       "            color:  black;\n",
       "        }    #T_23378ebd_553c_11e8_9d29_9801a79daeedrow19_col7 {\n",
       "            color:  black;\n",
       "        }    #T_23378ebd_553c_11e8_9d29_9801a79daeedrow20_col0 {\n",
       "            color:  black;\n",
       "        }    #T_23378ebd_553c_11e8_9d29_9801a79daeedrow20_col1 {\n",
       "            color:  red;\n",
       "        }    #T_23378ebd_553c_11e8_9d29_9801a79daeedrow20_col2 {\n",
       "            color:  black;\n",
       "        }    #T_23378ebd_553c_11e8_9d29_9801a79daeedrow20_col3 {\n",
       "            color:  black;\n",
       "        }    #T_23378ebd_553c_11e8_9d29_9801a79daeedrow20_col4 {\n",
       "            color:  black;\n",
       "        }    #T_23378ebd_553c_11e8_9d29_9801a79daeedrow20_col5 {\n",
       "            color:  black;\n",
       "        }    #T_23378ebd_553c_11e8_9d29_9801a79daeedrow20_col6 {\n",
       "            color:  black;\n",
       "        }    #T_23378ebd_553c_11e8_9d29_9801a79daeedrow20_col7 {\n",
       "            color:  black;\n",
       "        }    #T_23378ebd_553c_11e8_9d29_9801a79daeedrow21_col0 {\n",
       "            color:  black;\n",
       "        }    #T_23378ebd_553c_11e8_9d29_9801a79daeedrow21_col1 {\n",
       "            color:  blue;\n",
       "        }    #T_23378ebd_553c_11e8_9d29_9801a79daeedrow21_col2 {\n",
       "            color:  black;\n",
       "        }    #T_23378ebd_553c_11e8_9d29_9801a79daeedrow21_col3 {\n",
       "            color:  black;\n",
       "        }    #T_23378ebd_553c_11e8_9d29_9801a79daeedrow21_col4 {\n",
       "            color:  black;\n",
       "        }    #T_23378ebd_553c_11e8_9d29_9801a79daeedrow21_col5 {\n",
       "            color:  black;\n",
       "        }    #T_23378ebd_553c_11e8_9d29_9801a79daeedrow21_col6 {\n",
       "            color:  black;\n",
       "        }    #T_23378ebd_553c_11e8_9d29_9801a79daeedrow21_col7 {\n",
       "            color:  black;\n",
       "        }    #T_23378ebd_553c_11e8_9d29_9801a79daeedrow22_col0 {\n",
       "            color:  black;\n",
       "        }    #T_23378ebd_553c_11e8_9d29_9801a79daeedrow22_col1 {\n",
       "            color:  blue;\n",
       "        }    #T_23378ebd_553c_11e8_9d29_9801a79daeedrow22_col2 {\n",
       "            color:  black;\n",
       "        }    #T_23378ebd_553c_11e8_9d29_9801a79daeedrow22_col3 {\n",
       "            color:  black;\n",
       "        }    #T_23378ebd_553c_11e8_9d29_9801a79daeedrow22_col4 {\n",
       "            color:  black;\n",
       "        }    #T_23378ebd_553c_11e8_9d29_9801a79daeedrow22_col5 {\n",
       "            color:  black;\n",
       "        }    #T_23378ebd_553c_11e8_9d29_9801a79daeedrow22_col6 {\n",
       "            color:  black;\n",
       "        }    #T_23378ebd_553c_11e8_9d29_9801a79daeedrow22_col7 {\n",
       "            color:  black;\n",
       "        }    #T_23378ebd_553c_11e8_9d29_9801a79daeedrow23_col0 {\n",
       "            color:  black;\n",
       "        }    #T_23378ebd_553c_11e8_9d29_9801a79daeedrow23_col1 {\n",
       "            color:  black;\n",
       "        }    #T_23378ebd_553c_11e8_9d29_9801a79daeedrow23_col2 {\n",
       "            color:  black;\n",
       "        }    #T_23378ebd_553c_11e8_9d29_9801a79daeedrow23_col3 {\n",
       "            color:  black;\n",
       "        }    #T_23378ebd_553c_11e8_9d29_9801a79daeedrow23_col4 {\n",
       "            color:  black;\n",
       "        }    #T_23378ebd_553c_11e8_9d29_9801a79daeedrow23_col5 {\n",
       "            color:  black;\n",
       "        }    #T_23378ebd_553c_11e8_9d29_9801a79daeedrow23_col6 {\n",
       "            color:  black;\n",
       "        }    #T_23378ebd_553c_11e8_9d29_9801a79daeedrow23_col7 {\n",
       "            color:  black;\n",
       "        }    #T_23378ebd_553c_11e8_9d29_9801a79daeedrow24_col0 {\n",
       "            color:  black;\n",
       "        }    #T_23378ebd_553c_11e8_9d29_9801a79daeedrow24_col1 {\n",
       "            color:  red;\n",
       "        }    #T_23378ebd_553c_11e8_9d29_9801a79daeedrow24_col2 {\n",
       "            color:  black;\n",
       "        }    #T_23378ebd_553c_11e8_9d29_9801a79daeedrow24_col3 {\n",
       "            color:  black;\n",
       "        }    #T_23378ebd_553c_11e8_9d29_9801a79daeedrow24_col4 {\n",
       "            color:  black;\n",
       "        }    #T_23378ebd_553c_11e8_9d29_9801a79daeedrow24_col5 {\n",
       "            color:  black;\n",
       "        }    #T_23378ebd_553c_11e8_9d29_9801a79daeedrow24_col6 {\n",
       "            color:  black;\n",
       "        }    #T_23378ebd_553c_11e8_9d29_9801a79daeedrow24_col7 {\n",
       "            color:  black;\n",
       "        }    #T_23378ebd_553c_11e8_9d29_9801a79daeedrow25_col0 {\n",
       "            color:  black;\n",
       "        }    #T_23378ebd_553c_11e8_9d29_9801a79daeedrow25_col1 {\n",
       "            color:  blue;\n",
       "        }    #T_23378ebd_553c_11e8_9d29_9801a79daeedrow25_col2 {\n",
       "            color:  black;\n",
       "        }    #T_23378ebd_553c_11e8_9d29_9801a79daeedrow25_col3 {\n",
       "            color:  black;\n",
       "        }    #T_23378ebd_553c_11e8_9d29_9801a79daeedrow25_col4 {\n",
       "            color:  black;\n",
       "        }    #T_23378ebd_553c_11e8_9d29_9801a79daeedrow25_col5 {\n",
       "            color:  black;\n",
       "        }    #T_23378ebd_553c_11e8_9d29_9801a79daeedrow25_col6 {\n",
       "            color:  black;\n",
       "        }    #T_23378ebd_553c_11e8_9d29_9801a79daeedrow25_col7 {\n",
       "            color:  black;\n",
       "        }    #T_23378ebd_553c_11e8_9d29_9801a79daeedrow26_col0 {\n",
       "            color:  black;\n",
       "        }    #T_23378ebd_553c_11e8_9d29_9801a79daeedrow26_col1 {\n",
       "            color:  blue;\n",
       "        }    #T_23378ebd_553c_11e8_9d29_9801a79daeedrow26_col2 {\n",
       "            color:  black;\n",
       "        }    #T_23378ebd_553c_11e8_9d29_9801a79daeedrow26_col3 {\n",
       "            color:  black;\n",
       "        }    #T_23378ebd_553c_11e8_9d29_9801a79daeedrow26_col4 {\n",
       "            color:  black;\n",
       "        }    #T_23378ebd_553c_11e8_9d29_9801a79daeedrow26_col5 {\n",
       "            color:  black;\n",
       "        }    #T_23378ebd_553c_11e8_9d29_9801a79daeedrow26_col6 {\n",
       "            color:  black;\n",
       "        }    #T_23378ebd_553c_11e8_9d29_9801a79daeedrow26_col7 {\n",
       "            color:  black;\n",
       "        }    #T_23378ebd_553c_11e8_9d29_9801a79daeedrow27_col0 {\n",
       "            color:  black;\n",
       "        }    #T_23378ebd_553c_11e8_9d29_9801a79daeedrow27_col1 {\n",
       "            color:  red;\n",
       "        }    #T_23378ebd_553c_11e8_9d29_9801a79daeedrow27_col2 {\n",
       "            color:  black;\n",
       "        }    #T_23378ebd_553c_11e8_9d29_9801a79daeedrow27_col3 {\n",
       "            color:  black;\n",
       "        }    #T_23378ebd_553c_11e8_9d29_9801a79daeedrow27_col4 {\n",
       "            color:  black;\n",
       "        }    #T_23378ebd_553c_11e8_9d29_9801a79daeedrow27_col5 {\n",
       "            color:  black;\n",
       "        }    #T_23378ebd_553c_11e8_9d29_9801a79daeedrow27_col6 {\n",
       "            color:  black;\n",
       "        }    #T_23378ebd_553c_11e8_9d29_9801a79daeedrow27_col7 {\n",
       "            color:  black;\n",
       "        }    #T_23378ebd_553c_11e8_9d29_9801a79daeedrow28_col0 {\n",
       "            color:  black;\n",
       "        }    #T_23378ebd_553c_11e8_9d29_9801a79daeedrow28_col1 {\n",
       "            color:  blue;\n",
       "        }    #T_23378ebd_553c_11e8_9d29_9801a79daeedrow28_col2 {\n",
       "            color:  black;\n",
       "        }    #T_23378ebd_553c_11e8_9d29_9801a79daeedrow28_col3 {\n",
       "            color:  black;\n",
       "        }    #T_23378ebd_553c_11e8_9d29_9801a79daeedrow28_col4 {\n",
       "            color:  black;\n",
       "        }    #T_23378ebd_553c_11e8_9d29_9801a79daeedrow28_col5 {\n",
       "            color:  black;\n",
       "        }    #T_23378ebd_553c_11e8_9d29_9801a79daeedrow28_col6 {\n",
       "            color:  black;\n",
       "        }    #T_23378ebd_553c_11e8_9d29_9801a79daeedrow28_col7 {\n",
       "            color:  black;\n",
       "        }</style>  \n",
       "<table id=\"T_23378ebd_553c_11e8_9d29_9801a79daeed\" > \n",
       "<thead>    <tr> \n",
       "        <th class=\"blank level0\" ></th> \n",
       "        <th class=\"col_heading level0 col0\" >col</th> \n",
       "        <th class=\"col_heading level0 col1\" >datatype</th> \n",
       "        <th class=\"col_heading level0 col2\" >min</th> \n",
       "        <th class=\"col_heading level0 col3\" >max</th> \n",
       "        <th class=\"col_heading level0 col4\" >mean_or_most_common</th> \n",
       "        <th class=\"col_heading level0 col5\" >num_uniq</th> \n",
       "        <th class=\"col_heading level0 col6\" >null_count</th> \n",
       "        <th class=\"col_heading level0 col7\" >null_pct</th> \n",
       "    </tr></thead> \n",
       "<tbody>    <tr> \n",
       "        <th id=\"T_23378ebd_553c_11e8_9d29_9801a79daeedlevel0_row0\" class=\"row_heading level0 row0\" >0</th> \n",
       "        <td id=\"T_23378ebd_553c_11e8_9d29_9801a79daeedrow0_col0\" class=\"data row0 col0\" >Complaint Name</td> \n",
       "        <td id=\"T_23378ebd_553c_11e8_9d29_9801a79daeedrow0_col1\" class=\"data row0 col1\" >object</td> \n",
       "        <td id=\"T_23378ebd_553c_11e8_9d29_9801a79daeedrow0_col2\" class=\"data row0 col2\" >NA</td> \n",
       "        <td id=\"T_23378ebd_553c_11e8_9d29_9801a79daeedrow0_col3\" class=\"data row0 col3\" >NA</td> \n",
       "        <td id=\"T_23378ebd_553c_11e8_9d29_9801a79daeedrow0_col4\" class=\"data row0 col4\" >[('Panama Canal Expansion', 2)]</td> \n",
       "        <td id=\"T_23378ebd_553c_11e8_9d29_9801a79daeedrow0_col5\" class=\"data row0 col5\" >813</td> \n",
       "        <td id=\"T_23378ebd_553c_11e8_9d29_9801a79daeedrow0_col6\" class=\"data row0 col6\" >0</td> \n",
       "        <td id=\"T_23378ebd_553c_11e8_9d29_9801a79daeedrow0_col7\" class=\"data row0 col7\" >0</td> \n",
       "    </tr>    <tr> \n",
       "        <th id=\"T_23378ebd_553c_11e8_9d29_9801a79daeedlevel0_row1\" class=\"row_heading level0 row1\" >1</th> \n",
       "        <td id=\"T_23378ebd_553c_11e8_9d29_9801a79daeedrow1_col0\" class=\"data row1 col0\" >Project</td> \n",
       "        <td id=\"T_23378ebd_553c_11e8_9d29_9801a79daeedrow1_col1\" class=\"data row1 col1\" >object</td> \n",
       "        <td id=\"T_23378ebd_553c_11e8_9d29_9801a79daeedrow1_col2\" class=\"data row1 col2\" >NA</td> \n",
       "        <td id=\"T_23378ebd_553c_11e8_9d29_9801a79daeedrow1_col3\" class=\"data row1 col3\" >NA</td> \n",
       "        <td id=\"T_23378ebd_553c_11e8_9d29_9801a79daeedrow1_col4\" class=\"data row1 col4\" >[(nan, 90)]</td> \n",
       "        <td id=\"T_23378ebd_553c_11e8_9d29_9801a79daeedrow1_col5\" class=\"data row1 col5\" >684</td> \n",
       "        <td id=\"T_23378ebd_553c_11e8_9d29_9801a79daeedrow1_col6\" class=\"data row1 col6\" >90</td> \n",
       "        <td id=\"T_23378ebd_553c_11e8_9d29_9801a79daeedrow1_col7\" class=\"data row1 col7\" >0.110429</td> \n",
       "    </tr>    <tr> \n",
       "        <th id=\"T_23378ebd_553c_11e8_9d29_9801a79daeedlevel0_row2\" class=\"row_heading level0 row2\" >2</th> \n",
       "        <td id=\"T_23378ebd_553c_11e8_9d29_9801a79daeedrow2_col0\" class=\"data row2 col0\" >Country</td> \n",
       "        <td id=\"T_23378ebd_553c_11e8_9d29_9801a79daeedrow2_col1\" class=\"data row2 col1\" >object</td> \n",
       "        <td id=\"T_23378ebd_553c_11e8_9d29_9801a79daeedrow2_col2\" class=\"data row2 col2\" >NA</td> \n",
       "        <td id=\"T_23378ebd_553c_11e8_9d29_9801a79daeedrow2_col3\" class=\"data row2 col3\" >NA</td> \n",
       "        <td id=\"T_23378ebd_553c_11e8_9d29_9801a79daeedrow2_col4\" class=\"data row2 col4\" >[(nan, 84)]</td> \n",
       "        <td id=\"T_23378ebd_553c_11e8_9d29_9801a79daeedrow2_col5\" class=\"data row2 col5\" >126</td> \n",
       "        <td id=\"T_23378ebd_553c_11e8_9d29_9801a79daeedrow2_col6\" class=\"data row2 col6\" >84</td> \n",
       "        <td id=\"T_23378ebd_553c_11e8_9d29_9801a79daeedrow2_col7\" class=\"data row2 col7\" >0.103067</td> \n",
       "    </tr>    <tr> \n",
       "        <th id=\"T_23378ebd_553c_11e8_9d29_9801a79daeedlevel0_row3\" class=\"row_heading level0 row3\" >3</th> \n",
       "        <td id=\"T_23378ebd_553c_11e8_9d29_9801a79daeedrow3_col0\" class=\"data row3 col0\" >IAM</td> \n",
       "        <td id=\"T_23378ebd_553c_11e8_9d29_9801a79daeedrow3_col1\" class=\"data row3 col1\" >object</td> \n",
       "        <td id=\"T_23378ebd_553c_11e8_9d29_9801a79daeedrow3_col2\" class=\"data row3 col2\" >NA</td> \n",
       "        <td id=\"T_23378ebd_553c_11e8_9d29_9801a79daeedrow3_col3\" class=\"data row3 col3\" >NA</td> \n",
       "        <td id=\"T_23378ebd_553c_11e8_9d29_9801a79daeedrow3_col4\" class=\"data row3 col4\" >[('IFC/MIGA Compliance Advisor/Ombudsman (IFC CAO)', 262)]</td> \n",
       "        <td id=\"T_23378ebd_553c_11e8_9d29_9801a79daeedrow3_col5\" class=\"data row3 col5\" >14</td> \n",
       "        <td id=\"T_23378ebd_553c_11e8_9d29_9801a79daeedrow3_col6\" class=\"data row3 col6\" >2</td> \n",
       "        <td id=\"T_23378ebd_553c_11e8_9d29_9801a79daeedrow3_col7\" class=\"data row3 col7\" >0.00245399</td> \n",
       "    </tr>    <tr> \n",
       "        <th id=\"T_23378ebd_553c_11e8_9d29_9801a79daeedlevel0_row4\" class=\"row_heading level0 row4\" >4</th> \n",
       "        <td id=\"T_23378ebd_553c_11e8_9d29_9801a79daeedrow4_col0\" class=\"data row4 col0\" >Bank</td> \n",
       "        <td id=\"T_23378ebd_553c_11e8_9d29_9801a79daeedrow4_col1\" class=\"data row4 col1\" >object</td> \n",
       "        <td id=\"T_23378ebd_553c_11e8_9d29_9801a79daeedrow4_col2\" class=\"data row4 col2\" >NA</td> \n",
       "        <td id=\"T_23378ebd_553c_11e8_9d29_9801a79daeedrow4_col3\" class=\"data row4 col3\" >NA</td> \n",
       "        <td id=\"T_23378ebd_553c_11e8_9d29_9801a79daeedrow4_col4\" class=\"data row4 col4\" >[('IFC/MIGA', 262)]</td> \n",
       "        <td id=\"T_23378ebd_553c_11e8_9d29_9801a79daeedrow4_col5\" class=\"data row4 col5\" >13</td> \n",
       "        <td id=\"T_23378ebd_553c_11e8_9d29_9801a79daeedrow4_col6\" class=\"data row4 col6\" >2</td> \n",
       "        <td id=\"T_23378ebd_553c_11e8_9d29_9801a79daeedrow4_col7\" class=\"data row4 col7\" >0.00245399</td> \n",
       "    </tr>    <tr> \n",
       "        <th id=\"T_23378ebd_553c_11e8_9d29_9801a79daeedlevel0_row5\" class=\"row_heading level0 row5\" >5</th> \n",
       "        <td id=\"T_23378ebd_553c_11e8_9d29_9801a79daeedrow5_col0\" class=\"data row5 col0\" >External ID</td> \n",
       "        <td id=\"T_23378ebd_553c_11e8_9d29_9801a79daeedrow5_col1\" class=\"data row5 col1\" >object</td> \n",
       "        <td id=\"T_23378ebd_553c_11e8_9d29_9801a79daeedrow5_col2\" class=\"data row5 col2\" >NA</td> \n",
       "        <td id=\"T_23378ebd_553c_11e8_9d29_9801a79daeedrow5_col3\" class=\"data row5 col3\" >NA</td> \n",
       "        <td id=\"T_23378ebd_553c_11e8_9d29_9801a79daeedrow5_col4\" class=\"data row5 col4\" >[(nan, 8)]</td> \n",
       "        <td id=\"T_23378ebd_553c_11e8_9d29_9801a79daeedrow5_col5\" class=\"data row5 col5\" >746</td> \n",
       "        <td id=\"T_23378ebd_553c_11e8_9d29_9801a79daeedrow5_col6\" class=\"data row5 col6\" >8</td> \n",
       "        <td id=\"T_23378ebd_553c_11e8_9d29_9801a79daeedrow5_col7\" class=\"data row5 col7\" >0.00981595</td> \n",
       "    </tr>    <tr> \n",
       "        <th id=\"T_23378ebd_553c_11e8_9d29_9801a79daeedlevel0_row6\" class=\"row_heading level0 row6\" >6</th> \n",
       "        <td id=\"T_23378ebd_553c_11e8_9d29_9801a79daeedrow6_col0\" class=\"data row6 col0\" >Status</td> \n",
       "        <td id=\"T_23378ebd_553c_11e8_9d29_9801a79daeedrow6_col1\" class=\"data row6 col1\" >object</td> \n",
       "        <td id=\"T_23378ebd_553c_11e8_9d29_9801a79daeedrow6_col2\" class=\"data row6 col2\" >NA</td> \n",
       "        <td id=\"T_23378ebd_553c_11e8_9d29_9801a79daeedrow6_col3\" class=\"data row6 col3\" >NA</td> \n",
       "        <td id=\"T_23378ebd_553c_11e8_9d29_9801a79daeedrow6_col4\" class=\"data row6 col4\" >[('Closed Without Results', 546)]</td> \n",
       "        <td id=\"T_23378ebd_553c_11e8_9d29_9801a79daeedrow6_col5\" class=\"data row6 col5\" >6</td> \n",
       "        <td id=\"T_23378ebd_553c_11e8_9d29_9801a79daeedrow6_col6\" class=\"data row6 col6\" >0</td> \n",
       "        <td id=\"T_23378ebd_553c_11e8_9d29_9801a79daeedrow6_col7\" class=\"data row6 col7\" >0</td> \n",
       "    </tr>    <tr> \n",
       "        <th id=\"T_23378ebd_553c_11e8_9d29_9801a79daeedlevel0_row7\" class=\"row_heading level0 row7\" >7</th> \n",
       "        <td id=\"T_23378ebd_553c_11e8_9d29_9801a79daeedrow7_col0\" class=\"data row7 col0\" >Filer</td> \n",
       "        <td id=\"T_23378ebd_553c_11e8_9d29_9801a79daeedrow7_col1\" class=\"data row7 col1\" >object</td> \n",
       "        <td id=\"T_23378ebd_553c_11e8_9d29_9801a79daeedrow7_col2\" class=\"data row7 col2\" >NA</td> \n",
       "        <td id=\"T_23378ebd_553c_11e8_9d29_9801a79daeedrow7_col3\" class=\"data row7 col3\" >NA</td> \n",
       "        <td id=\"T_23378ebd_553c_11e8_9d29_9801a79daeedrow7_col4\" class=\"data row7 col4\" >[(nan, 311)]</td> \n",
       "        <td id=\"T_23378ebd_553c_11e8_9d29_9801a79daeedrow7_col5\" class=\"data row7 col5\" >224</td> \n",
       "        <td id=\"T_23378ebd_553c_11e8_9d29_9801a79daeedrow7_col6\" class=\"data row7 col6\" >311</td> \n",
       "        <td id=\"T_23378ebd_553c_11e8_9d29_9801a79daeedrow7_col7\" class=\"data row7 col7\" >0.381595</td> \n",
       "    </tr>    <tr> \n",
       "        <th id=\"T_23378ebd_553c_11e8_9d29_9801a79daeedlevel0_row8\" class=\"row_heading level0 row8\" >8</th> \n",
       "        <td id=\"T_23378ebd_553c_11e8_9d29_9801a79daeedrow8_col0\" class=\"data row8 col0\" >IFI Support</td> \n",
       "        <td id=\"T_23378ebd_553c_11e8_9d29_9801a79daeedrow8_col1\" class=\"data row8 col1\" >object</td> \n",
       "        <td id=\"T_23378ebd_553c_11e8_9d29_9801a79daeedrow8_col2\" class=\"data row8 col2\" >NA</td> \n",
       "        <td id=\"T_23378ebd_553c_11e8_9d29_9801a79daeedrow8_col3\" class=\"data row8 col3\" >NA</td> \n",
       "        <td id=\"T_23378ebd_553c_11e8_9d29_9801a79daeedrow8_col4\" class=\"data row8 col4\" >[('Project/investment lending', 399)]</td> \n",
       "        <td id=\"T_23378ebd_553c_11e8_9d29_9801a79daeedrow8_col5\" class=\"data row8 col5\" >12</td> \n",
       "        <td id=\"T_23378ebd_553c_11e8_9d29_9801a79daeedrow8_col6\" class=\"data row8 col6\" >284</td> \n",
       "        <td id=\"T_23378ebd_553c_11e8_9d29_9801a79daeedrow8_col7\" class=\"data row8 col7\" >0.348466</td> \n",
       "    </tr>    <tr> \n",
       "        <th id=\"T_23378ebd_553c_11e8_9d29_9801a79daeedlevel0_row9\" class=\"row_heading level0 row9\" >9</th> \n",
       "        <td id=\"T_23378ebd_553c_11e8_9d29_9801a79daeedrow9_col0\" class=\"data row9 col0\" >Sector</td> \n",
       "        <td id=\"T_23378ebd_553c_11e8_9d29_9801a79daeedrow9_col1\" class=\"data row9 col1\" >object</td> \n",
       "        <td id=\"T_23378ebd_553c_11e8_9d29_9801a79daeedrow9_col2\" class=\"data row9 col2\" >NA</td> \n",
       "        <td id=\"T_23378ebd_553c_11e8_9d29_9801a79daeedrow9_col3\" class=\"data row9 col3\" >NA</td> \n",
       "        <td id=\"T_23378ebd_553c_11e8_9d29_9801a79daeedrow9_col4\" class=\"data row9 col4\" >[('Infrastructure', 180)]</td> \n",
       "        <td id=\"T_23378ebd_553c_11e8_9d29_9801a79daeedrow9_col5\" class=\"data row9 col5\" >53</td> \n",
       "        <td id=\"T_23378ebd_553c_11e8_9d29_9801a79daeedrow9_col6\" class=\"data row9 col6\" >158</td> \n",
       "        <td id=\"T_23378ebd_553c_11e8_9d29_9801a79daeedrow9_col7\" class=\"data row9 col7\" >0.193865</td> \n",
       "    </tr>    <tr> \n",
       "        <th id=\"T_23378ebd_553c_11e8_9d29_9801a79daeedlevel0_row10\" class=\"row_heading level0 row10\" >10</th> \n",
       "        <td id=\"T_23378ebd_553c_11e8_9d29_9801a79daeedrow10_col0\" class=\"data row10 col0\" >Issues</td> \n",
       "        <td id=\"T_23378ebd_553c_11e8_9d29_9801a79daeedrow10_col1\" class=\"data row10 col1\" >object</td> \n",
       "        <td id=\"T_23378ebd_553c_11e8_9d29_9801a79daeedrow10_col2\" class=\"data row10 col2\" >NA</td> \n",
       "        <td id=\"T_23378ebd_553c_11e8_9d29_9801a79daeedrow10_col3\" class=\"data row10 col3\" >NA</td> \n",
       "        <td id=\"T_23378ebd_553c_11e8_9d29_9801a79daeedrow10_col4\" class=\"data row10 col4\" >[('Other', 297)]</td> \n",
       "        <td id=\"T_23378ebd_553c_11e8_9d29_9801a79daeedrow10_col5\" class=\"data row10 col5\" >312</td> \n",
       "        <td id=\"T_23378ebd_553c_11e8_9d29_9801a79daeedrow10_col6\" class=\"data row10 col6\" >0</td> \n",
       "        <td id=\"T_23378ebd_553c_11e8_9d29_9801a79daeedrow10_col7\" class=\"data row10 col7\" >0</td> \n",
       "    </tr>    <tr> \n",
       "        <th id=\"T_23378ebd_553c_11e8_9d29_9801a79daeedlevel0_row11\" class=\"row_heading level0 row11\" >11</th> \n",
       "        <td id=\"T_23378ebd_553c_11e8_9d29_9801a79daeedrow11_col0\" class=\"data row11 col0\" >Description</td> \n",
       "        <td id=\"T_23378ebd_553c_11e8_9d29_9801a79daeedrow11_col1\" class=\"data row11 col1\" >object</td> \n",
       "        <td id=\"T_23378ebd_553c_11e8_9d29_9801a79daeedrow11_col2\" class=\"data row11 col2\" >NA</td> \n",
       "        <td id=\"T_23378ebd_553c_11e8_9d29_9801a79daeedrow11_col3\" class=\"data row11 col3\" >NA</td> \n",
       "        <td id=\"T_23378ebd_553c_11e8_9d29_9801a79daeedrow11_col4\" class=\"data row11 col4\" >[(nan, 801)]</td> \n",
       "        <td id=\"T_23378ebd_553c_11e8_9d29_9801a79daeedrow11_col5\" class=\"data row11 col5\" >13</td> \n",
       "        <td id=\"T_23378ebd_553c_11e8_9d29_9801a79daeedrow11_col6\" class=\"data row11 col6\" >801</td> \n",
       "        <td id=\"T_23378ebd_553c_11e8_9d29_9801a79daeedrow11_col7\" class=\"data row11 col7\" >0.982822</td> \n",
       "    </tr>    <tr> \n",
       "        <th id=\"T_23378ebd_553c_11e8_9d29_9801a79daeedlevel0_row12\" class=\"row_heading level0 row12\" >12</th> \n",
       "        <td id=\"T_23378ebd_553c_11e8_9d29_9801a79daeedrow12_col0\" class=\"data row12 col0\" >Non-Compliance Found</td> \n",
       "        <td id=\"T_23378ebd_553c_11e8_9d29_9801a79daeedrow12_col1\" class=\"data row12 col1\" >bool</td> \n",
       "        <td id=\"T_23378ebd_553c_11e8_9d29_9801a79daeedrow12_col2\" class=\"data row12 col2\" >False</td> \n",
       "        <td id=\"T_23378ebd_553c_11e8_9d29_9801a79daeedrow12_col3\" class=\"data row12 col3\" >True</td> \n",
       "        <td id=\"T_23378ebd_553c_11e8_9d29_9801a79daeedrow12_col4\" class=\"data row12 col4\" >0.103067</td> \n",
       "        <td id=\"T_23378ebd_553c_11e8_9d29_9801a79daeedrow12_col5\" class=\"data row12 col5\" >2</td> \n",
       "        <td id=\"T_23378ebd_553c_11e8_9d29_9801a79daeedrow12_col6\" class=\"data row12 col6\" >0</td> \n",
       "        <td id=\"T_23378ebd_553c_11e8_9d29_9801a79daeedrow12_col7\" class=\"data row12 col7\" >0</td> \n",
       "    </tr>    <tr> \n",
       "        <th id=\"T_23378ebd_553c_11e8_9d29_9801a79daeedlevel0_row13\" class=\"row_heading level0 row13\" >13</th> \n",
       "        <td id=\"T_23378ebd_553c_11e8_9d29_9801a79daeedrow13_col0\" class=\"data row13 col0\" >Filing Date</td> \n",
       "        <td id=\"T_23378ebd_553c_11e8_9d29_9801a79daeedrow13_col1\" class=\"data row13 col1\" >datetime64[ns]</td> \n",
       "        <td id=\"T_23378ebd_553c_11e8_9d29_9801a79daeedrow13_col2\" class=\"data row13 col2\" >1994-10-24 00:00:00</td> \n",
       "        <td id=\"T_23378ebd_553c_11e8_9d29_9801a79daeedrow13_col3\" class=\"data row13 col3\" >2016-09-15 00:00:00</td> \n",
       "        <td id=\"T_23378ebd_553c_11e8_9d29_9801a79daeedrow13_col4\" class=\"data row13 col4\" >[(Timestamp('2005-07-05 00:00:00'), 19)]</td> \n",
       "        <td id=\"T_23378ebd_553c_11e8_9d29_9801a79daeedrow13_col5\" class=\"data row13 col5\" >558</td> \n",
       "        <td id=\"T_23378ebd_553c_11e8_9d29_9801a79daeedrow13_col6\" class=\"data row13 col6\" >16</td> \n",
       "        <td id=\"T_23378ebd_553c_11e8_9d29_9801a79daeedrow13_col7\" class=\"data row13 col7\" >0.0196319</td> \n",
       "    </tr>    <tr> \n",
       "        <th id=\"T_23378ebd_553c_11e8_9d29_9801a79daeedlevel0_row14\" class=\"row_heading level0 row14\" >14</th> \n",
       "        <td id=\"T_23378ebd_553c_11e8_9d29_9801a79daeedrow14_col0\" class=\"data row14 col0\" >Registration Date</td> \n",
       "        <td id=\"T_23378ebd_553c_11e8_9d29_9801a79daeedrow14_col1\" class=\"data row14 col1\" >datetime64[ns]</td> \n",
       "        <td id=\"T_23378ebd_553c_11e8_9d29_9801a79daeedrow14_col2\" class=\"data row14 col2\" >1994-11-03 00:00:00</td> \n",
       "        <td id=\"T_23378ebd_553c_11e8_9d29_9801a79daeedrow14_col3\" class=\"data row14 col3\" >2015-12-18 00:00:00</td> \n",
       "        <td id=\"T_23378ebd_553c_11e8_9d29_9801a79daeedrow14_col4\" class=\"data row14 col4\" >[(NaT, 525)]</td> \n",
       "        <td id=\"T_23378ebd_553c_11e8_9d29_9801a79daeedrow14_col5\" class=\"data row14 col5\" >263</td> \n",
       "        <td id=\"T_23378ebd_553c_11e8_9d29_9801a79daeedrow14_col6\" class=\"data row14 col6\" >525</td> \n",
       "        <td id=\"T_23378ebd_553c_11e8_9d29_9801a79daeedrow14_col7\" class=\"data row14 col7\" >0.644172</td> \n",
       "    </tr>    <tr> \n",
       "        <th id=\"T_23378ebd_553c_11e8_9d29_9801a79daeedlevel0_row15\" class=\"row_heading level0 row15\" >15</th> \n",
       "        <td id=\"T_23378ebd_553c_11e8_9d29_9801a79daeedrow15_col0\" class=\"data row15 col0\" >Eligibility Date</td> \n",
       "        <td id=\"T_23378ebd_553c_11e8_9d29_9801a79daeedrow15_col1\" class=\"data row15 col1\" >datetime64[ns]</td> \n",
       "        <td id=\"T_23378ebd_553c_11e8_9d29_9801a79daeedrow15_col2\" class=\"data row15 col2\" >1994-12-16 00:00:00</td> \n",
       "        <td id=\"T_23378ebd_553c_11e8_9d29_9801a79daeedrow15_col3\" class=\"data row15 col3\" >2015-12-09 00:00:00</td> \n",
       "        <td id=\"T_23378ebd_553c_11e8_9d29_9801a79daeedrow15_col4\" class=\"data row15 col4\" >[(NaT, 533)]</td> \n",
       "        <td id=\"T_23378ebd_553c_11e8_9d29_9801a79daeedrow15_col5\" class=\"data row15 col5\" >235</td> \n",
       "        <td id=\"T_23378ebd_553c_11e8_9d29_9801a79daeedrow15_col6\" class=\"data row15 col6\" >533</td> \n",
       "        <td id=\"T_23378ebd_553c_11e8_9d29_9801a79daeedrow15_col7\" class=\"data row15 col7\" >0.653988</td> \n",
       "    </tr>    <tr> \n",
       "        <th id=\"T_23378ebd_553c_11e8_9d29_9801a79daeedlevel0_row16\" class=\"row_heading level0 row16\" >16</th> \n",
       "        <td id=\"T_23378ebd_553c_11e8_9d29_9801a79daeedrow16_col0\" class=\"data row16 col0\" >If No Eligibility, Why?</td> \n",
       "        <td id=\"T_23378ebd_553c_11e8_9d29_9801a79daeedrow16_col1\" class=\"data row16 col1\" >object</td> \n",
       "        <td id=\"T_23378ebd_553c_11e8_9d29_9801a79daeedrow16_col2\" class=\"data row16 col2\" >NA</td> \n",
       "        <td id=\"T_23378ebd_553c_11e8_9d29_9801a79daeedrow16_col3\" class=\"data row16 col3\" >NA</td> \n",
       "        <td id=\"T_23378ebd_553c_11e8_9d29_9801a79daeedrow16_col4\" class=\"data row16 col4\" >[(nan, 612)]</td> \n",
       "        <td id=\"T_23378ebd_553c_11e8_9d29_9801a79daeedrow16_col5\" class=\"data row16 col5\" >64</td> \n",
       "        <td id=\"T_23378ebd_553c_11e8_9d29_9801a79daeedrow16_col6\" class=\"data row16 col6\" >612</td> \n",
       "        <td id=\"T_23378ebd_553c_11e8_9d29_9801a79daeedrow16_col7\" class=\"data row16 col7\" >0.75092</td> \n",
       "    </tr>    <tr> \n",
       "        <th id=\"T_23378ebd_553c_11e8_9d29_9801a79daeedlevel0_row17\" class=\"row_heading level0 row17\" >17</th> \n",
       "        <td id=\"T_23378ebd_553c_11e8_9d29_9801a79daeedrow17_col0\" class=\"data row17 col0\" >Dispute Resolution Start</td> \n",
       "        <td id=\"T_23378ebd_553c_11e8_9d29_9801a79daeedrow17_col1\" class=\"data row17 col1\" >datetime64[ns]</td> \n",
       "        <td id=\"T_23378ebd_553c_11e8_9d29_9801a79daeedrow17_col2\" class=\"data row17 col2\" >2001-06-01 00:00:00</td> \n",
       "        <td id=\"T_23378ebd_553c_11e8_9d29_9801a79daeedrow17_col3\" class=\"data row17 col3\" >2015-10-20 00:00:00</td> \n",
       "        <td id=\"T_23378ebd_553c_11e8_9d29_9801a79daeedrow17_col4\" class=\"data row17 col4\" >[(NaT, 726)]</td> \n",
       "        <td id=\"T_23378ebd_553c_11e8_9d29_9801a79daeedrow17_col5\" class=\"data row17 col5\" >73</td> \n",
       "        <td id=\"T_23378ebd_553c_11e8_9d29_9801a79daeedrow17_col6\" class=\"data row17 col6\" >726</td> \n",
       "        <td id=\"T_23378ebd_553c_11e8_9d29_9801a79daeedrow17_col7\" class=\"data row17 col7\" >0.890798</td> \n",
       "    </tr>    <tr> \n",
       "        <th id=\"T_23378ebd_553c_11e8_9d29_9801a79daeedlevel0_row18\" class=\"row_heading level0 row18\" >18</th> \n",
       "        <td id=\"T_23378ebd_553c_11e8_9d29_9801a79daeedrow18_col0\" class=\"data row18 col0\" >Dispute Resolution End</td> \n",
       "        <td id=\"T_23378ebd_553c_11e8_9d29_9801a79daeedrow18_col1\" class=\"data row18 col1\" >datetime64[ns]</td> \n",
       "        <td id=\"T_23378ebd_553c_11e8_9d29_9801a79daeedrow18_col2\" class=\"data row18 col2\" >2001-07-01 00:00:00</td> \n",
       "        <td id=\"T_23378ebd_553c_11e8_9d29_9801a79daeedrow18_col3\" class=\"data row18 col3\" >2015-09-01 00:00:00</td> \n",
       "        <td id=\"T_23378ebd_553c_11e8_9d29_9801a79daeedrow18_col4\" class=\"data row18 col4\" >[(NaT, 747)]</td> \n",
       "        <td id=\"T_23378ebd_553c_11e8_9d29_9801a79daeedrow18_col5\" class=\"data row18 col5\" >57</td> \n",
       "        <td id=\"T_23378ebd_553c_11e8_9d29_9801a79daeedrow18_col6\" class=\"data row18 col6\" >747</td> \n",
       "        <td id=\"T_23378ebd_553c_11e8_9d29_9801a79daeedrow18_col7\" class=\"data row18 col7\" >0.916564</td> \n",
       "    </tr>    <tr> \n",
       "        <th id=\"T_23378ebd_553c_11e8_9d29_9801a79daeedlevel0_row19\" class=\"row_heading level0 row19\" >19</th> \n",
       "        <td id=\"T_23378ebd_553c_11e8_9d29_9801a79daeedrow19_col0\" class=\"data row19 col0\" >Dispute Resolution Status</td> \n",
       "        <td id=\"T_23378ebd_553c_11e8_9d29_9801a79daeedrow19_col1\" class=\"data row19 col1\" >object</td> \n",
       "        <td id=\"T_23378ebd_553c_11e8_9d29_9801a79daeedrow19_col2\" class=\"data row19 col2\" >NA</td> \n",
       "        <td id=\"T_23378ebd_553c_11e8_9d29_9801a79daeedrow19_col3\" class=\"data row19 col3\" >NA</td> \n",
       "        <td id=\"T_23378ebd_553c_11e8_9d29_9801a79daeedrow19_col4\" class=\"data row19 col4\" >[('Not Undertaken', 690)]</td> \n",
       "        <td id=\"T_23378ebd_553c_11e8_9d29_9801a79daeedrow19_col5\" class=\"data row19 col5\" >2</td> \n",
       "        <td id=\"T_23378ebd_553c_11e8_9d29_9801a79daeedrow19_col6\" class=\"data row19 col6\" >14</td> \n",
       "        <td id=\"T_23378ebd_553c_11e8_9d29_9801a79daeedrow19_col7\" class=\"data row19 col7\" >0.0171779</td> \n",
       "    </tr>    <tr> \n",
       "        <th id=\"T_23378ebd_553c_11e8_9d29_9801a79daeedlevel0_row20\" class=\"row_heading level0 row20\" >20</th> \n",
       "        <td id=\"T_23378ebd_553c_11e8_9d29_9801a79daeedrow20_col0\" class=\"data row20 col0\" >If No DR, Why?</td> \n",
       "        <td id=\"T_23378ebd_553c_11e8_9d29_9801a79daeedrow20_col1\" class=\"data row20 col1\" >object</td> \n",
       "        <td id=\"T_23378ebd_553c_11e8_9d29_9801a79daeedrow20_col2\" class=\"data row20 col2\" >NA</td> \n",
       "        <td id=\"T_23378ebd_553c_11e8_9d29_9801a79daeedrow20_col3\" class=\"data row20 col3\" >NA</td> \n",
       "        <td id=\"T_23378ebd_553c_11e8_9d29_9801a79daeedrow20_col4\" class=\"data row20 col4\" >[('Complaint originally deemed ineligible', 385)]</td> \n",
       "        <td id=\"T_23378ebd_553c_11e8_9d29_9801a79daeedrow20_col5\" class=\"data row20 col5\" >12</td> \n",
       "        <td id=\"T_23378ebd_553c_11e8_9d29_9801a79daeedrow20_col6\" class=\"data row20 col6\" >160</td> \n",
       "        <td id=\"T_23378ebd_553c_11e8_9d29_9801a79daeedrow20_col7\" class=\"data row20 col7\" >0.196319</td> \n",
       "    </tr>    <tr> \n",
       "        <th id=\"T_23378ebd_553c_11e8_9d29_9801a79daeedlevel0_row21\" class=\"row_heading level0 row21\" >21</th> \n",
       "        <td id=\"T_23378ebd_553c_11e8_9d29_9801a79daeedrow21_col0\" class=\"data row21 col0\" >Compliance Review Start</td> \n",
       "        <td id=\"T_23378ebd_553c_11e8_9d29_9801a79daeedrow21_col1\" class=\"data row21 col1\" >datetime64[ns]</td> \n",
       "        <td id=\"T_23378ebd_553c_11e8_9d29_9801a79daeedrow21_col2\" class=\"data row21 col2\" >1994-12-16 00:00:00</td> \n",
       "        <td id=\"T_23378ebd_553c_11e8_9d29_9801a79daeedrow21_col3\" class=\"data row21 col3\" >2015-12-03 00:00:00</td> \n",
       "        <td id=\"T_23378ebd_553c_11e8_9d29_9801a79daeedrow21_col4\" class=\"data row21 col4\" >[(NaT, 674)]</td> \n",
       "        <td id=\"T_23378ebd_553c_11e8_9d29_9801a79daeedrow21_col5\" class=\"data row21 col5\" >131</td> \n",
       "        <td id=\"T_23378ebd_553c_11e8_9d29_9801a79daeedrow21_col6\" class=\"data row21 col6\" >674</td> \n",
       "        <td id=\"T_23378ebd_553c_11e8_9d29_9801a79daeedrow21_col7\" class=\"data row21 col7\" >0.826994</td> \n",
       "    </tr>    <tr> \n",
       "        <th id=\"T_23378ebd_553c_11e8_9d29_9801a79daeedlevel0_row22\" class=\"row_heading level0 row22\" >22</th> \n",
       "        <td id=\"T_23378ebd_553c_11e8_9d29_9801a79daeedrow22_col0\" class=\"data row22 col0\" >Compliance Review End</td> \n",
       "        <td id=\"T_23378ebd_553c_11e8_9d29_9801a79daeedrow22_col1\" class=\"data row22 col1\" >datetime64[ns]</td> \n",
       "        <td id=\"T_23378ebd_553c_11e8_9d29_9801a79daeedrow22_col2\" class=\"data row22 col2\" >1995-06-16 00:00:00</td> \n",
       "        <td id=\"T_23378ebd_553c_11e8_9d29_9801a79daeedrow22_col3\" class=\"data row22 col3\" >2015-12-03 00:00:00</td> \n",
       "        <td id=\"T_23378ebd_553c_11e8_9d29_9801a79daeedrow22_col4\" class=\"data row22 col4\" >[(NaT, 705)]</td> \n",
       "        <td id=\"T_23378ebd_553c_11e8_9d29_9801a79daeedrow22_col5\" class=\"data row22 col5\" >105</td> \n",
       "        <td id=\"T_23378ebd_553c_11e8_9d29_9801a79daeedrow22_col6\" class=\"data row22 col6\" >705</td> \n",
       "        <td id=\"T_23378ebd_553c_11e8_9d29_9801a79daeedrow22_col7\" class=\"data row22 col7\" >0.865031</td> \n",
       "    </tr>    <tr> \n",
       "        <th id=\"T_23378ebd_553c_11e8_9d29_9801a79daeedlevel0_row23\" class=\"row_heading level0 row23\" >23</th> \n",
       "        <td id=\"T_23378ebd_553c_11e8_9d29_9801a79daeedrow23_col0\" class=\"data row23 col0\" >Compliance Report Issued</td> \n",
       "        <td id=\"T_23378ebd_553c_11e8_9d29_9801a79daeedrow23_col1\" class=\"data row23 col1\" >bool</td> \n",
       "        <td id=\"T_23378ebd_553c_11e8_9d29_9801a79daeedrow23_col2\" class=\"data row23 col2\" >False</td> \n",
       "        <td id=\"T_23378ebd_553c_11e8_9d29_9801a79daeedrow23_col3\" class=\"data row23 col3\" >True</td> \n",
       "        <td id=\"T_23378ebd_553c_11e8_9d29_9801a79daeedrow23_col4\" class=\"data row23 col4\" >0.106748</td> \n",
       "        <td id=\"T_23378ebd_553c_11e8_9d29_9801a79daeedrow23_col5\" class=\"data row23 col5\" >2</td> \n",
       "        <td id=\"T_23378ebd_553c_11e8_9d29_9801a79daeedrow23_col6\" class=\"data row23 col6\" >0</td> \n",
       "        <td id=\"T_23378ebd_553c_11e8_9d29_9801a79daeedrow23_col7\" class=\"data row23 col7\" >0</td> \n",
       "    </tr>    <tr> \n",
       "        <th id=\"T_23378ebd_553c_11e8_9d29_9801a79daeedlevel0_row24\" class=\"row_heading level0 row24\" >24</th> \n",
       "        <td id=\"T_23378ebd_553c_11e8_9d29_9801a79daeedrow24_col0\" class=\"data row24 col0\" >If No CR, Why?</td> \n",
       "        <td id=\"T_23378ebd_553c_11e8_9d29_9801a79daeedrow24_col1\" class=\"data row24 col1\" >object</td> \n",
       "        <td id=\"T_23378ebd_553c_11e8_9d29_9801a79daeedrow24_col2\" class=\"data row24 col2\" >NA</td> \n",
       "        <td id=\"T_23378ebd_553c_11e8_9d29_9801a79daeedrow24_col3\" class=\"data row24 col3\" >NA</td> \n",
       "        <td id=\"T_23378ebd_553c_11e8_9d29_9801a79daeedrow24_col4\" class=\"data row24 col4\" >[('Complaint originally deemed ineligible', 407)]</td> \n",
       "        <td id=\"T_23378ebd_553c_11e8_9d29_9801a79daeedrow24_col5\" class=\"data row24 col5\" >16</td> \n",
       "        <td id=\"T_23378ebd_553c_11e8_9d29_9801a79daeedrow24_col6\" class=\"data row24 col6\" >186</td> \n",
       "        <td id=\"T_23378ebd_553c_11e8_9d29_9801a79daeedrow24_col7\" class=\"data row24 col7\" >0.228221</td> \n",
       "    </tr>    <tr> \n",
       "        <th id=\"T_23378ebd_553c_11e8_9d29_9801a79daeedlevel0_row25\" class=\"row_heading level0 row25\" >25</th> \n",
       "        <td id=\"T_23378ebd_553c_11e8_9d29_9801a79daeedrow25_col0\" class=\"data row25 col0\" >Monitoring Start</td> \n",
       "        <td id=\"T_23378ebd_553c_11e8_9d29_9801a79daeedrow25_col1\" class=\"data row25 col1\" >datetime64[ns]</td> \n",
       "        <td id=\"T_23378ebd_553c_11e8_9d29_9801a79daeedrow25_col2\" class=\"data row25 col2\" >2001-06-01 00:00:00</td> \n",
       "        <td id=\"T_23378ebd_553c_11e8_9d29_9801a79daeedrow25_col3\" class=\"data row25 col3\" >2015-10-29 00:00:00</td> \n",
       "        <td id=\"T_23378ebd_553c_11e8_9d29_9801a79daeedrow25_col4\" class=\"data row25 col4\" >[(NaT, 721)]</td> \n",
       "        <td id=\"T_23378ebd_553c_11e8_9d29_9801a79daeedrow25_col5\" class=\"data row25 col5\" >85</td> \n",
       "        <td id=\"T_23378ebd_553c_11e8_9d29_9801a79daeedrow25_col6\" class=\"data row25 col6\" >721</td> \n",
       "        <td id=\"T_23378ebd_553c_11e8_9d29_9801a79daeedrow25_col7\" class=\"data row25 col7\" >0.884663</td> \n",
       "    </tr>    <tr> \n",
       "        <th id=\"T_23378ebd_553c_11e8_9d29_9801a79daeedlevel0_row26\" class=\"row_heading level0 row26\" >26</th> \n",
       "        <td id=\"T_23378ebd_553c_11e8_9d29_9801a79daeedrow26_col0\" class=\"data row26 col0\" >Monitoring End</td> \n",
       "        <td id=\"T_23378ebd_553c_11e8_9d29_9801a79daeedrow26_col1\" class=\"data row26 col1\" >datetime64[ns]</td> \n",
       "        <td id=\"T_23378ebd_553c_11e8_9d29_9801a79daeedrow26_col2\" class=\"data row26 col2\" >2005-01-01 00:00:00</td> \n",
       "        <td id=\"T_23378ebd_553c_11e8_9d29_9801a79daeedrow26_col3\" class=\"data row26 col3\" >2015-12-10 00:00:00</td> \n",
       "        <td id=\"T_23378ebd_553c_11e8_9d29_9801a79daeedrow26_col4\" class=\"data row26 col4\" >[(NaT, 752)]</td> \n",
       "        <td id=\"T_23378ebd_553c_11e8_9d29_9801a79daeedrow26_col5\" class=\"data row26 col5\" >61</td> \n",
       "        <td id=\"T_23378ebd_553c_11e8_9d29_9801a79daeedrow26_col6\" class=\"data row26 col6\" >752</td> \n",
       "        <td id=\"T_23378ebd_553c_11e8_9d29_9801a79daeedrow26_col7\" class=\"data row26 col7\" >0.922699</td> \n",
       "    </tr>    <tr> \n",
       "        <th id=\"T_23378ebd_553c_11e8_9d29_9801a79daeedlevel0_row27\" class=\"row_heading level0 row27\" >27</th> \n",
       "        <td id=\"T_23378ebd_553c_11e8_9d29_9801a79daeedrow27_col0\" class=\"data row27 col0\" >If No Monitoring, Why?</td> \n",
       "        <td id=\"T_23378ebd_553c_11e8_9d29_9801a79daeedrow27_col1\" class=\"data row27 col1\" >object</td> \n",
       "        <td id=\"T_23378ebd_553c_11e8_9d29_9801a79daeedrow27_col2\" class=\"data row27 col2\" >NA</td> \n",
       "        <td id=\"T_23378ebd_553c_11e8_9d29_9801a79daeedrow27_col3\" class=\"data row27 col3\" >NA</td> \n",
       "        <td id=\"T_23378ebd_553c_11e8_9d29_9801a79daeedrow27_col4\" class=\"data row27 col4\" >[('Complaint originally deemed ineligible', 388)]</td> \n",
       "        <td id=\"T_23378ebd_553c_11e8_9d29_9801a79daeedrow27_col5\" class=\"data row27 col5\" >11</td> \n",
       "        <td id=\"T_23378ebd_553c_11e8_9d29_9801a79daeedrow27_col6\" class=\"data row27 col6\" >142</td> \n",
       "        <td id=\"T_23378ebd_553c_11e8_9d29_9801a79daeedrow27_col7\" class=\"data row27 col7\" >0.174233</td> \n",
       "    </tr>    <tr> \n",
       "        <th id=\"T_23378ebd_553c_11e8_9d29_9801a79daeedlevel0_row28\" class=\"row_heading level0 row28\" >28</th> \n",
       "        <td id=\"T_23378ebd_553c_11e8_9d29_9801a79daeedrow28_col0\" class=\"data row28 col0\" >Date Closed</td> \n",
       "        <td id=\"T_23378ebd_553c_11e8_9d29_9801a79daeedrow28_col1\" class=\"data row28 col1\" >datetime64[ns]</td> \n",
       "        <td id=\"T_23378ebd_553c_11e8_9d29_9801a79daeedrow28_col2\" class=\"data row28 col2\" >1995-04-01 00:00:00</td> \n",
       "        <td id=\"T_23378ebd_553c_11e8_9d29_9801a79daeedrow28_col3\" class=\"data row28 col3\" >2015-12-01 00:00:00</td> \n",
       "        <td id=\"T_23378ebd_553c_11e8_9d29_9801a79daeedrow28_col4\" class=\"data row28 col4\" >[(NaT, 266)]</td> \n",
       "        <td id=\"T_23378ebd_553c_11e8_9d29_9801a79daeedrow28_col5\" class=\"data row28 col5\" >153</td> \n",
       "        <td id=\"T_23378ebd_553c_11e8_9d29_9801a79daeedrow28_col6\" class=\"data row28 col6\" >266</td> \n",
       "        <td id=\"T_23378ebd_553c_11e8_9d29_9801a79daeedrow28_col7\" class=\"data row28 col7\" >0.32638</td> \n",
       "    </tr></tbody> \n",
       "</table> "
      ],
      "text/plain": [
       "<pandas.io.formats.style.Styler at 0x111093950>"
      ]
     },
     "execution_count": 25,
     "metadata": {},
     "output_type": "execute_result"
    }
   ],
   "source": [
    "data, colordf = color_code_summary(ac)\n",
    "colordf"
   ]
  },
  {
   "cell_type": "markdown",
   "metadata": {},
   "source": [
    "**Fields Thata are Less than 25% Null **"
   ]
  },
  {
   "cell_type": "code",
   "execution_count": 29,
   "metadata": {},
   "outputs": [
    {
     "data": {
      "text/html": [
       "<div>\n",
       "<style scoped>\n",
       "    .dataframe tbody tr th:only-of-type {\n",
       "        vertical-align: middle;\n",
       "    }\n",
       "\n",
       "    .dataframe tbody tr th {\n",
       "        vertical-align: top;\n",
       "    }\n",
       "\n",
       "    .dataframe thead th {\n",
       "        text-align: right;\n",
       "    }\n",
       "</style>\n",
       "<table border=\"1\" class=\"dataframe\">\n",
       "  <thead>\n",
       "    <tr style=\"text-align: right;\">\n",
       "      <th></th>\n",
       "      <th>col</th>\n",
       "      <th>datatype</th>\n",
       "      <th>min</th>\n",
       "      <th>max</th>\n",
       "      <th>mean_or_most_common</th>\n",
       "      <th>num_uniq</th>\n",
       "      <th>null_count</th>\n",
       "      <th>null_pct</th>\n",
       "    </tr>\n",
       "  </thead>\n",
       "  <tbody>\n",
       "    <tr>\n",
       "      <th>0</th>\n",
       "      <td>Complaint Name</td>\n",
       "      <td>object</td>\n",
       "      <td>NA</td>\n",
       "      <td>NA</td>\n",
       "      <td>[(Panama Canal Expansion, 2)]</td>\n",
       "      <td>813</td>\n",
       "      <td>0</td>\n",
       "      <td>0.000000</td>\n",
       "    </tr>\n",
       "    <tr>\n",
       "      <th>1</th>\n",
       "      <td>Project</td>\n",
       "      <td>object</td>\n",
       "      <td>NA</td>\n",
       "      <td>NA</td>\n",
       "      <td>[(nan, 90)]</td>\n",
       "      <td>684</td>\n",
       "      <td>90</td>\n",
       "      <td>0.110429</td>\n",
       "    </tr>\n",
       "    <tr>\n",
       "      <th>2</th>\n",
       "      <td>Country</td>\n",
       "      <td>object</td>\n",
       "      <td>NA</td>\n",
       "      <td>NA</td>\n",
       "      <td>[(nan, 84)]</td>\n",
       "      <td>126</td>\n",
       "      <td>84</td>\n",
       "      <td>0.103067</td>\n",
       "    </tr>\n",
       "    <tr>\n",
       "      <th>3</th>\n",
       "      <td>IAM</td>\n",
       "      <td>object</td>\n",
       "      <td>NA</td>\n",
       "      <td>NA</td>\n",
       "      <td>[(IFC/MIGA Compliance Advisor/Ombudsman (IFC C...</td>\n",
       "      <td>14</td>\n",
       "      <td>2</td>\n",
       "      <td>0.002454</td>\n",
       "    </tr>\n",
       "    <tr>\n",
       "      <th>4</th>\n",
       "      <td>Bank</td>\n",
       "      <td>object</td>\n",
       "      <td>NA</td>\n",
       "      <td>NA</td>\n",
       "      <td>[(IFC/MIGA, 262)]</td>\n",
       "      <td>13</td>\n",
       "      <td>2</td>\n",
       "      <td>0.002454</td>\n",
       "    </tr>\n",
       "    <tr>\n",
       "      <th>5</th>\n",
       "      <td>External ID</td>\n",
       "      <td>object</td>\n",
       "      <td>NA</td>\n",
       "      <td>NA</td>\n",
       "      <td>[(nan, 8)]</td>\n",
       "      <td>746</td>\n",
       "      <td>8</td>\n",
       "      <td>0.009816</td>\n",
       "    </tr>\n",
       "    <tr>\n",
       "      <th>6</th>\n",
       "      <td>Status</td>\n",
       "      <td>object</td>\n",
       "      <td>NA</td>\n",
       "      <td>NA</td>\n",
       "      <td>[(Closed Without Results, 546)]</td>\n",
       "      <td>6</td>\n",
       "      <td>0</td>\n",
       "      <td>0.000000</td>\n",
       "    </tr>\n",
       "    <tr>\n",
       "      <th>9</th>\n",
       "      <td>Sector</td>\n",
       "      <td>object</td>\n",
       "      <td>NA</td>\n",
       "      <td>NA</td>\n",
       "      <td>[(Infrastructure, 180)]</td>\n",
       "      <td>53</td>\n",
       "      <td>158</td>\n",
       "      <td>0.193865</td>\n",
       "    </tr>\n",
       "    <tr>\n",
       "      <th>10</th>\n",
       "      <td>Issues</td>\n",
       "      <td>object</td>\n",
       "      <td>NA</td>\n",
       "      <td>NA</td>\n",
       "      <td>[(Other, 297)]</td>\n",
       "      <td>312</td>\n",
       "      <td>0</td>\n",
       "      <td>0.000000</td>\n",
       "    </tr>\n",
       "    <tr>\n",
       "      <th>12</th>\n",
       "      <td>Non-Compliance Found</td>\n",
       "      <td>bool</td>\n",
       "      <td>False</td>\n",
       "      <td>True</td>\n",
       "      <td>0.103067</td>\n",
       "      <td>2</td>\n",
       "      <td>0</td>\n",
       "      <td>0.000000</td>\n",
       "    </tr>\n",
       "    <tr>\n",
       "      <th>13</th>\n",
       "      <td>Filing Date</td>\n",
       "      <td>datetime64[ns]</td>\n",
       "      <td>1994-10-24 00:00:00</td>\n",
       "      <td>2016-09-15 00:00:00</td>\n",
       "      <td>[(2005-07-05 00:00:00, 19)]</td>\n",
       "      <td>558</td>\n",
       "      <td>16</td>\n",
       "      <td>0.019632</td>\n",
       "    </tr>\n",
       "    <tr>\n",
       "      <th>19</th>\n",
       "      <td>Dispute Resolution Status</td>\n",
       "      <td>object</td>\n",
       "      <td>NA</td>\n",
       "      <td>NA</td>\n",
       "      <td>[(Not Undertaken, 690)]</td>\n",
       "      <td>2</td>\n",
       "      <td>14</td>\n",
       "      <td>0.017178</td>\n",
       "    </tr>\n",
       "    <tr>\n",
       "      <th>20</th>\n",
       "      <td>If No DR, Why?</td>\n",
       "      <td>object</td>\n",
       "      <td>NA</td>\n",
       "      <td>NA</td>\n",
       "      <td>[(Complaint originally deemed ineligible, 385)]</td>\n",
       "      <td>12</td>\n",
       "      <td>160</td>\n",
       "      <td>0.196319</td>\n",
       "    </tr>\n",
       "    <tr>\n",
       "      <th>23</th>\n",
       "      <td>Compliance Report Issued</td>\n",
       "      <td>bool</td>\n",
       "      <td>False</td>\n",
       "      <td>True</td>\n",
       "      <td>0.106748</td>\n",
       "      <td>2</td>\n",
       "      <td>0</td>\n",
       "      <td>0.000000</td>\n",
       "    </tr>\n",
       "    <tr>\n",
       "      <th>24</th>\n",
       "      <td>If No CR, Why?</td>\n",
       "      <td>object</td>\n",
       "      <td>NA</td>\n",
       "      <td>NA</td>\n",
       "      <td>[(Complaint originally deemed ineligible, 407)]</td>\n",
       "      <td>16</td>\n",
       "      <td>186</td>\n",
       "      <td>0.228221</td>\n",
       "    </tr>\n",
       "    <tr>\n",
       "      <th>27</th>\n",
       "      <td>If No Monitoring, Why?</td>\n",
       "      <td>object</td>\n",
       "      <td>NA</td>\n",
       "      <td>NA</td>\n",
       "      <td>[(Complaint originally deemed ineligible, 388)]</td>\n",
       "      <td>11</td>\n",
       "      <td>142</td>\n",
       "      <td>0.174233</td>\n",
       "    </tr>\n",
       "  </tbody>\n",
       "</table>\n",
       "</div>"
      ],
      "text/plain": [
       "                          col        datatype                  min  \\\n",
       "0              Complaint Name          object                   NA   \n",
       "1                     Project          object                   NA   \n",
       "2                     Country          object                   NA   \n",
       "3                         IAM          object                   NA   \n",
       "4                        Bank          object                   NA   \n",
       "5                 External ID          object                   NA   \n",
       "6                      Status          object                   NA   \n",
       "9                      Sector          object                   NA   \n",
       "10                     Issues          object                   NA   \n",
       "12       Non-Compliance Found            bool                False   \n",
       "13                Filing Date  datetime64[ns]  1994-10-24 00:00:00   \n",
       "19  Dispute Resolution Status          object                   NA   \n",
       "20             If No DR, Why?          object                   NA   \n",
       "23   Compliance Report Issued            bool                False   \n",
       "24             If No CR, Why?          object                   NA   \n",
       "27     If No Monitoring, Why?          object                   NA   \n",
       "\n",
       "                    max                                mean_or_most_common  \\\n",
       "0                    NA                      [(Panama Canal Expansion, 2)]   \n",
       "1                    NA                                        [(nan, 90)]   \n",
       "2                    NA                                        [(nan, 84)]   \n",
       "3                    NA  [(IFC/MIGA Compliance Advisor/Ombudsman (IFC C...   \n",
       "4                    NA                                  [(IFC/MIGA, 262)]   \n",
       "5                    NA                                         [(nan, 8)]   \n",
       "6                    NA                    [(Closed Without Results, 546)]   \n",
       "9                    NA                            [(Infrastructure, 180)]   \n",
       "10                   NA                                     [(Other, 297)]   \n",
       "12                 True                                           0.103067   \n",
       "13  2016-09-15 00:00:00                        [(2005-07-05 00:00:00, 19)]   \n",
       "19                   NA                            [(Not Undertaken, 690)]   \n",
       "20                   NA    [(Complaint originally deemed ineligible, 385)]   \n",
       "23                 True                                           0.106748   \n",
       "24                   NA    [(Complaint originally deemed ineligible, 407)]   \n",
       "27                   NA    [(Complaint originally deemed ineligible, 388)]   \n",
       "\n",
       "    num_uniq  null_count  null_pct  \n",
       "0        813           0  0.000000  \n",
       "1        684          90  0.110429  \n",
       "2        126          84  0.103067  \n",
       "3         14           2  0.002454  \n",
       "4         13           2  0.002454  \n",
       "5        746           8  0.009816  \n",
       "6          6           0  0.000000  \n",
       "9         53         158  0.193865  \n",
       "10       312           0  0.000000  \n",
       "12         2           0  0.000000  \n",
       "13       558          16  0.019632  \n",
       "19         2          14  0.017178  \n",
       "20        12         160  0.196319  \n",
       "23         2           0  0.000000  \n",
       "24        16         186  0.228221  \n",
       "27        11         142  0.174233  "
      ]
     },
     "execution_count": 29,
     "metadata": {},
     "output_type": "execute_result"
    }
   ],
   "source": [
    "data[data.null_pct < .25]"
   ]
  },
  {
   "cell_type": "code",
   "execution_count": null,
   "metadata": {},
   "outputs": [],
   "source": []
  },
  {
   "cell_type": "code",
   "execution_count": 24,
   "metadata": {
    "collapsed": false
   },
   "outputs": [],
   "source": [
    "# #missing data\n",
    "# total = ac.isnull().sum().sort_values(ascending=False)\n",
    "# percent = (ac.isnull().sum()/ac.isnull().count()).sort_values(ascending=False)\n",
    "# missing_data = pd.concat([total, percent], axis=1, keys=['Total', 'Percent'])\n",
    "# missing_data"
   ]
  },
  {
   "cell_type": "code",
   "execution_count": 7,
   "metadata": {
    "collapsed": false
   },
   "outputs": [
    {
     "data": {
      "text/html": [
       "<div>\n",
       "<table border=\"1\" class=\"dataframe\">\n",
       "  <thead>\n",
       "    <tr style=\"text-align: right;\">\n",
       "      <th></th>\n",
       "      <th>Complaint Name</th>\n",
       "      <th>Project</th>\n",
       "      <th>Country</th>\n",
       "      <th>IAM</th>\n",
       "      <th>Bank</th>\n",
       "      <th>External ID</th>\n",
       "      <th>Status</th>\n",
       "      <th>Filer</th>\n",
       "      <th>IFI Support</th>\n",
       "      <th>Sector</th>\n",
       "      <th>...</th>\n",
       "      <th>Dispute Resolution Status</th>\n",
       "      <th>If No DR, Why?</th>\n",
       "      <th>Compliance Review Start</th>\n",
       "      <th>Compliance Review End</th>\n",
       "      <th>Compliance Report Issued</th>\n",
       "      <th>If No CR, Why?</th>\n",
       "      <th>Monitoring Start</th>\n",
       "      <th>Monitoring End</th>\n",
       "      <th>If No Monitoring, Why?</th>\n",
       "      <th>Date Closed</th>\n",
       "    </tr>\n",
       "  </thead>\n",
       "  <tbody>\n",
       "    <tr>\n",
       "      <th>count</th>\n",
       "      <td>815</td>\n",
       "      <td>725</td>\n",
       "      <td>731</td>\n",
       "      <td>813</td>\n",
       "      <td>813</td>\n",
       "      <td>807</td>\n",
       "      <td>815</td>\n",
       "      <td>504</td>\n",
       "      <td>531</td>\n",
       "      <td>657</td>\n",
       "      <td>...</td>\n",
       "      <td>801</td>\n",
       "      <td>655</td>\n",
       "      <td>141</td>\n",
       "      <td>110</td>\n",
       "      <td>815</td>\n",
       "      <td>629</td>\n",
       "      <td>94</td>\n",
       "      <td>63</td>\n",
       "      <td>673</td>\n",
       "      <td>549</td>\n",
       "    </tr>\n",
       "    <tr>\n",
       "      <th>unique</th>\n",
       "      <td>813</td>\n",
       "      <td>684</td>\n",
       "      <td>126</td>\n",
       "      <td>14</td>\n",
       "      <td>13</td>\n",
       "      <td>746</td>\n",
       "      <td>6</td>\n",
       "      <td>224</td>\n",
       "      <td>12</td>\n",
       "      <td>53</td>\n",
       "      <td>...</td>\n",
       "      <td>2</td>\n",
       "      <td>12</td>\n",
       "      <td>131</td>\n",
       "      <td>105</td>\n",
       "      <td>2</td>\n",
       "      <td>16</td>\n",
       "      <td>85</td>\n",
       "      <td>61</td>\n",
       "      <td>11</td>\n",
       "      <td>153</td>\n",
       "    </tr>\n",
       "    <tr>\n",
       "      <th>top</th>\n",
       "      <td>Panama Canal Expansion</td>\n",
       "      <td>Rehabilitation of the Railway in Cambodia Project</td>\n",
       "      <td>India</td>\n",
       "      <td>IFC/MIGA Compliance Advisor/Ombudsman (IFC CAO)</td>\n",
       "      <td>IFC/MIGA</td>\n",
       "      <td>99</td>\n",
       "      <td>Closed Without Results</td>\n",
       "      <td>Unknown</td>\n",
       "      <td>Project/investment lending</td>\n",
       "      <td>Infrastructure</td>\n",
       "      <td>...</td>\n",
       "      <td>Not Undertaken</td>\n",
       "      <td>Complaint originally deemed ineligible</td>\n",
       "      <td>2015-06-01 00:00:00</td>\n",
       "      <td>2010-10-15 00:00:00</td>\n",
       "      <td>False</td>\n",
       "      <td>Complaint originally deemed ineligible</td>\n",
       "      <td>2006-07-01 00:00:00</td>\n",
       "      <td>2013-06-01 00:00:00</td>\n",
       "      <td>Complaint originally deemed ineligible</td>\n",
       "      <td>2013-07-01 00:00:00</td>\n",
       "    </tr>\n",
       "    <tr>\n",
       "      <th>freq</th>\n",
       "      <td>2</td>\n",
       "      <td>5</td>\n",
       "      <td>64</td>\n",
       "      <td>262</td>\n",
       "      <td>262</td>\n",
       "      <td>5</td>\n",
       "      <td>546</td>\n",
       "      <td>244</td>\n",
       "      <td>399</td>\n",
       "      <td>180</td>\n",
       "      <td>...</td>\n",
       "      <td>690</td>\n",
       "      <td>385</td>\n",
       "      <td>3</td>\n",
       "      <td>2</td>\n",
       "      <td>728</td>\n",
       "      <td>407</td>\n",
       "      <td>3</td>\n",
       "      <td>2</td>\n",
       "      <td>388</td>\n",
       "      <td>14</td>\n",
       "    </tr>\n",
       "    <tr>\n",
       "      <th>first</th>\n",
       "      <td>NaN</td>\n",
       "      <td>NaN</td>\n",
       "      <td>NaN</td>\n",
       "      <td>NaN</td>\n",
       "      <td>NaN</td>\n",
       "      <td>NaN</td>\n",
       "      <td>NaN</td>\n",
       "      <td>NaN</td>\n",
       "      <td>NaN</td>\n",
       "      <td>NaN</td>\n",
       "      <td>...</td>\n",
       "      <td>NaN</td>\n",
       "      <td>NaN</td>\n",
       "      <td>1994-12-16 00:00:00</td>\n",
       "      <td>1995-06-16 00:00:00</td>\n",
       "      <td>NaN</td>\n",
       "      <td>NaN</td>\n",
       "      <td>2001-06-01 00:00:00</td>\n",
       "      <td>2005-01-01 00:00:00</td>\n",
       "      <td>NaN</td>\n",
       "      <td>1995-04-01 00:00:00</td>\n",
       "    </tr>\n",
       "    <tr>\n",
       "      <th>last</th>\n",
       "      <td>NaN</td>\n",
       "      <td>NaN</td>\n",
       "      <td>NaN</td>\n",
       "      <td>NaN</td>\n",
       "      <td>NaN</td>\n",
       "      <td>NaN</td>\n",
       "      <td>NaN</td>\n",
       "      <td>NaN</td>\n",
       "      <td>NaN</td>\n",
       "      <td>NaN</td>\n",
       "      <td>...</td>\n",
       "      <td>NaN</td>\n",
       "      <td>NaN</td>\n",
       "      <td>2015-12-03 00:00:00</td>\n",
       "      <td>2015-12-03 00:00:00</td>\n",
       "      <td>NaN</td>\n",
       "      <td>NaN</td>\n",
       "      <td>2015-10-29 00:00:00</td>\n",
       "      <td>2015-12-10 00:00:00</td>\n",
       "      <td>NaN</td>\n",
       "      <td>2015-12-01 00:00:00</td>\n",
       "    </tr>\n",
       "  </tbody>\n",
       "</table>\n",
       "<p>6 rows × 29 columns</p>\n",
       "</div>"
      ],
      "text/plain": [
       "                Complaint Name  \\\n",
       "count                      815   \n",
       "unique                     813   \n",
       "top     Panama Canal Expansion   \n",
       "freq                         2   \n",
       "first                      NaN   \n",
       "last                       NaN   \n",
       "\n",
       "                                                  Project Country  \\\n",
       "count                                                 725     731   \n",
       "unique                                                684     126   \n",
       "top     Rehabilitation of the Railway in Cambodia Project   India   \n",
       "freq                                                    5      64   \n",
       "first                                                 NaN     NaN   \n",
       "last                                                  NaN     NaN   \n",
       "\n",
       "                                                    IAM      Bank External ID  \\\n",
       "count                                               813       813         807   \n",
       "unique                                               14        13         746   \n",
       "top     IFC/MIGA Compliance Advisor/Ombudsman (IFC CAO)  IFC/MIGA          99   \n",
       "freq                                                262       262           5   \n",
       "first                                               NaN       NaN         NaN   \n",
       "last                                                NaN       NaN         NaN   \n",
       "\n",
       "                        Status    Filer                 IFI Support  \\\n",
       "count                      815      504                         531   \n",
       "unique                       6      224                          12   \n",
       "top     Closed Without Results  Unknown  Project/investment lending   \n",
       "freq                       546      244                         399   \n",
       "first                      NaN      NaN                         NaN   \n",
       "last                       NaN      NaN                         NaN   \n",
       "\n",
       "                Sector         ...          Dispute Resolution Status  \\\n",
       "count              657         ...                                801   \n",
       "unique              53         ...                                  2   \n",
       "top     Infrastructure         ...                     Not Undertaken   \n",
       "freq               180         ...                                690   \n",
       "first              NaN         ...                                NaN   \n",
       "last               NaN         ...                                NaN   \n",
       "\n",
       "                                If No DR, Why? Compliance Review Start  \\\n",
       "count                                      655                     141   \n",
       "unique                                      12                     131   \n",
       "top     Complaint originally deemed ineligible     2015-06-01 00:00:00   \n",
       "freq                                       385                       3   \n",
       "first                                      NaN     1994-12-16 00:00:00   \n",
       "last                                       NaN     2015-12-03 00:00:00   \n",
       "\n",
       "       Compliance Review End Compliance Report Issued  \\\n",
       "count                    110                      815   \n",
       "unique                   105                        2   \n",
       "top      2010-10-15 00:00:00                    False   \n",
       "freq                       2                      728   \n",
       "first    1995-06-16 00:00:00                      NaN   \n",
       "last     2015-12-03 00:00:00                      NaN   \n",
       "\n",
       "                                If No CR, Why?     Monitoring Start  \\\n",
       "count                                      629                   94   \n",
       "unique                                      16                   85   \n",
       "top     Complaint originally deemed ineligible  2006-07-01 00:00:00   \n",
       "freq                                       407                    3   \n",
       "first                                      NaN  2001-06-01 00:00:00   \n",
       "last                                       NaN  2015-10-29 00:00:00   \n",
       "\n",
       "             Monitoring End                  If No Monitoring, Why?  \\\n",
       "count                    63                                     673   \n",
       "unique                   61                                      11   \n",
       "top     2013-06-01 00:00:00  Complaint originally deemed ineligible   \n",
       "freq                      2                                     388   \n",
       "first   2005-01-01 00:00:00                                     NaN   \n",
       "last    2015-12-10 00:00:00                                     NaN   \n",
       "\n",
       "                Date Closed  \n",
       "count                   549  \n",
       "unique                  153  \n",
       "top     2013-07-01 00:00:00  \n",
       "freq                     14  \n",
       "first   1995-04-01 00:00:00  \n",
       "last    2015-12-01 00:00:00  \n",
       "\n",
       "[6 rows x 29 columns]"
      ]
     },
     "execution_count": 7,
     "metadata": {},
     "output_type": "execute_result"
    }
   ],
   "source": [
    "ac.describe()"
   ]
  },
  {
   "cell_type": "markdown",
   "metadata": {},
   "source": [
    "# Exploring Individual Columns\n",
    "\n",
    "* **Complaint name**: Complaint Identifier\n",
    "\n",
    "* **Project**: Name of Development Project (e.g. 'Rehabilitation of the Railway in Cambodia Project') \n",
    "\n",
    "* **Country**: Country of Development Project\n",
    "\n",
    "* **IAM**: Accountability Offices (14 in total) \n",
    "\n",
    "* **Bank**: (13 in total) "
   ]
  },
  {
   "cell_type": "markdown",
   "metadata": {},
   "source": [
    "## Project\n",
    "\n",
    "Contains mostly unique name of projects"
   ]
  },
  {
   "cell_type": "code",
   "execution_count": 37,
   "metadata": {
    "collapsed": true
   },
   "outputs": [
    {
     "data": {
      "text/plain": [
       "Rehabilitation of the Railway in Cambodia Project                   5\n",
       "Unknown                                                             5\n",
       "Public Road Project                                                 4\n",
       "Tbilisi Railway Bypass                                              4\n",
       "Kerala Sustainable Urban Development Project                        3\n",
       "Valencia Centros Escolares II - 2                                   3\n",
       "CAREC Transport Corridor I Investment Program                       3\n",
       "Proyecto Rodoanel Mario Covas - Tramo Norte                         2\n",
       "Esquema Cajamarquilla, Nievera y Cerro Camote                       2\n",
       "Pando-Monte Lirio Hydroelectric Power Project                       2\n",
       "Panama Canal Expansion                                              2\n",
       "Municipal and Regional Infrastructure Loan                          2\n",
       "Integrated Citarum Water Resources Management Investment Program    2\n",
       "Terminal Contenedores Cadiz                                         2\n",
       "El Dorado International Airport                                     2\n",
       "Sao Jose dos Campos Urban Structuring Program                       2\n",
       "Belgrade Urban Renewal                                              2\n",
       "DIF Lydian (Amulsar Gold Mine)                                      2\n",
       "Motorway A-2                                                        2\n",
       "Marena Renovables Wind Project                                      2\n",
       "dtype: int64"
      ]
     },
     "execution_count": 37,
     "metadata": {},
     "output_type": "execute_result"
    }
   ],
   "source": [
    "project_size=pd.value_counts(ac['Project'].values, sort=True, ascending=False)\n",
    "project_size.head(20)"
   ]
  },
  {
   "cell_type": "markdown",
   "metadata": {},
   "source": [
    "## Country \n",
    "\n",
    "Country of the project and complaint"
   ]
  },
  {
   "cell_type": "code",
   "execution_count": 11,
   "metadata": {
    "collapsed": true
   },
   "outputs": [
    {
     "data": {
      "text/plain": [
       "India        64\n",
       "Georgia      42\n",
       "Brazil       32\n",
       "Pakistan     27\n",
       "Argentina    26\n",
       "dtype: int64"
      ]
     },
     "execution_count": 11,
     "metadata": {},
     "output_type": "execute_result"
    }
   ],
   "source": [
    "#country_size = ac.groupby([\"Country\"]).size()\n",
    "country_size=pd.value_counts(ac['Country'].values, sort=True, ascending=False)\n",
    "country_size.head()"
   ]
  },
  {
   "cell_type": "code",
   "execution_count": 12,
   "metadata": {
    "collapsed": true
   },
   "outputs": [
    {
     "data": {
      "image/png": "[encoded data removed]",
      "text/plain": [
       "<matplotlib.figure.Figure at 0x11d383490>"
      ]
     },
     "metadata": {},
     "output_type": "display_data"
    }
   ],
   "source": [
    "plt.rcParams[\"figure.figsize\"] = [20,30]\n",
    "country_size.plot.barh().invert_yaxis()"
   ]
  },
  {
   "cell_type": "markdown",
   "metadata": {},
   "source": [
    "## IAM\n",
    "\n",
    "14 unique accountability offices"
   ]
  },
  {
   "cell_type": "code",
   "execution_count": 13,
   "metadata": {
    "collapsed": true
   },
   "outputs": [
    {
     "data": {
      "text/plain": [
       "IFC/MIGA Compliance Advisor/Ombudsman (IFC CAO)                                                                              262\n",
       "Asian Development Bank Special Project Facilitator and Compliance Review Panel (ADB SPF CRP)                                 111\n",
       "European Investment Bank Complaints Mechanism (EIB CM)                                                                        99\n",
       "World Bank Inspection Panel (WB Panel)                                                                                        98\n",
       "Inter-American Development Bank Independent Consultation and Investigation Mechanism (IDB MICI)                               97\n",
       "European Bank for Reconstruction and Development Project Complaint Mechanism (EBRD PCM)                                       82\n",
       "African Development Bank Independent Review Mechanism (AfDB IRM)                                                              23\n",
       "European Bank for Reconstruction and Development Independent Resource Mechanism (EBRD IRM)                                    13\n",
       "Overseas Private Investment Corporation Office of Accountability (OPIC OA)                                                    11\n",
       "Canadian Office of the Extractive Sector Corporate Social Responsibility Counsellor (COES CSR)                                 6\n",
       "Netherlands Development Finance Company Independent Complaints Mechanism (FMO ICM)                                             4\n",
       "Japan International Cooperation Agency Examiner for Environmental Guidelines (JICA EEG)                                        4\n",
       "Japan Bank for International Cooperation Examiner for Environmental Guidelines (JBIC EEG)                                      2\n",
       "United Nations Development Programme Social and Environmental Compliance Review/Stakeholder Response Mechanism (UNDP SRM)      1\n",
       "dtype: int64"
      ]
     },
     "execution_count": 13,
     "metadata": {},
     "output_type": "execute_result"
    }
   ],
   "source": [
    "pd.value_counts(ac['IAM'].values, sort=True, ascending=False)"
   ]
  },
  {
   "cell_type": "markdown",
   "metadata": {},
   "source": [
    "## Bank\n",
    "\n",
    "13 unique banks"
   ]
  },
  {
   "cell_type": "code",
   "execution_count": 35,
   "metadata": {
    "collapsed": true
   },
   "outputs": [
    {
     "data": {
      "text/plain": [
       "IFC/MIGA                                            262\n",
       "Asian Development Bank                              111\n",
       "European Investment Bank                             99\n",
       "World Bank                                           98\n",
       "Inter-American Development Bank                      97\n",
       "European Bank for Reconstruction and Development     95\n",
       "African Development Bank                             23\n",
       "Overseas Private Investment Corporation              11\n",
       "Canadian Office of the Extractive Sector              6\n",
       "Japan International Cooperation Agency                4\n",
       "Netherlands Development Finance Company               4\n",
       "Japan Bank for International Cooperation              2\n",
       "United Nations Development Programme                  1\n",
       "dtype: int64"
      ]
     },
     "execution_count": 35,
     "metadata": {},
     "output_type": "execute_result"
    }
   ],
   "source": [
    "pd.value_counts(ac['Bank'].values, sort=True, ascending=False)\n"
   ]
  },
  {
   "cell_type": "code",
   "execution_count": 14,
   "metadata": {
    "collapsed": false,
    "scrolled": true
   },
   "outputs": [
    {
     "data": {
      "text/plain": [
       "IFC/MIGA                                            262\n",
       "Asian Development Bank                              111\n",
       "European Investment Bank                             99\n",
       "World Bank                                           98\n",
       "Inter-American Development Bank                      97\n",
       "European Bank for Reconstruction and Development     95\n",
       "African Development Bank                             23\n",
       "Overseas Private Investment Corporation              11\n",
       "Canadian Office of the Extractive Sector              6\n",
       "Japan International Cooperation Agency                4\n",
       "Netherlands Development Finance Company               4\n",
       "Japan Bank for International Cooperation              2\n",
       "United Nations Development Programme                  1\n",
       "dtype: int64"
      ]
     },
     "execution_count": 14,
     "metadata": {},
     "output_type": "execute_result"
    }
   ],
   "source": [
    "pd.value_counts(ac['Bank'].values, sort=True, ascending=False)"
   ]
  },
  {
   "cell_type": "code",
   "execution_count": 41,
   "metadata": {
    "collapsed": true
   },
   "outputs": [
    {
     "data": {
      "text/plain": [
       "IAM                                                                                                                        Bank                                            \n",
       "African Development Bank Independent Review Mechanism (AfDB IRM)                                                           African Development Bank                             23\n",
       "Asian Development Bank Special Project Facilitator and Compliance Review Panel (ADB SPF CRP)                               Asian Development Bank                              111\n",
       "Canadian Office of the Extractive Sector Corporate Social Responsibility Counsellor (COES CSR)                             Canadian Office of the Extractive Sector              6\n",
       "European Bank for Reconstruction and Development Independent Resource Mechanism (EBRD IRM)                                 European Bank for Reconstruction and Development     13\n",
       "European Bank for Reconstruction and Development Project Complaint Mechanism (EBRD PCM)                                    European Bank for Reconstruction and Development     82\n",
       "European Investment Bank Complaints Mechanism (EIB CM)                                                                     European Investment Bank                             99\n",
       "IFC/MIGA Compliance Advisor/Ombudsman (IFC CAO)                                                                            IFC/MIGA                                            262\n",
       "Inter-American Development Bank Independent Consultation and Investigation Mechanism (IDB MICI)                            Inter-American Development Bank                      97\n",
       "Japan Bank for International Cooperation Examiner for Environmental Guidelines (JBIC EEG)                                  Japan Bank for International Cooperation              2\n",
       "Japan International Cooperation Agency Examiner for Environmental Guidelines (JICA EEG)                                    Japan International Cooperation Agency                4\n",
       "Netherlands Development Finance Company Independent Complaints Mechanism (FMO ICM)                                         Netherlands Development Finance Company               4\n",
       "Overseas Private Investment Corporation Office of Accountability (OPIC OA)                                                 Overseas Private Investment Corporation              11\n",
       "United Nations Development Programme Social and Environmental Compliance Review/Stakeholder Response Mechanism (UNDP SRM)  United Nations Development Programme                  1\n",
       "World Bank Inspection Panel (WB Panel)                                                                                     World Bank                                           98\n",
       "Name: Complaint Name, dtype: int64"
      ]
     },
     "execution_count": 41,
     "metadata": {},
     "output_type": "execute_result"
    }
   ],
   "source": [
    "ac.groupby(['IAM', 'Bank'])['Complaint Name'].count()"
   ]
  },
  {
   "cell_type": "markdown",
   "metadata": {},
   "source": [
    "## External ID"
   ]
  },
  {
   "cell_type": "code",
   "execution_count": 38,
   "metadata": {
    "collapsed": true
   },
   "outputs": [
    {
     "data": {
      "text/plain": [
       "99                             5\n",
       "210                            4\n",
       "53                             2\n",
       "1                              2\n",
       "103                            2\n",
       "100                            2\n",
       "90                             2\n",
       "91                             2\n",
       "104                            2\n",
       "105                            2\n",
       "82                             2\n",
       "49                             2\n",
       "94                             2\n",
       "61                             2\n",
       "9                              2\n",
       "60                             2\n",
       "93                             2\n",
       "67                             2\n",
       "92                             2\n",
       "95                             2\n",
       "84                             2\n",
       "85                             2\n",
       "8                              2\n",
       "13                             2\n",
       "12                             2\n",
       "52                             2\n",
       "88                             2\n",
       "51                             2\n",
       "57                             2\n",
       "54                             2\n",
       "                              ..\n",
       "no_id_21_19                    1\n",
       "no_id_21_18                    1\n",
       "no_id_21_17                    1\n",
       "no_id_21_16                    1\n",
       "MICI-AR-2011-016               1\n",
       "MICI-GY-2013-074               1\n",
       "no_id_21_13                    1\n",
       "no_id_21_45                    1\n",
       "4                              1\n",
       "5/2009                         1\n",
       "2/2013                         1\n",
       "SG/E/2010/11                   1\n",
       "MICI-UR-2012-047               1\n",
       "no_id_26_30                    1\n",
       "no_id_28_7                     1\n",
       "no_id_26_32                    1\n",
       "SG/E/2015/06/PRSG/E/2015/08    1\n",
       "2/2011                         1\n",
       "2/2010                         1\n",
       "2/2012                         1\n",
       "pakistan-dg-khan-cement        1\n",
       "philippines_01                 1\n",
       "2/2014                         1\n",
       "5/2013                         1\n",
       "no_id_21_47                    1\n",
       "MICI-ME-2012-046               1\n",
       "no_id_25_46                    1\n",
       "MICI-VE-2011-012               1\n",
       "no_id_26_35                    1\n",
       "MICI-BR-2014-082               1\n",
       "dtype: int64"
      ]
     },
     "execution_count": 38,
     "metadata": {},
     "output_type": "execute_result"
    }
   ],
   "source": [
    "pd.value_counts(ac['External ID'].values, sort=True, ascending=False)\n"
   ]
  },
  {
   "cell_type": "markdown",
   "metadata": {},
   "source": [
    "## Status"
   ]
  },
  {
   "cell_type": "code",
   "execution_count": 39,
   "metadata": {
    "collapsed": false
   },
   "outputs": [
    {
     "data": {
      "text/plain": [
       "Closed Without Results                 546\n",
       "Closed With Results                    114\n",
       "Active                                  77\n",
       "Closed With Results Outside Process     46\n",
       "Monitoring                              29\n",
       "Pre-Filed                                3\n",
       "dtype: int64"
      ]
     },
     "execution_count": 39,
     "metadata": {},
     "output_type": "execute_result"
    }
   ],
   "source": [
    "pd.value_counts(ac['Status'].values, sort=True, ascending=False)"
   ]
  },
  {
   "cell_type": "markdown",
   "metadata": {},
   "source": [
    "## Status"
   ]
  },
  {
   "cell_type": "code",
   "execution_count": 8,
   "metadata": {
    "collapsed": false
   },
   "outputs": [
    {
     "data": {
      "text/plain": [
       "count                        815\n",
       "unique                         6\n",
       "top       Closed Without Results\n",
       "freq                         546\n",
       "Name: Status, dtype: object"
      ]
     },
     "execution_count": 8,
     "metadata": {},
     "output_type": "execute_result"
    }
   ],
   "source": [
    "ac['Status'].describe()"
   ]
  },
  {
   "cell_type": "code",
   "execution_count": 10,
   "metadata": {
    "collapsed": false
   },
   "outputs": [
    {
     "data": {
      "text/plain": [
       "Closed Without Results                 546\n",
       "Closed With Results                    114\n",
       "Active                                  77\n",
       "Closed With Results Outside Process     46\n",
       "Monitoring                              29\n",
       "Pre-Filed                                3\n",
       "dtype: int64"
      ]
     },
     "execution_count": 10,
     "metadata": {},
     "output_type": "execute_result"
    }
   ],
   "source": [
    "pd.value_counts(ac['Status'].values, sort=True, ascending=False)"
   ]
  },
  {
   "cell_type": "code",
   "execution_count": 9,
   "metadata": {
    "collapsed": false,
    "scrolled": true
   },
   "outputs": [
    {
     "data": {
      "text/plain": [
       "<matplotlib.axes._subplots.AxesSubplot at 0x11d41ce10>"
      ]
     },
     "execution_count": 9,
     "metadata": {},
     "output_type": "execute_result"
    },
    {
     "data": {
      "image/png": "[encoded data removed]",
      "text/plain": [
       "<matplotlib.figure.Figure at 0x11d223f10>"
      ]
     },
     "metadata": {},
     "output_type": "display_data"
    }
   ],
   "source": [
    "ac['Status'].value_counts().plot(kind='bar')"
   ]
  },
  {
   "cell_type": "markdown",
   "metadata": {},
   "source": [
    "## Filer "
   ]
  },
  {
   "cell_type": "code",
   "execution_count": 72,
   "metadata": {
    "collapsed": false
   },
   "outputs": [
    {
     "data": {
      "text/plain": [
       "Unknown                                                                                                                          244\n",
       "Green Alternative                                                                                                                  7\n",
       "CAO Vice President                                                                                                                 7\n",
       "Association Green Alternative                                                                                                      5\n",
       "CEE Bankwatch                                                                                                                      4\n",
       "Social and Economic Rights Action Center                                                                                           2\n",
       "Center for Ecology and Sustainable Development (CEKOR)                                                                             2\n",
       "Corporate Accountability Desk                                                                                                      2\n",
       "Oxfam Great Britain, Oxfam International, Uganda Land Alliance                                                                     2\n",
       "Centro Terra Viva, Centro de Integridade Publica, Justica Ambiental, Kulima, Liga Mocambicana dos Direitos Humanos, Livaningo      2\n",
       "Alyansa Tigil Mina/Alliance Against Mining                                                                                         2\n",
       "National Ecological Centre of Ukraine                                                                                              2\n",
       "Civic Alliance for the Protection of the Bay of Vlora (CAPBV)                                                                      2\n",
       "Georgian Young Lawyers Association (GYLA)                                                                                          2\n",
       "Center for Environmental Law and Community Rights (CELCOR)                                                                         2\n",
       "CEE Bankwatch, Center for Ecology and Sustainable Development (CEKOR)                                                              2\n",
       "Gatun Lake Defense Committee (Comite ProDefensa del Lago Gatun)                                                                    2\n",
       "Gobi Soil, OT Watch                                                                                                                2\n",
       "Friends of Lake Turkana (FoLT)                                                                                                     2\n",
       "Central de Movimentos Populares na Cidade de Sao Jose dos Campos                                                                   2\n",
       "Name: Filer, dtype: int64"
      ]
     },
     "execution_count": 72,
     "metadata": {},
     "output_type": "execute_result"
    }
   ],
   "source": [
    "pd.value_counts(ac['Filer']).head(20)"
   ]
  },
  {
   "cell_type": "markdown",
   "metadata": {},
   "source": [
    "## IFI Support \n",
    "\n",
    "International Finance Institutions"
   ]
  },
  {
   "cell_type": "code",
   "execution_count": 73,
   "metadata": {
    "collapsed": false
   },
   "outputs": [
    {
     "data": {
      "text/plain": [
       "Project/investment lending                       399\n",
       "Equity Investment                                 33\n",
       "Equity Investment, Project/investment lending     25\n",
       "Advisory services                                 19\n",
       "Project/investment lending, Risk Guarantee        13\n",
       "Risk Guarantee                                    12\n",
       "Other                                              9\n",
       "No IFI involvement                                 8\n",
       "Equity Investment, Financial intermediary          6\n",
       "Advisory services, Project/investment lending      5\n",
       "Name: IFI Support, dtype: int64"
      ]
     },
     "execution_count": 73,
     "metadata": {},
     "output_type": "execute_result"
    }
   ],
   "source": [
    "pd.value_counts(ac['IFI Support']).head(10)"
   ]
  },
  {
   "cell_type": "markdown",
   "metadata": {},
   "source": [
    "## Sector "
   ]
  },
  {
   "cell_type": "code",
   "execution_count": 48,
   "metadata": {
    "collapsed": false
   },
   "outputs": [
    {
     "data": {
      "text/plain": [
       "Infrastructure                    180\n",
       "Other                             107\n",
       "Energy, Infrastructure             56\n",
       "Extractives (oil, gas, mining)     50\n",
       "Energy                             50\n",
       "Name: Sector, dtype: int64"
      ]
     },
     "execution_count": 48,
     "metadata": {},
     "output_type": "execute_result"
    }
   ],
   "source": [
    "pd.value_counts(ac['Sector']).head()"
   ]
  },
  {
   "cell_type": "markdown",
   "metadata": {},
   "source": [
    "## Issues "
   ]
  },
  {
   "cell_type": "code",
   "execution_count": 74,
   "metadata": {
    "collapsed": false
   },
   "outputs": [
    {
     "data": {
      "text/plain": [
       "Other                                                                   297\n",
       "Displacement (physical and/or economic)                                  23\n",
       "Procurement                                                              18\n",
       "Consultation and disclosure, Displacement (physical and/or economic)     18\n",
       "Labor                                                                    13\n",
       "Displacement (physical and/or economic), Livelihoods                     10\n",
       "Due diligence                                                            10\n",
       "Consultation and disclosure, Due diligence                                8\n",
       "Other environmental                                                       8\n",
       "Consultation and disclosure                                               8\n",
       "Name: Issues, dtype: int64"
      ]
     },
     "execution_count": 74,
     "metadata": {},
     "output_type": "execute_result"
    }
   ],
   "source": [
    "pd.value_counts(ac['Issues']).head(10)"
   ]
  },
  {
   "cell_type": "code",
   "execution_count": 56,
   "metadata": {
    "collapsed": false,
    "scrolled": true
   },
   "outputs": [
    {
     "data": {
      "text/plain": [
       "count       815\n",
       "unique      312\n",
       "top       Other\n",
       "freq        297\n",
       "Name: Issues, dtype: object"
      ]
     },
     "execution_count": 56,
     "metadata": {},
     "output_type": "execute_result"
    }
   ],
   "source": [
    "ac['Issues'].describe()"
   ]
  },
  {
   "cell_type": "markdown",
   "metadata": {},
   "source": [
    "## Description"
   ]
  },
  {
   "cell_type": "code",
   "execution_count": 53,
   "metadata": {
    "collapsed": false,
    "scrolled": true
   },
   "outputs": [
    {
     "data": {
      "text/plain": [
       "count                                                    14\n",
       "unique                                                   13\n",
       "top       <p>\\r\\n<i>\\r\\nFull description available here:...\n",
       "freq                                                      2\n",
       "Name: Description, dtype: object"
      ]
     },
     "execution_count": 53,
     "metadata": {},
     "output_type": "execute_result"
    }
   ],
   "source": [
    "ac['Description'].describe()"
   ]
  },
  {
   "cell_type": "code",
   "execution_count": 75,
   "metadata": {
    "collapsed": true
   },
   "outputs": [
    {
     "data": {
      "text/plain": [
       "<p>\\r\\n<i>\\r\\nFull description available here: <a href=\"http://compliance.adb.org/dir0035p.nsf/attachments/GEO-R40-16-FOR%20WEB.pdf/$FILE/GEO-R40-16-FOR%20WEB.pdf\" class = \"u-blue-color\"> http://compliance.adb.org/dir0035p.nsf/attachments/GEO-R40-16-FOR%20WEB.pdf/$FILE/GEO-R40-16-FOR%20WEB.pdf </a> \\r\\n</i> \\r\\n</p>\\r\\n<br>\\r\\n<p>\\r\\nThe Project is part of an overall investment program valued at $1.1 billion to be\\r\\nimplemented from 2010-2020 which aims to improve the reach, quality, and continuity of urban\\r\\ntransport in Georgia. To partially fund it, a multi-tranche financing facility (MFF) with a maximum\\r\\nfinancing amount of $300 million was approved by ADB in July 2010. Said MFF which is to be\\r\\nimplemented from 2010 to 2018, is for the (i) extension, rehabilitation, and improvement of\\r\\nurban transport infrastructure in Anaklia, Batumi, Kutaisi, Poti, Rustavi, and Tbilisi; (ii) increased\\r\\ninstitutional effectiveness, including the reorganization and reforms at the Tbilisi municipality,\\r\\nother municipalities and urban transport service providers; and (iii) establishment of program\\r\\nmanagement team with a capability and funds to handle project preparation, technical design,\\r\\ncontract bidding, evaluation and award, contract supervision, progress monitoring and\\r\\nreporting.  Investments funded under the MFF will improve the transport system and\\r\\ninfrastructure in urban areas. They include two subprojects: (i) section 2 (km 4.0-10.8) of the\\r\\ninternational standard Tbilisi-Rustavi Urban Road Link; and (ii) phase 2 of Anaklia Coastal\\r\\nImprovement. \\r\\n</p>\\r\\n<br>\\r\\n<p>\\r\\nThe Project is funded under Tranche 3 of the MFF, which was approved on 25\\r\\nNovember 2013. The total project cost is $118.2 million and ADB funds $73 million under this\\r\\ntranche. The borrower is the Government of Georgia and the Municipal Development Fund\\r\\n(MDF) of Georgia is the executing agency. The Project, which is implemented from ADB\\r\\nHeadquarters by the Urban Development and Water Division of the Central and West Asia\\r\\nDepartment, is categorized as B for environmental impacts; A for involuntary resettlement\\r\\nimpacts; C for indigenous peoples’ impacts. Construction work under the project has not yet,\\r\\nstarted. Procurement of the civil works contract is ongoing. Commencement of the works is not\\r\\nanticipated before August 2016. A draft initial environmental examination (IEE) for the Project\\r\\nwas completed and posted on the ADB website in September 2013. This initial IEE was revised\\r\\nas vibration and noise impacts needed to be studied. A revised IEE was posted on the ADB\\r\\nwebsite in December 2015. The construction of Section 2 of 6.8 km will involve acquisition of\\r\\n312 land plots with 29.5 hectares of land areas, demolition of 692 structures (82 residential\\r\\nstructures, 90 industrial and commercial structures, and 520 minor structures). A total of 282\\r\\nhouseholds and 33 businesses will be affected. Per ADB Safeguard Policy Statement (SPS),3\\r\\n a\\r\\nland acquisition and resettlement framework (LARF) was prepared prior to the approval of the\\r\\nMFF. Subsequently the land acquisition and resettlement plan (LARP) was prepared. It is\\r\\npresently under implementation. \\r\\n</p>\\r\\n<br>\\r\\n<p>\\r\\nThe complaint refers to subproject 1: Tbilisi-Rustavi Urban Road Link (section 2) of the\\r\\nProject which involves the modernization of an existing and construction of a new road from\\r\\nPhonichala to Rustavi. When finished, the total road length for this Project will be 6.8 km, of\\r\\nwhich 3.8 km is new road construction along the Mktvari river. Once completed, it is expected\\r\\nthat the road will be of international standard, Category I highway, with 4 to 6 lanes and with a\\r\\ngeneral design that can accommodate vehicles with speed of 120km/h. In some areas, a\\r\\nreduction of speed is anticipated to mitigate noise impacts. \\r\\n</p>                                                                                                                                     2\n",
       "<p>\\r\\n</p>\\r\\n<br>\\r\\n<p>\\r\\nThe project is a €200 million loan to Public Enterprise Elektroprivreda Srbije (EPS),\\r\\nguaranteed by the Republic of Serbia, and subject to the Bank’s policy requirements for\\r\\npublic sector projects. \\r\\n</p>\\r\\n<br>\\r\\n<p>\\r\\nThe loan proceeds will be used to restructure EPS’s balance sheet, replacing short and\\r\\nmedium term financial debt entered into on an emergency basis to alleviate a critical cash\\r\\nsituation created by the unprecedented and catastrophic floods in Serbia in 2014. EBRD’s\\r\\noperation provides long term debt with terms better matched to the underlying assets and\\r\\nEPS’s operations. The refinancing will free up resources to allow the EPS to focus on the\\r\\nimplementation of its long term capital expenditure program, which involves substantial\\r\\nmodernisation of Serbia’s power sector infrastructure.\\r\\n</p>\\r\\n<br>\\r\\n<p>\\r\\nThis Project will also allow EBRD to continue its engagement with EPS on environmental and\\r\\nsocial issues.\\r\\n</p>\\r\\n<br>\\r\\n<p>\\r\\nIn this new Project, following the EBRD’s due diligence carried out with the assistance of TCfunded\\r\\nindependent consultant, a new, updated Company-wide ESAP was agreed that\\r\\nprovides a comprehensive response to environmental and social issues associated with\\r\\nEPS’s operations. EPS is committed to enhancing its environmental and social management\\r\\nsystems for the restructured Company in line with good international practice and will be\\r\\nrevising its corporate environmental and social strategy accordingly. The strategy will be\\r\\nbased on an outline prepared by the consultants, which includes a new Resettlement\\r\\nFramework. The ESAP also reinforces the commitment to implement the action plans from\\r\\nthe company-wide EHS audits. These further actions address a number of the\\r\\nrecommendations of the PCM Compliance Review on the Kolubara Environmental\\r\\nImprovement Project. A post-signing TC provided a consultant to survey EPS for corporate\\r\\ngovernance gaps and to provide an action plan to remedy them.\\r\\n</p>                                                                                                                                                                                                                                                                                                                                                                                                                                                                                                                                                                                                                                                                                                                                                                                                                                                                                                                                                                                                                                                                                                                                                                                                                                                                                                                                                                                                                                                                                                                                                                                                                                                                                                                                                                                                                                                                                                                                                                                                                                                         1\n",
       "<p> <i> Full description available at: <a href=\"https://www.afdb.org/fileadmin/uploads/afdb/Documents/Compliance-Review/UFM-Management_Response.pdf\" class = \"u-blue-color\"> https://www.afdb.org/fileadmin/uploads/afdb/Documents/Compliance-Review/UFM-Management_Response.pdf</a>\\r\\n</i> </p>\\r\\n<br>\\r\\n<p>\\r\\nOn 18 December 2014, the Bank approved the Road and Transport Facilitation Programme\\r\\nwithin the Mano River Union (MRU). The Governments of Côte d'Ivoire, Guinea, Liberia and\\r\\nSierra Leone submitted a request to the Bank for financing to develop and asphalt the Danané-\\r\\nLola road (87.35 km), the Bloléquin-Toulépleu-Liberian border road (65 km), the Tablo-Prollo\\r\\nroad (28 km), the Karloken-Fish Town (80 km) and the Harper-Cavally junction (16 km).\\r\\nThese constitute 276.35 km of currently dirt roads, barely 6 m wide, impassable in all seasons,\\r\\nwith makeshift wooden crossing structures, for the most part. Regional isolation, the high\\r\\nnumber of roadside checks and unsuitable border crossings are factors of fragility which\\r\\ncompound the successive crises that have affected the region over the last 20 years. However,\\r\\ntraffic is set to grow on these roads given the economic potential of the area and the efforts to\\r\\nlift these countries out of the recurrent crises that have long characterised them. In order to\\r\\ncope with current and future traffic, it is imperative to improve the road service level, enhance\\r\\ntheir capacity to withstand traffic in all seasons and reduce border controls; this will require\\r\\nasphalting and developing the roads and establishing border crossings for joint controls. \\r\\n</p>\\r\\n<br>\\r\\n<p>\\r\\nThe overall objective of the programme is to boost post-conflict economic recovery of the\\r\\nMRU area by improving road infrastructure and promoting intra-community trade.\\r\\nSpecifically, the programme seeks to: (i) improve transport conditions on the roads concerned\\r\\nin order to reduce transport costs, (ii) facilitate the free movement of persons and goods\\r\\nbetween the three countries, namely Côte d'Ivoire, Guinea and Liberia and improve the living\\r\\nconditions of programme area communities.\\r\\n</p>\\r\\n<br>\\r\\n<p>\\r\\nThe Guinean component of the programme includes, among other things, paving of the LolaIvorian\\r\\nborder road (39.75 km).\\r\\n</p>                                                                                                                                                                                                                                                                                                                                                                                                                                                                                                                                                                                                                                                                                                                                                                                                                                                                                                                                                                                                                                                                                                                                                                                                                                                                                                                                                                                                                                                                                                                                                                                                                                                                                                                                                                                  1\n",
       "<p> <i> Full description available at: <a=href \"https://www.afdb.org/fileadmin/uploads/afdb/Documents/Compliance-Review/Sendou_-_Eligibility_Report-EN.pdf\" class=\"u-blue-color\"> https://www.afdb.org/fileadmin/uploads/afdb/Documents/Compliance-Review/Sendou_-_Eligibility_Report-EN.pdf\"</a> </i></p>\\r\\n\\r\\n<br>\\r\\n<p>\\r\\nThe Sendou Coal-Fired Power Plant Project was approved on 25 November 2009 by the Board\\r\\nof Directors as a senior loan of 55 million euros in favor of Compagnie d’Electrictie du Senegal\\r\\n(CES) to develop and maintain a 125 MW coal-fired power plant located 35 km from Dakar in\\r\\nSendou, Senegal. In addition, the AfDB approved a supplementary loan of Euros 5 million and\\r\\nhad disbursed 55 million euros as of 8 March 2017. The total cost of the Project is Euro 206\\r\\nmillion. The Bank co-finances this amount with the Banque Ouest Africaine de Développement\\r\\n(BOAD) and the Nederlandse Financierings-Maatschappij voor Ontwikkelingslanden N.V.\\r\\n(FMO). The project is being developed on a “build, own, and operate” basis and targets to supply\\r\\nup to 40% of Senegal’s electricity, which currently derives 80% of its electricity from diesel-fueled power generation. The Government of Senegal (GOS) has outlined a strategy for diversifying and\\r\\nincreasing domestic power generation capacity with a combination of conventional thermal base\\r\\nload and renewable energy. It is the first coal-fired plant in Senegal. The coal will be imported via\\r\\nsea and unloaded at Dakar harbor from where it will be transported by trucks to the coal storage\\r\\nsite on the plant. The project aims at producing at least 925 GWh of electricity a year. The power\\r\\nwill be delivered to the national interconnected grid system of SENELEC, Senegal’s public\\r\\nelectricity utility company. The project includes the development, design, procurement,\\r\\nconstruction, operation and maintenance of a 125 MW coal-fired power plant on a 22 hectare-site.\\r\\nPower production can be expanded to 250 MW through a second phase project, for which project\\r\\npreparation have not yet started. The project will also build a 1.6 km 225 kV transmission line and\\r\\nassociated switchyard to connect the plant to SENELEC. \\r\\n</p>\\r\\n<br>\\r\\n<p>\\r\\nThe project is located about 600 meters away from the Atlantic Ocean and near two\\r\\ncommunities, the town of Bargny located at 2 km north-west and a fishing village, Minam, with\\r\\n600 inhabitants to the south. The project is located 500 meters from dwellings, a school, a\\r\\nwatercourse, a lake and a water collection point and areas designated for residential developments.\\r\\nA 500 meter buffer zone around the plant is required by Senegalese law. Active on the grounds of\\r\\nthe power plant is a substantial group of women who regularly – since many generations – dry fish\\r\\non the ground which they receive from fishermen at the Bargny harbor. These activities require\\r\\nspace as fish is laid out on the ground for drying. Between 1000 and 4000 women pursue this\\r\\nactivity for about 9 months during the year. Dried fish is then sold to male workers who package\\r\\nthe dried fish and transport it to markets in Dakar and to the harbor for export. \\r\\n</p>\\r\\n<br>\\r\\n<p>\\r\\nThe Project Company is Compagnie d’Electricite du Snegal SA (CES), whose original sponsor\\r\\nwas Nykomb Synergetics of Sweden. Late in 2012, AFG, an investment bank of Morocco joined\\r\\nas equity partner. In October 2015, Quantum Power acquired the equity interest of AFG and\\r\\nbecame joint equity sponsor with Nykomb. The construction of the power plant has been\\r\\ncontracted out to two Indian companies: Bharat Heavy Electricals Limited (BHIEL) and Promac\\r\\nEngineering Industries Ltd (Promac). The new Project Sponsor, Quantum Power, took necessary\\r\\nmeasures to relaunch the construction of the power plant, and to secure additional equity needed\\r\\nto complete the Project. Construction resumed in January 2016 and the Project is now scheduled\\r\\nto begin commercial operation by end of 2017. \\r\\n</p>    1\n",
       "<p>\\r\\n<i>\\r\\nFull description available at: <a href = \"http://compliance.adb.org/dir0035p.nsf/alldocs/JABM-ANT8VF?OpenDocument\" class = \"u-blue-color\"> http://compliance.adb.org/dir0035p.nsf/alldocs/JABM-ANT8VF?OpenDocument </a>\\r\\n</i>\\r\\n</p>\\r\\n<br>\\r\\n<p>\\r\\nThe loans are part of Tranche 2 of a multi-tranche financing facility whose target outcome is the achievement of a cleaner electricity mix with more efficient and effective generation and transmission system in Rajasthan. Funding under Tranche 2 is comprised of two loans with $238 million (i.e., Loan 3482) from ADB’s Ordinary Capital Resources and $110 million (i.e., Loan 8312) from the Clean Technology Fund (an external fund administered by ADB). Tranche 2 was approved by ADB on 5 December 2016. The loans have not been signed yet and are not yet effective. Tranche 2 will finance investments in (i) construction of 210 km of 765kV transmission line, 264 km of 400kV transmission line, 240 km of 220kV double circuit transmission line, 132 km of 132kV transmission line, and Optical Ground Wires (OPGW) to connect existing substations; and (ii) construction of eight substations, augmentation of transformers at two substations, and bay extensions at five substations. CO2 reduction of 8,578,704 tons per annum is an indirect benefit of this project, which will be achieved by transmitting renewable energy to be generated from Western Rajasthan.\\r\\n</p>                                                                                                                                                                                                                                                                                                                                                                                                                                                                                                                                                                                                                                                                                                                                                                                                                                                                                                                                                                                                                                                                                                                                                                                                                                                                                                                                                                                                                                                                                                                                                                                                                                                                                                                                                                                                                                                                                                                                                                                                                                                                                                                                                                                                                                                                                                                                                                                                                                                                                                                                                                                                                                                                                                                           1\n",
       "Name: Description, dtype: int64"
      ]
     },
     "execution_count": 75,
     "metadata": {},
     "output_type": "execute_result"
    }
   ],
   "source": [
    "pd.value_counts(ac['Description']).head()"
   ]
  },
  {
   "cell_type": "markdown",
   "metadata": {},
   "source": [
    "## Non-Compliance Found "
   ]
  },
  {
   "cell_type": "code",
   "execution_count": 55,
   "metadata": {
    "collapsed": false
   },
   "outputs": [
    {
     "data": {
      "text/plain": [
       "False    731\n",
       "True      84\n",
       "Name: Non-Compliance Found, dtype: int64"
      ]
     },
     "execution_count": 55,
     "metadata": {},
     "output_type": "execute_result"
    }
   ],
   "source": [
    "pd.value_counts(ac['Non-Compliance Found']).head()"
   ]
  },
  {
   "cell_type": "markdown",
   "metadata": {},
   "source": [
    "## Filing Date "
   ]
  },
  {
   "cell_type": "code",
   "execution_count": 59,
   "metadata": {
    "collapsed": true
   },
   "outputs": [
    {
     "data": {
      "text/plain": [
       "2005-07-05    19\n",
       "2005-07-04    14\n",
       "2005-07-07    11\n",
       "2005-07-03    10\n",
       "2013-07-01     9\n",
       "Name: Filing Date, dtype: int64"
      ]
     },
     "execution_count": 59,
     "metadata": {},
     "output_type": "execute_result"
    }
   ],
   "source": [
    "pd.value_counts(ac['Filing Date']).head()"
   ]
  },
  {
   "cell_type": "code",
   "execution_count": 58,
   "metadata": {
    "collapsed": false,
    "scrolled": true
   },
   "outputs": [
    {
     "data": {
      "text/plain": [
       "Filing Date\n",
       "1994.0      1\n",
       "1995.0      4\n",
       "1996.0      3\n",
       "1997.0      2\n",
       "1998.0      4\n",
       "1999.0      7\n",
       "2000.0      5\n",
       "2001.0      9\n",
       "2002.0      5\n",
       "2003.0      5\n",
       "2004.0     29\n",
       "2005.0    108\n",
       "2006.0     26\n",
       "2007.0     29\n",
       "2008.0     22\n",
       "2009.0     53\n",
       "2010.0     67\n",
       "2011.0     86\n",
       "2012.0     78\n",
       "2013.0    110\n",
       "2014.0     75\n",
       "2015.0     68\n",
       "2016.0      3\n",
       "Name: Filing Date, dtype: int64"
      ]
     },
     "execution_count": 58,
     "metadata": {},
     "output_type": "execute_result"
    }
   ],
   "source": [
    "ac['Filing Date'].groupby([ac['Filing Date'].dt.year]).agg('count')"
   ]
  },
  {
   "cell_type": "code",
   "execution_count": 67,
   "metadata": {
    "collapsed": false
   },
   "outputs": [
    {
     "data": {
      "text/plain": [
       "count                     799\n",
       "unique                    558\n",
       "top       2005-07-05 00:00:00\n",
       "freq                       19\n",
       "first     1994-10-24 00:00:00\n",
       "last      2016-09-15 00:00:00\n",
       "Name: Filing Date, dtype: object"
      ]
     },
     "execution_count": 67,
     "metadata": {},
     "output_type": "execute_result"
    }
   ],
   "source": [
    "ac['Filing Date'].describe()"
   ]
  },
  {
   "cell_type": "markdown",
   "metadata": {},
   "source": [
    "## Registration Date "
   ]
  },
  {
   "cell_type": "code",
   "execution_count": 76,
   "metadata": {
    "collapsed": false
   },
   "outputs": [
    {
     "data": {
      "text/plain": [
       "2010-09-20    4\n",
       "2011-03-14    3\n",
       "2014-12-22    3\n",
       "2012-07-17    3\n",
       "2015-07-01    2\n",
       "Name: Registration Date, dtype: int64"
      ]
     },
     "execution_count": 76,
     "metadata": {},
     "output_type": "execute_result"
    }
   ],
   "source": [
    "pd.value_counts(ac['Registration Date']).head()"
   ]
  },
  {
   "cell_type": "code",
   "execution_count": 77,
   "metadata": {
    "collapsed": true
   },
   "outputs": [
    {
     "data": {
      "text/plain": [
       "Registration Date\n",
       "1994.0     1\n",
       "1995.0     2\n",
       "1996.0     3\n",
       "1997.0     2\n",
       "1998.0     3\n",
       "1999.0     7\n",
       "2001.0     4\n",
       "2002.0     2\n",
       "2003.0     1\n",
       "2004.0     7\n",
       "2005.0     6\n",
       "2006.0    10\n",
       "2007.0    14\n",
       "2008.0     1\n",
       "2009.0    26\n",
       "2010.0    32\n",
       "2011.0    33\n",
       "2012.0    29\n",
       "2013.0    40\n",
       "2014.0    29\n",
       "2015.0    38\n",
       "Name: Registration Date, dtype: int64"
      ]
     },
     "execution_count": 77,
     "metadata": {},
     "output_type": "execute_result"
    }
   ],
   "source": [
    "ac['Registration Date'].groupby([ac['Registration Date'].dt.year]).agg('count')"
   ]
  },
  {
   "cell_type": "code",
   "execution_count": 78,
   "metadata": {
    "collapsed": false
   },
   "outputs": [
    {
     "data": {
      "text/plain": [
       "count                     290\n",
       "unique                    263\n",
       "top       2010-09-20 00:00:00\n",
       "freq                        4\n",
       "first     1994-11-03 00:00:00\n",
       "last      2015-12-18 00:00:00\n",
       "Name: Registration Date, dtype: object"
      ]
     },
     "execution_count": 78,
     "metadata": {},
     "output_type": "execute_result"
    }
   ],
   "source": [
    "ac['Registration Date'].describe()"
   ]
  },
  {
   "cell_type": "markdown",
   "metadata": {},
   "source": [
    "Difference between Registration and Filing"
   ]
  },
  {
   "cell_type": "markdown",
   "metadata": {},
   "source": [
    "## Eligibility Date "
   ]
  },
  {
   "cell_type": "code",
   "execution_count": 79,
   "metadata": {
    "collapsed": true
   },
   "outputs": [
    {
     "data": {
      "text/plain": [
       "Eligibility Date\n",
       "1994.0     1\n",
       "1995.0     1\n",
       "1996.0     2\n",
       "1997.0     3\n",
       "1998.0     1\n",
       "1999.0     4\n",
       "2000.0     4\n",
       "2001.0     6\n",
       "2002.0     2\n",
       "2003.0     1\n",
       "2004.0    17\n",
       "2005.0    15\n",
       "2006.0     6\n",
       "2007.0    15\n",
       "2008.0    10\n",
       "2009.0    15\n",
       "2010.0    28\n",
       "2011.0    39\n",
       "2012.0    26\n",
       "2013.0    34\n",
       "2014.0    34\n",
       "2015.0    18\n",
       "Name: Eligibility Date, dtype: int64"
      ]
     },
     "execution_count": 79,
     "metadata": {},
     "output_type": "execute_result"
    }
   ],
   "source": [
    "ac['Eligibility Date'].groupby([ac['Eligibility Date'].dt.year]).agg('count')"
   ]
  },
  {
   "cell_type": "code",
   "execution_count": 80,
   "metadata": {
    "collapsed": false
   },
   "outputs": [
    {
     "data": {
      "text/plain": [
       "count                     282\n",
       "unique                    235\n",
       "top       2004-06-08 00:00:00\n",
       "freq                        6\n",
       "first     1994-12-16 00:00:00\n",
       "last      2015-12-09 00:00:00\n",
       "Name: Eligibility Date, dtype: object"
      ]
     },
     "execution_count": 80,
     "metadata": {},
     "output_type": "execute_result"
    }
   ],
   "source": [
    "ac['Eligibility Date'].describe()"
   ]
  },
  {
   "cell_type": "markdown",
   "metadata": {},
   "source": [
    "## Dispute Resolution"
   ]
  },
  {
   "cell_type": "code",
   "execution_count": 82,
   "metadata": {
    "collapsed": true
   },
   "outputs": [
    {
     "data": {
      "text/plain": [
       "Dispute Resolution Start\n",
       "2001.0     2\n",
       "2003.0     1\n",
       "2004.0     8\n",
       "2005.0     2\n",
       "2006.0     2\n",
       "2007.0     7\n",
       "2008.0     3\n",
       "2009.0     6\n",
       "2010.0     8\n",
       "2011.0    18\n",
       "2012.0    12\n",
       "2013.0     9\n",
       "2014.0     4\n",
       "2015.0     7\n",
       "Name: Dispute Resolution Start, dtype: int64"
      ]
     },
     "execution_count": 82,
     "metadata": {},
     "output_type": "execute_result"
    }
   ],
   "source": [
    "ac['Dispute Resolution Start'].groupby([ac['Dispute Resolution Start'].dt.year]).agg('count')"
   ]
  },
  {
   "cell_type": "code",
   "execution_count": 83,
   "metadata": {
    "collapsed": true
   },
   "outputs": [
    {
     "data": {
      "text/plain": [
       "count                      89\n",
       "unique                     73\n",
       "top       2004-09-01 00:00:00\n",
       "freq                        4\n",
       "first     2001-06-01 00:00:00\n",
       "last      2015-10-20 00:00:00\n",
       "Name: Dispute Resolution Start, dtype: object"
      ]
     },
     "execution_count": 83,
     "metadata": {},
     "output_type": "execute_result"
    }
   ],
   "source": [
    "ac['Dispute Resolution Start'].describe()"
   ]
  },
  {
   "cell_type": "code",
   "execution_count": 84,
   "metadata": {
    "collapsed": true
   },
   "outputs": [
    {
     "data": {
      "text/plain": [
       "Dispute Resolution End\n",
       "2001.0     1\n",
       "2004.0     1\n",
       "2005.0     4\n",
       "2006.0     5\n",
       "2007.0     1\n",
       "2008.0     7\n",
       "2009.0     1\n",
       "2010.0     7\n",
       "2011.0    14\n",
       "2012.0     7\n",
       "2013.0     7\n",
       "2014.0     9\n",
       "2015.0     4\n",
       "Name: Dispute Resolution End, dtype: int64"
      ]
     },
     "execution_count": 84,
     "metadata": {},
     "output_type": "execute_result"
    }
   ],
   "source": [
    "ac['Dispute Resolution End'].groupby([ac['Dispute Resolution End'].dt.year]).agg('count')"
   ]
  },
  {
   "cell_type": "code",
   "execution_count": 85,
   "metadata": {
    "collapsed": true
   },
   "outputs": [
    {
     "data": {
      "text/plain": [
       "count                      68\n",
       "unique                     57\n",
       "top       2008-03-31 00:00:00\n",
       "freq                        4\n",
       "first     2001-07-01 00:00:00\n",
       "last      2015-09-01 00:00:00\n",
       "Name: Dispute Resolution End, dtype: object"
      ]
     },
     "execution_count": 85,
     "metadata": {},
     "output_type": "execute_result"
    }
   ],
   "source": [
    "ac['Dispute Resolution End'].describe()"
   ]
  },
  {
   "cell_type": "code",
   "execution_count": null,
   "metadata": {
    "collapsed": true
   },
   "outputs": [],
   "source": [
    "# Dispute Resolution Time Frame Delta "
   ]
  },
  {
   "cell_type": "code",
   "execution_count": 87,
   "metadata": {
    "collapsed": true
   },
   "outputs": [
    {
     "data": {
      "text/plain": [
       "Not Undertaken         690\n",
       "Closed With Outcome    111\n",
       "Name: Dispute Resolution Status, dtype: int64"
      ]
     },
     "execution_count": 87,
     "metadata": {},
     "output_type": "execute_result"
    }
   ],
   "source": [
    "# Resolution Status Distribution\n",
    "pd.value_counts(ac['Dispute Resolution Status'])"
   ]
  },
  {
   "cell_type": "code",
   "execution_count": 89,
   "metadata": {
    "collapsed": true
   },
   "outputs": [
    {
     "data": {
      "text/plain": [
       "Complaint originally deemed ineligible                                       385\n",
       "Mech doesn't offer PS, or PS was not an option in this case                  118\n",
       "IAM deemed unnecessary or inappropriate                                       43\n",
       "MNE or government refused to participate                                      32\n",
       "Not yet to PS stage                                                           17\n",
       "Complainant chose not to have PS                                              16\n",
       "Complainant never wanted PS                                                   15\n",
       "Both complainants and MNE or government involved refused to go through PS     11\n",
       "Matter resolved outside mech                                                   7\n",
       "IFI funding or consideration of project ended                                  4\n",
       "Complaint withdrawn                                                            4\n",
       "Mech unable to contact complainant                                             3\n",
       "Name: If No DR, Why?, dtype: int64"
      ]
     },
     "execution_count": 89,
     "metadata": {},
     "output_type": "execute_result"
    }
   ],
   "source": [
    "pd.value_counts(ac['If No DR, Why?'])"
   ]
  },
  {
   "cell_type": "markdown",
   "metadata": {},
   "source": [
    "\"Complaint originally deemed ineligible\" and \"Mech doesn't offer PS, or PS was not an option in this case\" are worth digging into "
   ]
  },
  {
   "cell_type": "markdown",
   "metadata": {},
   "source": [
    "##  Compliance Review"
   ]
  },
  {
   "cell_type": "code",
   "execution_count": 90,
   "metadata": {
    "collapsed": true
   },
   "outputs": [
    {
     "data": {
      "text/plain": [
       "Compliance Review Start\n",
       "1994.0     1\n",
       "1997.0     1\n",
       "1999.0     1\n",
       "2000.0     3\n",
       "2001.0     3\n",
       "2002.0     2\n",
       "2003.0     1\n",
       "2004.0     3\n",
       "2005.0     3\n",
       "2006.0     3\n",
       "2007.0     8\n",
       "2008.0     4\n",
       "2009.0    10\n",
       "2010.0    14\n",
       "2011.0    14\n",
       "2012.0    20\n",
       "2013.0    18\n",
       "2014.0    14\n",
       "2015.0    18\n",
       "Name: Compliance Review Start, dtype: int64"
      ]
     },
     "execution_count": 90,
     "metadata": {},
     "output_type": "execute_result"
    }
   ],
   "source": [
    "ac['Compliance Review Start'].groupby([ac['Compliance Review Start'].dt.year]).agg('count')"
   ]
  },
  {
   "cell_type": "code",
   "execution_count": 91,
   "metadata": {
    "collapsed": false
   },
   "outputs": [
    {
     "data": {
      "text/plain": [
       "count                     141\n",
       "unique                    131\n",
       "top       2015-06-01 00:00:00\n",
       "freq                        3\n",
       "first     1994-12-16 00:00:00\n",
       "last      2015-12-03 00:00:00\n",
       "Name: Compliance Review Start, dtype: object"
      ]
     },
     "execution_count": 91,
     "metadata": {},
     "output_type": "execute_result"
    }
   ],
   "source": [
    "ac['Compliance Review Start'].describe()"
   ]
  },
  {
   "cell_type": "code",
   "execution_count": 92,
   "metadata": {
    "collapsed": true
   },
   "outputs": [
    {
     "data": {
      "text/plain": [
       "Compliance Review End\n",
       "1995.0     1\n",
       "1998.0     1\n",
       "2000.0     2\n",
       "2001.0     1\n",
       "2002.0     2\n",
       "2003.0     2\n",
       "2004.0     2\n",
       "2005.0     2\n",
       "2006.0     5\n",
       "2007.0     2\n",
       "2008.0     6\n",
       "2009.0    10\n",
       "2010.0    11\n",
       "2011.0    13\n",
       "2012.0     9\n",
       "2013.0    13\n",
       "2014.0    16\n",
       "2015.0    12\n",
       "Name: Compliance Review End, dtype: int64"
      ]
     },
     "execution_count": 92,
     "metadata": {},
     "output_type": "execute_result"
    }
   ],
   "source": [
    "ac['Compliance Review End'].groupby([ac['Compliance Review End'].dt.year]).agg('count')"
   ]
  },
  {
   "cell_type": "code",
   "execution_count": 93,
   "metadata": {
    "collapsed": true
   },
   "outputs": [
    {
     "data": {
      "text/plain": [
       "count                     110\n",
       "unique                    105\n",
       "top       2010-10-15 00:00:00\n",
       "freq                        2\n",
       "first     1995-06-16 00:00:00\n",
       "last      2015-12-03 00:00:00\n",
       "Name: Compliance Review End, dtype: object"
      ]
     },
     "execution_count": 93,
     "metadata": {},
     "output_type": "execute_result"
    }
   ],
   "source": [
    "ac['Compliance Review End'].describe()"
   ]
  },
  {
   "cell_type": "code",
   "execution_count": null,
   "metadata": {
    "collapsed": true
   },
   "outputs": [],
   "source": [
    "# Compliance Time Frame Delta "
   ]
  },
  {
   "cell_type": "code",
   "execution_count": 95,
   "metadata": {
    "collapsed": false
   },
   "outputs": [
    {
     "data": {
      "text/plain": [
       "False    728\n",
       "True      87\n",
       "Name: Compliance Report Issued, dtype: int64"
      ]
     },
     "execution_count": 95,
     "metadata": {},
     "output_type": "execute_result"
    }
   ],
   "source": [
    "# Resolution Status Distribution\n",
    "pd.value_counts(ac['Compliance Report Issued'])"
   ]
  },
  {
   "cell_type": "code",
   "execution_count": 96,
   "metadata": {
    "collapsed": true
   },
   "outputs": [],
   "source": [
    "## Dig into the compliance report itself... what is it? "
   ]
  },
  {
   "cell_type": "code",
   "execution_count": 97,
   "metadata": {
    "collapsed": false
   },
   "outputs": [
    {
     "data": {
      "text/plain": [
       "Complaint originally deemed ineligible                                                  407\n",
       "Rejected at appraisal or similar                                                         47\n",
       "IAM deemed unnecessary or inappropriate                                                  47\n",
       "Not yet at CR stage                                                                      37\n",
       "Case settled in PS, so CR not offered                                                    34\n",
       "Matter resolved outside of mechanism                                                     18\n",
       "Board did not authorize                                                                   7\n",
       "Mech doesn't offer CR, or CR was not an option in this case                               6\n",
       "Complainant did not refile                                                                6\n",
       "IFI funding or consideration of project ended                                             6\n",
       "Complaint withdrawn                                                                       5\n",
       "Complainant did not request                                                               4\n",
       "Complaint not registered because mech deemed issue settled in Pilot or similar stage      2\n",
       "Mech not able to contact complainant                                                      1\n",
       "Complaint was originally found ineligible or not registered                               1\n",
       "Not yet at CR stage, Rejected at appraisal or similar                                     1\n",
       "Name: If No CR, Why?, dtype: int64"
      ]
     },
     "execution_count": 97,
     "metadata": {},
     "output_type": "execute_result"
    }
   ],
   "source": [
    "pd.value_counts(ac['If No CR, Why?'])"
   ]
  },
  {
   "cell_type": "markdown",
   "metadata": {},
   "source": [
    "##  Monitoring "
   ]
  },
  {
   "cell_type": "code",
   "execution_count": 98,
   "metadata": {
    "collapsed": true
   },
   "outputs": [
    {
     "data": {
      "text/plain": [
       "Monitoring Start\n",
       "2001.0     1\n",
       "2003.0     2\n",
       "2004.0     3\n",
       "2005.0     2\n",
       "2006.0     7\n",
       "2007.0     4\n",
       "2008.0     5\n",
       "2009.0     9\n",
       "2010.0    10\n",
       "2011.0     7\n",
       "2012.0    10\n",
       "2013.0    10\n",
       "2014.0    14\n",
       "2015.0    10\n",
       "Name: Monitoring Start, dtype: int64"
      ]
     },
     "execution_count": 98,
     "metadata": {},
     "output_type": "execute_result"
    }
   ],
   "source": [
    "ac['Monitoring Start'].groupby([ac['Monitoring Start'].dt.year]).agg('count')"
   ]
  },
  {
   "cell_type": "code",
   "execution_count": 99,
   "metadata": {
    "collapsed": false
   },
   "outputs": [
    {
     "data": {
      "text/plain": [
       "count                      94\n",
       "unique                     85\n",
       "top       2006-07-01 00:00:00\n",
       "freq                        3\n",
       "first     2001-06-01 00:00:00\n",
       "last      2015-10-29 00:00:00\n",
       "Name: Monitoring Start, dtype: object"
      ]
     },
     "execution_count": 99,
     "metadata": {},
     "output_type": "execute_result"
    }
   ],
   "source": [
    "ac['Monitoring Start'].describe()"
   ]
  },
  {
   "cell_type": "code",
   "execution_count": 100,
   "metadata": {
    "collapsed": true
   },
   "outputs": [
    {
     "data": {
      "text/plain": [
       "Monitoring End\n",
       "2005.0     5\n",
       "2006.0     4\n",
       "2007.0     2\n",
       "2008.0     1\n",
       "2009.0     5\n",
       "2010.0     9\n",
       "2011.0     5\n",
       "2012.0     7\n",
       "2013.0     6\n",
       "2014.0    10\n",
       "2015.0     9\n",
       "Name: Monitoring End, dtype: int64"
      ]
     },
     "execution_count": 100,
     "metadata": {},
     "output_type": "execute_result"
    }
   ],
   "source": [
    "ac['Monitoring End'].groupby([ac['Monitoring End'].dt.year]).agg('count')"
   ]
  },
  {
   "cell_type": "code",
   "execution_count": 101,
   "metadata": {
    "collapsed": false
   },
   "outputs": [
    {
     "data": {
      "text/plain": [
       "count                      63\n",
       "unique                     61\n",
       "top       2013-06-01 00:00:00\n",
       "freq                        2\n",
       "first     2005-01-01 00:00:00\n",
       "last      2015-12-10 00:00:00\n",
       "Name: Monitoring End, dtype: object"
      ]
     },
     "execution_count": 101,
     "metadata": {},
     "output_type": "execute_result"
    }
   ],
   "source": [
    "ac['Monitoring End'].describe()"
   ]
  },
  {
   "cell_type": "code",
   "execution_count": null,
   "metadata": {
    "collapsed": true
   },
   "outputs": [],
   "source": [
    "# Monitoring Time Frame Delta "
   ]
  },
  {
   "cell_type": "code",
   "execution_count": 102,
   "metadata": {
    "collapsed": false
   },
   "outputs": [
    {
     "data": {
      "text/plain": [
       "Complaint originally deemed ineligible                        388\n",
       "Case closed before monitoring                                 163\n",
       "Not at monitoring stage yet                                    69\n",
       "Complaint originally deemed ineligible or not registered       22\n",
       "Monitoring not contemplated                                    20\n",
       "Case was closed before monitoring                               5\n",
       "Lack of follow-through                                          2\n",
       "Case closed before monitoring, Not at monitoring stage yet      1\n",
       "Project already ended                                           1\n",
       "Board deemed monitoring unnecessary                             1\n",
       "N/A because monitoring occurred                                 1\n",
       "Name: If No Monitoring, Why?, dtype: int64"
      ]
     },
     "execution_count": 102,
     "metadata": {},
     "output_type": "execute_result"
    }
   ],
   "source": [
    "pd.value_counts(ac['If No Monitoring, Why?'])"
   ]
  },
  {
   "cell_type": "markdown",
   "metadata": {},
   "source": [
    "## Date Closed"
   ]
  },
  {
   "cell_type": "code",
   "execution_count": 103,
   "metadata": {
    "collapsed": false
   },
   "outputs": [
    {
     "data": {
      "text/plain": [
       "count                     549\n",
       "unique                    153\n",
       "top       2013-07-01 00:00:00\n",
       "freq                       14\n",
       "first     1995-04-01 00:00:00\n",
       "last      2015-12-01 00:00:00\n",
       "Name: Date Closed, dtype: object"
      ]
     },
     "execution_count": 103,
     "metadata": {},
     "output_type": "execute_result"
    }
   ],
   "source": [
    "ac['Date Closed'].describe()"
   ]
  },
  {
   "cell_type": "markdown",
   "metadata": {},
   "source": [
    "# Text Fields\n",
    "## If No Eligibility, Why?"
   ]
  },
  {
   "cell_type": "code",
   "execution_count": 69,
   "metadata": {
    "collapsed": false
   },
   "outputs": [
    {
     "data": {
      "text/plain": [
       "count                                203\n",
       "unique                                64\n",
       "top       Not within mechanism's mandate\n",
       "freq                                  31\n",
       "Name: If No Eligibility, Why?, dtype: object"
      ]
     },
     "execution_count": 69,
     "metadata": {},
     "output_type": "execute_result"
    }
   ],
   "source": [
    "ac['If No Eligibility, Why?'].describe()"
   ]
  },
  {
   "cell_type": "code",
   "execution_count": 71,
   "metadata": {
    "collapsed": false
   },
   "outputs": [
    {
     "data": {
      "text/plain": [
       "Not within mechanism's mandate                                                                                                       31\n",
       "Good faith requirement not met                                                                                                       24\n",
       "Mechanism forwarded complaint to another division within the Bank, Not within mechanism's mandate                                    13\n",
       "DFI not financing project                                                                                                            12\n",
       "Mechanism forwarded complaint to another division within the Bank, Not within mechanism's mandate, Raised procurement issues          8\n",
       "Not filed by project affected people                                                                                                  7\n",
       "Raised procurement issues                                                                                                             6\n",
       "Management is addressing or has addressed concerns                                                                                    6\n",
       "Not yet at eligibility determination stage                                                                                            6\n",
       "Mechanism addressed complaint outside process                                                                                         5\n",
       "Mechanism forwarded complaint to another division within the Bank, Raised procurement issues                                          4\n",
       "Mechanism forwarded complaint to management, Raised procurement issues                                                                4\n",
       "Bank loan repaid                                                                                                                      3\n",
       "Parallel proceedings                                                                                                                  3\n",
       "Mechanism forwarded complaint to management                                                                                           3\n",
       "Other                                                                                                                                 3\n",
       "Complainants decided to address issues with management                                                                                3\n",
       "Complaint was withdrawn                                                                                                               3\n",
       "Same issues raised in prior complaint                                                                                                 3\n",
       "Mechanism forwarded complaint to another division within the Bank, Not within mechanism's mandate, Raised fraud/corruption issues     3\n",
       "Name: If No Eligibility, Why?, dtype: int64"
      ]
     },
     "execution_count": 71,
     "metadata": {},
     "output_type": "execute_result"
    }
   ],
   "source": [
    "pd.value_counts(ac['If No Eligibility, Why?']).head(20)"
   ]
  }
 ],
 "metadata": {
  "kernelspec": {
   "display_name": "Python 2",
   "language": "python",
   "name": "python2"
  },
  "language_info": {
   "codemirror_mode": {
    "name": "ipython",
    "version": 2
   },
   "file_extension": ".py",
   "mimetype": "text/x-python",
   "name": "python",
   "nbconvert_exporter": "python",
   "pygments_lexer": "ipython2",
   "version": "2.7.14"
  }
 },
 "nbformat": 4,
 "nbformat_minor": 2
}
