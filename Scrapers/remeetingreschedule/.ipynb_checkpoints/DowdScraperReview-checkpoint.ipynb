{
 "cells": [
  {
   "cell_type": "code",
   "execution_count": null,
   "metadata": {},
   "outputs": [],
   "source": [
    "NameError: global name 'WebDriverWait' is not defined\n"
   ]
  },
  {
   "cell_type": "code",
   "execution_count": 7,
   "metadata": {},
   "outputs": [],
   "source": [
    "from builtins import str\n",
    "from builtins import range\n",
    "from builtins import object\n",
    "\n",
    "import time\n",
    "import unicodecsv\n",
    "from selenium import webdriver\n",
    "from selenium.webdriver.common.keys import Keys\n",
    "from selenium.webdriver.support.ui import WebDriverWait # available since 2.4.0\n",
    "\n",
    "from selenium.common.exceptions import NoSuchElementException\n",
    "# from accountability_console.models import Complaint, IAM"
   ]
  },
  {
   "cell_type": "code",
   "execution_count": 11,
   "metadata": {},
   "outputs": [],
   "source": [
    "driver = webdriver.Chrome()\n",
    "\n",
    "driver.get('http://www.eib.org/about/accountability/complaints/cases/index.htm')\n"
   ]
  },
  {
   "cell_type": "code",
   "execution_count": 12,
   "metadata": {},
   "outputs": [],
   "source": [
    "select_all = driver.find_element_by_xpath('//*[@id=\"consultationsList\"]/div/div[3]/div[1]/select/option[5]')"
   ]
  },
  {
   "cell_type": "code",
   "execution_count": 14,
   "metadata": {},
   "outputs": [],
   "source": [
    "select_all.click()"
   ]
  },
  {
   "cell_type": "code",
   "execution_count": 18,
   "metadata": {},
   "outputs": [],
   "source": [
    "# button = driver.find_element_by_xpath('//*[@id=\"helpUsWebsite\"]/div/div[2]/a[1]').click()\n",
    "# button = driver.find_element_by_xpath('//*[@id=\"footer\"]/div[3]/div[2]/div/p/button').click()\n",
    "# driver.find_element_by_tag_name('body').send_keys(Keys.CONTROL + Keys.HOME)\n",
    "rows = driver.find_elements_by_xpath('//*[@id=\"consultationsList\"]/div/table/tbody/tr')\n"
   ]
  },
  {
   "cell_type": "code",
   "execution_count": null,
   "metadata": {},
   "outputs": [],
   "source": []
  },
  {
   "cell_type": "code",
   "execution_count": 8,
   "metadata": {},
   "outputs": [],
   "source": [
    "\n",
    "def scrape():\n",
    "    with open('eib_scraped.csv', 'wb') as file:\n",
    "        writer = unicodecsv.writer(file)\n",
    "        header = [\n",
    "            'IAM',\n",
    "            'Year',\n",
    "            'Country',\n",
    "            'Project',\n",
    "            'ID',\n",
    "            'IAM ID',\n",
    "            'Filer(s)',\n",
    "            'Environmental Category',\n",
    "            'Project Company',\n",
    "            'Project Number',\n",
    "            'Related Project Number',\n",
    "            'Project Type',\n",
    "            'Financial Institution',\n",
    "            'Project Loan Amount',\n",
    "            'Sector',\n",
    "            'Issues',\n",
    "            'Complaint Status',\n",
    "            'Filing Date',\n",
    "            'Registration Start Date',\n",
    "            'Registration End Date',\n",
    "            'Eligibility Start Date',\n",
    "            'Eligibility End Date',\n",
    "            'Dispute Resolution Start Date',\n",
    "            'Dispute Resolution End Date',\n",
    "            'Compliance Review Start Date',\n",
    "            'Compliance Review End Date',\n",
    "            'Monitoring Start Date',\n",
    "            'Monitoring End Date',\n",
    "            'Date Closed',\n",
    "            'Documents',\n",
    "            'Hyperlink',\n",
    "            'Project Date',\n",
    "            'Project Status',\n",
    "            'Project Description',\n",
    "        ]\n",
    "        writer.writerow(header)\n",
    "        driver = webdriver.Chrome()\n",
    "        eib_scrape(driver, writer)\n",
    "        time.sleep(2)\n",
    "        driver.quit()\n",
    "\n",
    "def eib_scrape(driver, writer):\n",
    "    driver.get('http://www.eib.org/about/accountability/complaints/cases/index.htm')\n",
    "    time.sleep(2)\n",
    "    select_all = driver.find_element_by_xpath('//*[@id=\"consultationsList\"]/div/div[3]/div[1]/select/option[5]')\n",
    "    select_all.click()\n",
    "    time.sleep(2)\n",
    "#     button = driver.find_element_by_xpath('//*[@id=\"helpUsWebsite\"]/div/div[2]/a[1]').click()\n",
    "#     time.sleep(1)\n",
    "    button = driver.find_element_by_xpath('//*[@id=\"footer\"]/div[3]/div[2]/div/p/button').click()\n",
    "    time.sleep(1)\n",
    "    driver.find_element_by_tag_name('body').send_keys(Keys.CONTROL + Keys.HOME)\n",
    "    time.sleep(1)\n",
    "    rows = driver.find_elements_by_xpath('//*[@id=\"consultationsList\"]/div/table/tbody/tr')\n",
    "    row_range = range(1, len(rows)+1)\n",
    "    for row in row_range:\n",
    "        case_type = driver.find_element_by_xpath('//*[@id=\"consultationsList\"]/div/table/tbody/tr[%s]/td[2]' % row).text\n",
    "        if case_type == 'E':\n",
    "            filing_date = driver.find_element_by_xpath('//*[@id=\"consultationsList\"]/div/table/tbody/tr[%s]/td[1]' % row).text\n",
    "            complaint_status = driver.find_element_by_xpath('//*[@id=\"consultationsList\"]/div/table/tbody/tr[%s]/td[7]' % row).text\n",
    "            project_link = driver.find_element_by_xpath('//*[@id=\"consultationsList\"]/div/table/tbody/tr[%s]/td[3]/a' % row)\n",
    "            project = project_link.text\n",
    "            country = driver.find_element_by_xpath('//*[@id=\"consultationsList\"]/div/table/tbody/tr[%s]/td[4]' % row).text\n",
    "            year = filing_date[-4:]\n",
    "            project_link.click()\n",
    "            time.sleep(1)\n",
    "            case_text = driver.find_element_by_xpath('//*[@id=\"consultations\"]').text\n",
    "            junk, case_text = case_text.split('Reference: ', 1)\n",
    "            case_id, junk = case_text.split('\\n', 1)\n",
    "            try: \n",
    "                junk, case_text = case_text.strip().split('Complainant: ', 1)\n",
    "                filer, junk = case_text.split('\\n', 1)\n",
    "            except ValueError:\n",
    "                print('Error')\n",
    "            registration_start_date = filing_date\n",
    "            try:\n",
    "                registration_end_date = driver.find_element_by_xpath('//*[@id=\"consultations\"]/div[1]/div[1]/div[2]').text\n",
    "                eligibility_start_date = registration_end_date\n",
    "                eligibility_end_date = driver.find_element_by_xpath('//*[@id=\"consultations\"]/div[1]/div[2]/div[2]').text\n",
    "                cr_start_date = driver.find_element_by_xpath('//*[@id=\"consultations\"]/div[1]/div[3]/div[2]').text\n",
    "                dr_end_date = driver.find_element_by_xpath('//*[@id=\"consultations\"]/div[1]/div[4]/div[2]').text\n",
    "                cr_end_date = driver.find_element_by_xpath('//*[@id=\"consultations\"]/div[1]/div[5]/div[2]').text\n",
    "                date_closed = driver.find_element_by_xpath('//*[@id=\"consultations\"]/div[1]/div[6]/div[2]').text\n",
    "                monitoring_end_date = driver.find_element_by_xpath('//*[@id=\"consultations\"]/div[1]/div[7]/div[2]').text\n",
    "            except NoSuchElementException:\n",
    "                print ('No Date')\n",
    "            row_data = [\n",
    "                'EIB',\n",
    "                year,\n",
    "                country,\n",
    "                project,\n",
    "                case_id,\n",
    "                29,\n",
    "                filer,\n",
    "                None,\n",
    "                None,\n",
    "                None,\n",
    "                None,\n",
    "                None,\n",
    "                None,\n",
    "                None,\n",
    "                None,\n",
    "                None,\n",
    "                complaint_status,\n",
    "                filing_date,\n",
    "                registration_start_date,\n",
    "                registration_end_date,\n",
    "                eligibility_start_date,\n",
    "                eligibility_end_date,\n",
    "                None,\n",
    "                dr_end_date,\n",
    "                cr_start_date,\n",
    "                cr_end_date,\n",
    "                None,\n",
    "                monitoring_end_date,\n",
    "                date_closed,\n",
    "                None,\n",
    "                driver.current_url,\n",
    "            ]\n",
    "            writer.writerow(row_data)\n",
    "            print(row_data)\n",
    "            driver.execute_script('window.history.go(-1)')\n",
    "            time.sleep(0.7)\n",
    "            select_all = driver.find_element_by_xpath('//*[@id=\"consultationsList\"]/div/div[3]/div[1]/select/option[5]')\n",
    "            select_all.click()\n",
    "            time.sleep(2)\n",
    "            driver.find_element_by_tag_name('body').send_keys(Keys.CONTROL + Keys.HOME)\n",
    "            time.sleep(1)\n",
    "            scroll_modifier = int(row) * 40\n",
    "            driver.execute_script(\"window.scrollTo(0, %s)\" % scroll_modifier) "
   ]
  },
  {
   "cell_type": "code",
   "execution_count": 9,
   "metadata": {},
   "outputs": [
    {
     "ename": "ElementNotVisibleException",
     "evalue": "Message: element not visible\n  (Session info: chrome=66.0.3359.139)\n  (Driver info: chromedriver=2.38.552518 (183d19265345f54ce39cbb94cf81ba5f15905011),platform=Mac OS X 10.12.5 x86_64)\n",
     "output_type": "error",
     "traceback": [
      "\u001b[0;31m---------------------------------------------------------------------------\u001b[0m",
      "\u001b[0;31mElementNotVisibleException\u001b[0m                Traceback (most recent call last)",
      "\u001b[0;32m<ipython-input-9-20ef00fd5394>\u001b[0m in \u001b[0;36m<module>\u001b[0;34m()\u001b[0m\n\u001b[0;32m----> 1\u001b[0;31m \u001b[0mscrape\u001b[0m\u001b[0;34m(\u001b[0m\u001b[0;34m)\u001b[0m\u001b[0;34m\u001b[0m\u001b[0m\n\u001b[0m",
      "\u001b[0;32m<ipython-input-8-6b8e87791915>\u001b[0m in \u001b[0;36mscrape\u001b[0;34m()\u001b[0m\n\u001b[1;32m     53\u001b[0m         \u001b[0mwriter\u001b[0m\u001b[0;34m.\u001b[0m\u001b[0mwriterow\u001b[0m\u001b[0;34m(\u001b[0m\u001b[0mheader\u001b[0m\u001b[0;34m)\u001b[0m\u001b[0;34m\u001b[0m\u001b[0m\n\u001b[1;32m     54\u001b[0m         \u001b[0mdriver\u001b[0m \u001b[0;34m=\u001b[0m \u001b[0mwebdriver\u001b[0m\u001b[0;34m.\u001b[0m\u001b[0mChrome\u001b[0m\u001b[0;34m(\u001b[0m\u001b[0;34m)\u001b[0m\u001b[0;34m\u001b[0m\u001b[0m\n\u001b[0;32m---> 55\u001b[0;31m         \u001b[0meib_scrape\u001b[0m\u001b[0;34m(\u001b[0m\u001b[0mdriver\u001b[0m\u001b[0;34m,\u001b[0m \u001b[0mwriter\u001b[0m\u001b[0;34m)\u001b[0m\u001b[0;34m\u001b[0m\u001b[0m\n\u001b[0m\u001b[1;32m     56\u001b[0m         \u001b[0mtime\u001b[0m\u001b[0;34m.\u001b[0m\u001b[0msleep\u001b[0m\u001b[0;34m(\u001b[0m\u001b[0;36m2\u001b[0m\u001b[0;34m)\u001b[0m\u001b[0;34m\u001b[0m\u001b[0m\n\u001b[1;32m     57\u001b[0m         \u001b[0mdriver\u001b[0m\u001b[0;34m.\u001b[0m\u001b[0mquit\u001b[0m\u001b[0;34m(\u001b[0m\u001b[0;34m)\u001b[0m\u001b[0;34m\u001b[0m\u001b[0m\n",
      "\u001b[0;32m<ipython-input-8-6b8e87791915>\u001b[0m in \u001b[0;36meib_scrape\u001b[0;34m(driver, writer)\u001b[0m\n\u001b[1;32m     63\u001b[0m     \u001b[0mselect_all\u001b[0m\u001b[0;34m.\u001b[0m\u001b[0mclick\u001b[0m\u001b[0;34m(\u001b[0m\u001b[0;34m)\u001b[0m\u001b[0;34m\u001b[0m\u001b[0m\n\u001b[1;32m     64\u001b[0m     \u001b[0mtime\u001b[0m\u001b[0;34m.\u001b[0m\u001b[0msleep\u001b[0m\u001b[0;34m(\u001b[0m\u001b[0;36m2\u001b[0m\u001b[0;34m)\u001b[0m\u001b[0;34m\u001b[0m\u001b[0m\n\u001b[0;32m---> 65\u001b[0;31m     \u001b[0mbutton\u001b[0m \u001b[0;34m=\u001b[0m \u001b[0mdriver\u001b[0m\u001b[0;34m.\u001b[0m\u001b[0mfind_element_by_xpath\u001b[0m\u001b[0;34m(\u001b[0m\u001b[0;34m'//*[@id=\"helpUsWebsite\"]/div/div[2]/a[1]'\u001b[0m\u001b[0;34m)\u001b[0m\u001b[0;34m.\u001b[0m\u001b[0mclick\u001b[0m\u001b[0;34m(\u001b[0m\u001b[0;34m)\u001b[0m\u001b[0;34m\u001b[0m\u001b[0m\n\u001b[0m\u001b[1;32m     66\u001b[0m     \u001b[0mtime\u001b[0m\u001b[0;34m.\u001b[0m\u001b[0msleep\u001b[0m\u001b[0;34m(\u001b[0m\u001b[0;36m1\u001b[0m\u001b[0;34m)\u001b[0m\u001b[0;34m\u001b[0m\u001b[0m\n\u001b[1;32m     67\u001b[0m     \u001b[0mbutton\u001b[0m \u001b[0;34m=\u001b[0m \u001b[0mdriver\u001b[0m\u001b[0;34m.\u001b[0m\u001b[0mfind_element_by_xpath\u001b[0m\u001b[0;34m(\u001b[0m\u001b[0;34m'//*[@id=\"footer\"]/div[3]/div[2]/div/p/button'\u001b[0m\u001b[0;34m)\u001b[0m\u001b[0;34m.\u001b[0m\u001b[0mclick\u001b[0m\u001b[0;34m(\u001b[0m\u001b[0;34m)\u001b[0m\u001b[0;34m\u001b[0m\u001b[0m\n",
      "\u001b[0;32m/Users/michaeldowd/anaconda/lib/python2.7/site-packages/selenium/webdriver/remote/webelement.pyc\u001b[0m in \u001b[0;36mclick\u001b[0;34m(self)\u001b[0m\n\u001b[1;32m     78\u001b[0m     \u001b[0;32mdef\u001b[0m \u001b[0mclick\u001b[0m\u001b[0;34m(\u001b[0m\u001b[0mself\u001b[0m\u001b[0;34m)\u001b[0m\u001b[0;34m:\u001b[0m\u001b[0;34m\u001b[0m\u001b[0m\n\u001b[1;32m     79\u001b[0m         \u001b[0;34m\"\"\"Clicks the element.\"\"\"\u001b[0m\u001b[0;34m\u001b[0m\u001b[0m\n\u001b[0;32m---> 80\u001b[0;31m         \u001b[0mself\u001b[0m\u001b[0;34m.\u001b[0m\u001b[0m_execute\u001b[0m\u001b[0;34m(\u001b[0m\u001b[0mCommand\u001b[0m\u001b[0;34m.\u001b[0m\u001b[0mCLICK_ELEMENT\u001b[0m\u001b[0;34m)\u001b[0m\u001b[0;34m\u001b[0m\u001b[0m\n\u001b[0m\u001b[1;32m     81\u001b[0m \u001b[0;34m\u001b[0m\u001b[0m\n\u001b[1;32m     82\u001b[0m     \u001b[0;32mdef\u001b[0m \u001b[0msubmit\u001b[0m\u001b[0;34m(\u001b[0m\u001b[0mself\u001b[0m\u001b[0;34m)\u001b[0m\u001b[0;34m:\u001b[0m\u001b[0;34m\u001b[0m\u001b[0m\n",
      "\u001b[0;32m/Users/michaeldowd/anaconda/lib/python2.7/site-packages/selenium/webdriver/remote/webelement.pyc\u001b[0m in \u001b[0;36m_execute\u001b[0;34m(self, command, params)\u001b[0m\n\u001b[1;32m    626\u001b[0m             \u001b[0mparams\u001b[0m \u001b[0;34m=\u001b[0m \u001b[0;34m{\u001b[0m\u001b[0;34m}\u001b[0m\u001b[0;34m\u001b[0m\u001b[0m\n\u001b[1;32m    627\u001b[0m         \u001b[0mparams\u001b[0m\u001b[0;34m[\u001b[0m\u001b[0;34m'id'\u001b[0m\u001b[0;34m]\u001b[0m \u001b[0;34m=\u001b[0m \u001b[0mself\u001b[0m\u001b[0;34m.\u001b[0m\u001b[0m_id\u001b[0m\u001b[0;34m\u001b[0m\u001b[0m\n\u001b[0;32m--> 628\u001b[0;31m         \u001b[0;32mreturn\u001b[0m \u001b[0mself\u001b[0m\u001b[0;34m.\u001b[0m\u001b[0m_parent\u001b[0m\u001b[0;34m.\u001b[0m\u001b[0mexecute\u001b[0m\u001b[0;34m(\u001b[0m\u001b[0mcommand\u001b[0m\u001b[0;34m,\u001b[0m \u001b[0mparams\u001b[0m\u001b[0;34m)\u001b[0m\u001b[0;34m\u001b[0m\u001b[0m\n\u001b[0m\u001b[1;32m    629\u001b[0m \u001b[0;34m\u001b[0m\u001b[0m\n\u001b[1;32m    630\u001b[0m     \u001b[0;32mdef\u001b[0m \u001b[0mfind_element\u001b[0m\u001b[0;34m(\u001b[0m\u001b[0mself\u001b[0m\u001b[0;34m,\u001b[0m \u001b[0mby\u001b[0m\u001b[0;34m=\u001b[0m\u001b[0mBy\u001b[0m\u001b[0;34m.\u001b[0m\u001b[0mID\u001b[0m\u001b[0;34m,\u001b[0m \u001b[0mvalue\u001b[0m\u001b[0;34m=\u001b[0m\u001b[0mNone\u001b[0m\u001b[0;34m)\u001b[0m\u001b[0;34m:\u001b[0m\u001b[0;34m\u001b[0m\u001b[0m\n",
      "\u001b[0;32m/Users/michaeldowd/anaconda/lib/python2.7/site-packages/selenium/webdriver/remote/webdriver.pyc\u001b[0m in \u001b[0;36mexecute\u001b[0;34m(self, driver_command, params)\u001b[0m\n\u001b[1;32m    310\u001b[0m         \u001b[0mresponse\u001b[0m \u001b[0;34m=\u001b[0m \u001b[0mself\u001b[0m\u001b[0;34m.\u001b[0m\u001b[0mcommand_executor\u001b[0m\u001b[0;34m.\u001b[0m\u001b[0mexecute\u001b[0m\u001b[0;34m(\u001b[0m\u001b[0mdriver_command\u001b[0m\u001b[0;34m,\u001b[0m \u001b[0mparams\u001b[0m\u001b[0;34m)\u001b[0m\u001b[0;34m\u001b[0m\u001b[0m\n\u001b[1;32m    311\u001b[0m         \u001b[0;32mif\u001b[0m \u001b[0mresponse\u001b[0m\u001b[0;34m:\u001b[0m\u001b[0;34m\u001b[0m\u001b[0m\n\u001b[0;32m--> 312\u001b[0;31m             \u001b[0mself\u001b[0m\u001b[0;34m.\u001b[0m\u001b[0merror_handler\u001b[0m\u001b[0;34m.\u001b[0m\u001b[0mcheck_response\u001b[0m\u001b[0;34m(\u001b[0m\u001b[0mresponse\u001b[0m\u001b[0;34m)\u001b[0m\u001b[0;34m\u001b[0m\u001b[0m\n\u001b[0m\u001b[1;32m    313\u001b[0m             response['value'] = self._unwrap_value(\n\u001b[1;32m    314\u001b[0m                 response.get('value', None))\n",
      "\u001b[0;32m/Users/michaeldowd/anaconda/lib/python2.7/site-packages/selenium/webdriver/remote/errorhandler.pyc\u001b[0m in \u001b[0;36mcheck_response\u001b[0;34m(self, response)\u001b[0m\n\u001b[1;32m    240\u001b[0m                 \u001b[0malert_text\u001b[0m \u001b[0;34m=\u001b[0m \u001b[0mvalue\u001b[0m\u001b[0;34m[\u001b[0m\u001b[0;34m'alert'\u001b[0m\u001b[0;34m]\u001b[0m\u001b[0;34m.\u001b[0m\u001b[0mget\u001b[0m\u001b[0;34m(\u001b[0m\u001b[0;34m'text'\u001b[0m\u001b[0;34m)\u001b[0m\u001b[0;34m\u001b[0m\u001b[0m\n\u001b[1;32m    241\u001b[0m             \u001b[0;32mraise\u001b[0m \u001b[0mexception_class\u001b[0m\u001b[0;34m(\u001b[0m\u001b[0mmessage\u001b[0m\u001b[0;34m,\u001b[0m \u001b[0mscreen\u001b[0m\u001b[0;34m,\u001b[0m \u001b[0mstacktrace\u001b[0m\u001b[0;34m,\u001b[0m \u001b[0malert_text\u001b[0m\u001b[0;34m)\u001b[0m\u001b[0;34m\u001b[0m\u001b[0m\n\u001b[0;32m--> 242\u001b[0;31m         \u001b[0;32mraise\u001b[0m \u001b[0mexception_class\u001b[0m\u001b[0;34m(\u001b[0m\u001b[0mmessage\u001b[0m\u001b[0;34m,\u001b[0m \u001b[0mscreen\u001b[0m\u001b[0;34m,\u001b[0m \u001b[0mstacktrace\u001b[0m\u001b[0;34m)\u001b[0m\u001b[0;34m\u001b[0m\u001b[0m\n\u001b[0m\u001b[1;32m    243\u001b[0m \u001b[0;34m\u001b[0m\u001b[0m\n\u001b[1;32m    244\u001b[0m     \u001b[0;32mdef\u001b[0m \u001b[0m_value_or_default\u001b[0m\u001b[0;34m(\u001b[0m\u001b[0mself\u001b[0m\u001b[0;34m,\u001b[0m \u001b[0mobj\u001b[0m\u001b[0;34m,\u001b[0m \u001b[0mkey\u001b[0m\u001b[0;34m,\u001b[0m \u001b[0mdefault\u001b[0m\u001b[0;34m)\u001b[0m\u001b[0;34m:\u001b[0m\u001b[0;34m\u001b[0m\u001b[0m\n",
      "\u001b[0;31mElementNotVisibleException\u001b[0m: Message: element not visible\n  (Session info: chrome=66.0.3359.139)\n  (Driver info: chromedriver=2.38.552518 (183d19265345f54ce39cbb94cf81ba5f15905011),platform=Mac OS X 10.12.5 x86_64)\n"
     ]
    }
   ],
   "source": [
    "scrape()"
   ]
  },
  {
   "cell_type": "code",
   "execution_count": null,
   "metadata": {},
   "outputs": [],
   "source": []
  }
 ],
 "metadata": {
  "kernelspec": {
   "display_name": "Python 2",
   "language": "python",
   "name": "python2"
  },
  "language_info": {
   "codemirror_mode": {
    "name": "ipython",
    "version": 2
   },
   "file_extension": ".py",
   "mimetype": "text/x-python",
   "name": "python",
   "nbconvert_exporter": "python",
   "pygments_lexer": "ipython2",
   "version": "2.7.14"
  }
 },
 "nbformat": 4,
 "nbformat_minor": 2
}
