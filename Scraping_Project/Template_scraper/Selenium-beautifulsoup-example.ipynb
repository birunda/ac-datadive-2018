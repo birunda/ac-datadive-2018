{
 "cells": [
  {
   "cell_type": "code",
   "execution_count": null,
   "metadata": {},
   "outputs": [],
   "source": [
    "from selenium import webdriver\n",
    "import requests\n",
    "from bs4 import BeautifulSoup\n",
    "from selenium.webdriver.support.select import Select"
   ]
  },
  {
   "cell_type": "code",
   "execution_count": null,
   "metadata": {},
   "outputs": [],
   "source": [
    "driver = webdriver.Chrome()"
   ]
  },
  {
   "cell_type": "markdown",
   "metadata": {},
   "source": [
    "## EIB page source"
   ]
  },
  {
   "cell_type": "code",
   "execution_count": null,
   "metadata": {},
   "outputs": [],
   "source": [
    "def get_eib_page_content():\n",
    "    driver.get(\"http://www.eib.org/about/accountability/complaints/cases/index.htm\")\n",
    "    pagination_div = driver.find_element_by_class_name('dataTables_length')\n",
    "    pagination_select = Select(pagination_div.find_element_by_xpath('//select'))\n",
    "    # select 'ALL' to show all projects\n",
    "    pagination_select.select_by_visible_text('All')\n",
    "    page_content = BeautifulSoup(driver.page_source, 'html.parser')\n",
    "    return page_content"
   ]
  },
  {
   "cell_type": "code",
   "execution_count": null,
   "metadata": {},
   "outputs": [],
   "source": [
    "# prints all projects of EIB\n",
    "page_source = get_eib_page_content()\n",
    "project_table = page_source.find('table', {'class':'datatable'})\n",
    "project_rows = project_table.find_all('tr')\n",
    "for project_row in project_rows:\n",
    "    project_data = project_row.find_all('td')\n",
    "    if len(project_data) > 2:\n",
    "        print(project_data[2].text)"
   ]
  },
  {
   "cell_type": "markdown",
   "metadata": {},
   "source": [
    "## CAO page source"
   ]
  },
  {
   "cell_type": "code",
   "execution_count": null,
   "metadata": {},
   "outputs": [],
   "source": [
    "def get_cao_page_content():\n",
    "    driver.get(\"http://www.cao-ombudsman.org/cases/default.aspx\")\n",
    "    driver.find_element_by_id('ctl00_MainContent_btnSearch').click()\n",
    "    page_content = BeautifulSoup(driver.page_source, 'html.parser')\n",
    "    return page_content"
   ]
  },
  {
   "cell_type": "code",
   "execution_count": null,
   "metadata": {},
   "outputs": [],
   "source": [
    "# gets all project regions of CAO\n",
    "page_source = get_cao_page_content()\n",
    "project_results = page_source.find('div', {'id': 'ctl00_MainContent_divResults'})\n",
    "project_results.find_all('h3')"
   ]
  },
  {
   "cell_type": "code",
   "execution_count": null,
   "metadata": {},
   "outputs": [],
   "source": []
  }
 ],
 "metadata": {
  "kernelspec": {
   "display_name": "Python 3",
   "language": "python",
   "name": "python3"
  },
  "language_info": {
   "codemirror_mode": {
    "name": "ipython",
    "version": 3
   },
   "file_extension": ".py",
   "mimetype": "text/x-python",
   "name": "python",
   "nbconvert_exporter": "python",
   "pygments_lexer": "ipython3",
   "version": "3.6.5"
  }
 },
 "nbformat": 4,
 "nbformat_minor": 2
}
